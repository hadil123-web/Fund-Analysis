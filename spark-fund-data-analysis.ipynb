{
 "cells": [
  {
   "cell_type": "markdown",
   "metadata": {
    "papermill": {
     "duration": 0.072567,
     "end_time": "2020-10-28T02:24:14.765899",
     "exception": false,
     "start_time": "2020-10-28T02:24:14.693332",
     "status": "completed"
    },
    "tags": []
   },
   "source": [
    "<h1><font color='skyblue'>Spark Funds Investment Data Analysis EDA Assignment</font> </h1>\n",
    "\n",
    "---\n",
    "\n",
    "## Business Objective\n",
    "\n",
    "The objective is to identify the best sectors, countries, and a suitable investment type for making investments. The overall strategy is to invest where others are investing, implying that the 'best' sectors and countries are the ones 'where most investors are investing’.\n",
    "\n",
    "#### Business Condition\n",
    "<li>\n",
    "invest between 5 to 15 million USD per round of investment</li>\n",
    " <li>English-speaking countries\n",
    "</li>\n"
   ]
  },
  {
   "cell_type": "markdown",
   "metadata": {
    "papermill": {
     "duration": 0.06947,
     "end_time": "2020-10-28T02:24:14.906048",
     "exception": false,
     "start_time": "2020-10-28T02:24:14.836578",
     "status": "completed"
    },
    "tags": []
   },
   "source": [
    "##### --------Let's Begin ----------#####"
   ]
  },
  {
   "cell_type": "markdown",
   "metadata": {
    "papermill": {
     "duration": 0.070775,
     "end_time": "2020-10-28T02:24:15.047310",
     "exception": false,
     "start_time": "2020-10-28T02:24:14.976535",
     "status": "completed"
    },
    "tags": []
   },
   "source": [
    "### 1. Data Understanding/Exploration\n",
    "\n",
    "pd.read_csv function works normally but depends on the file we are parsing we need to use proper encoding and engine.\n",
    "here you will get utf-8' codec can't decode byte 0xa0 in position 25: invalid start byte error which simply says encoding is wrong.\n",
    "    https://docs.python.org/3/library/codecs.html#standard-encodings\n",
    "    https://stackoverflow.com/questions/22216076/unicodedecodeerror-utf8-codec-cant-decode-byte-0xa5-in-position-0-invalid-s\n",
    "    https://stackoverflow.com/questions/18171739/unicodedecodeerror-when-reading-csv-file-in-pandas-with-python\n",
    "    https://docs.python.org/3.3/howto/unicode.html\n",
    "    \n",
    "    Then we will do some basic operation to get look and feel of the data\n",
    "    - companies.head() -- Top 5 records \n",
    "    - companies.info() -- Basic details, column names, not nulls, type\n",
    "    - rounds2.isnull().sum() -- To check total null values by column \n",
    "    - Describe() - to. check mean mode median etc data points\n",
    "\n",
    "import chardet\n",
    "with open(\"projects.csv\", 'rb') as rawdata:\n",
    "    result = chardet.detect(rawdata.read(10000))\n",
    "\n",
    "--check what the character encoding might be good\n",
    "print(result)\n",
    "    "
   ]
  },
  {
   "cell_type": "code",
   "execution_count": 1,
   "metadata": {
    "execution": {
     "iopub.execute_input": "2020-10-28T02:24:15.196968Z",
     "iopub.status.busy": "2020-10-28T02:24:15.196144Z",
     "iopub.status.idle": "2020-10-28T02:24:17.621854Z",
     "shell.execute_reply": "2020-10-28T02:24:17.621119Z"
    },
    "papermill": {
     "duration": 2.503688,
     "end_time": "2020-10-28T02:24:17.621999",
     "exception": false,
     "start_time": "2020-10-28T02:24:15.118311",
     "status": "completed"
    },
    "tags": []
   },
   "outputs": [],
   "source": [
    "import pandas as pd\n",
    "import numpy as np\n",
    "companies = pd.read_csv('../input/companydata/companies.csv',encoding= 'unicode_escape', engine = 'python')\n",
    "rounds2 = pd.read_csv('../input/spark-fund-investment-analysis/datasets/rounds2.csv',encoding= 'unicode_escape', engine = 'python')"
   ]
  },
  {
   "cell_type": "code",
   "execution_count": 2,
   "metadata": {
    "execution": {
     "iopub.execute_input": "2020-10-28T02:24:17.787842Z",
     "iopub.status.busy": "2020-10-28T02:24:17.777381Z",
     "iopub.status.idle": "2020-10-28T02:24:17.800606Z",
     "shell.execute_reply": "2020-10-28T02:24:17.801228Z"
    },
    "papermill": {
     "duration": 0.104972,
     "end_time": "2020-10-28T02:24:17.801403",
     "exception": false,
     "start_time": "2020-10-28T02:24:17.696431",
     "status": "completed"
    },
    "tags": []
   },
   "outputs": [
    {
     "data": {
      "text/html": [
       "<div>\n",
       "<style scoped>\n",
       "    .dataframe tbody tr th:only-of-type {\n",
       "        vertical-align: middle;\n",
       "    }\n",
       "\n",
       "    .dataframe tbody tr th {\n",
       "        vertical-align: top;\n",
       "    }\n",
       "\n",
       "    .dataframe thead th {\n",
       "        text-align: right;\n",
       "    }\n",
       "</style>\n",
       "<table border=\"1\" class=\"dataframe\">\n",
       "  <thead>\n",
       "    <tr style=\"text-align: right;\">\n",
       "      <th></th>\n",
       "      <th>permalink</th>\n",
       "      <th>name</th>\n",
       "      <th>homepage_url</th>\n",
       "      <th>category_list</th>\n",
       "      <th>status</th>\n",
       "      <th>country_code</th>\n",
       "      <th>state_code</th>\n",
       "      <th>region</th>\n",
       "      <th>city</th>\n",
       "      <th>founded_at</th>\n",
       "    </tr>\n",
       "  </thead>\n",
       "  <tbody>\n",
       "    <tr>\n",
       "      <th>0</th>\n",
       "      <td>/Organization/-Fame</td>\n",
       "      <td>#fame</td>\n",
       "      <td>http://livfame.com</td>\n",
       "      <td>Media</td>\n",
       "      <td>operating</td>\n",
       "      <td>IND</td>\n",
       "      <td>16</td>\n",
       "      <td>Mumbai</td>\n",
       "      <td>Mumbai</td>\n",
       "      <td>NaN</td>\n",
       "    </tr>\n",
       "    <tr>\n",
       "      <th>1</th>\n",
       "      <td>/Organization/-Qounter</td>\n",
       "      <td>:Qounter</td>\n",
       "      <td>http://www.qounter.com</td>\n",
       "      <td>Application Platforms|Real Time|Social Network...</td>\n",
       "      <td>operating</td>\n",
       "      <td>USA</td>\n",
       "      <td>DE</td>\n",
       "      <td>DE - Other</td>\n",
       "      <td>Delaware City</td>\n",
       "      <td>04-09-2014</td>\n",
       "    </tr>\n",
       "    <tr>\n",
       "      <th>2</th>\n",
       "      <td>/Organization/-The-One-Of-Them-Inc-</td>\n",
       "      <td>(THE) ONE of THEM,Inc.</td>\n",
       "      <td>http://oneofthem.jp</td>\n",
       "      <td>Apps|Games|Mobile</td>\n",
       "      <td>operating</td>\n",
       "      <td>NaN</td>\n",
       "      <td>NaN</td>\n",
       "      <td>NaN</td>\n",
       "      <td>NaN</td>\n",
       "      <td>NaN</td>\n",
       "    </tr>\n",
       "    <tr>\n",
       "      <th>3</th>\n",
       "      <td>/Organization/0-6-Com</td>\n",
       "      <td>0-6.com</td>\n",
       "      <td>http://www.0-6.com</td>\n",
       "      <td>Curated Web</td>\n",
       "      <td>operating</td>\n",
       "      <td>CHN</td>\n",
       "      <td>22</td>\n",
       "      <td>Beijing</td>\n",
       "      <td>Beijing</td>\n",
       "      <td>01-01-2007</td>\n",
       "    </tr>\n",
       "    <tr>\n",
       "      <th>4</th>\n",
       "      <td>/Organization/004-Technologies</td>\n",
       "      <td>004 Technologies</td>\n",
       "      <td>http://004gmbh.de/en/004-interact</td>\n",
       "      <td>Software</td>\n",
       "      <td>operating</td>\n",
       "      <td>USA</td>\n",
       "      <td>IL</td>\n",
       "      <td>Springfield, Illinois</td>\n",
       "      <td>Champaign</td>\n",
       "      <td>01-01-2010</td>\n",
       "    </tr>\n",
       "  </tbody>\n",
       "</table>\n",
       "</div>"
      ],
      "text/plain": [
       "                             permalink                    name  \\\n",
       "0                  /Organization/-Fame                   #fame   \n",
       "1               /Organization/-Qounter                :Qounter   \n",
       "2  /Organization/-The-One-Of-Them-Inc-  (THE) ONE of THEM,Inc.   \n",
       "3                /Organization/0-6-Com                 0-6.com   \n",
       "4       /Organization/004-Technologies        004 Technologies   \n",
       "\n",
       "                        homepage_url  \\\n",
       "0                 http://livfame.com   \n",
       "1             http://www.qounter.com   \n",
       "2                http://oneofthem.jp   \n",
       "3                 http://www.0-6.com   \n",
       "4  http://004gmbh.de/en/004-interact   \n",
       "\n",
       "                                       category_list     status country_code  \\\n",
       "0                                              Media  operating          IND   \n",
       "1  Application Platforms|Real Time|Social Network...  operating          USA   \n",
       "2                                  Apps|Games|Mobile  operating          NaN   \n",
       "3                                        Curated Web  operating          CHN   \n",
       "4                                           Software  operating          USA   \n",
       "\n",
       "  state_code                 region           city  founded_at  \n",
       "0         16                 Mumbai         Mumbai         NaN  \n",
       "1         DE             DE - Other  Delaware City  04-09-2014  \n",
       "2        NaN                    NaN            NaN         NaN  \n",
       "3         22                Beijing        Beijing  01-01-2007  \n",
       "4         IL  Springfield, Illinois      Champaign  01-01-2010  "
      ]
     },
     "execution_count": 2,
     "metadata": {},
     "output_type": "execute_result"
    }
   ],
   "source": [
    "companies.head()"
   ]
  },
  {
   "cell_type": "code",
   "execution_count": 3,
   "metadata": {
    "execution": {
     "iopub.execute_input": "2020-10-28T02:24:18.034594Z",
     "iopub.status.busy": "2020-10-28T02:24:18.033816Z",
     "iopub.status.idle": "2020-10-28T02:24:18.048150Z",
     "shell.execute_reply": "2020-10-28T02:24:18.048802Z"
    },
    "papermill": {
     "duration": 0.170335,
     "end_time": "2020-10-28T02:24:18.048968",
     "exception": false,
     "start_time": "2020-10-28T02:24:17.878633",
     "status": "completed"
    },
    "tags": []
   },
   "outputs": [
    {
     "name": "stdout",
     "output_type": "stream",
     "text": [
      "<class 'pandas.core.frame.DataFrame'>\n",
      "RangeIndex: 66368 entries, 0 to 66367\n",
      "Data columns (total 10 columns):\n",
      " #   Column         Non-Null Count  Dtype \n",
      "---  ------         --------------  ----- \n",
      " 0   permalink      66368 non-null  object\n",
      " 1   name           66367 non-null  object\n",
      " 2   homepage_url   61310 non-null  object\n",
      " 3   category_list  63220 non-null  object\n",
      " 4   status         66368 non-null  object\n",
      " 5   country_code   59410 non-null  object\n",
      " 6   state_code     57821 non-null  object\n",
      " 7   region         58338 non-null  object\n",
      " 8   city           58340 non-null  object\n",
      " 9   founded_at     51147 non-null  object\n",
      "dtypes: object(10)\n",
      "memory usage: 5.1+ MB\n"
     ]
    }
   ],
   "source": [
    "companies.info()"
   ]
  },
  {
   "cell_type": "code",
   "execution_count": 4,
   "metadata": {
    "execution": {
     "iopub.execute_input": "2020-10-28T02:24:18.212233Z",
     "iopub.status.busy": "2020-10-28T02:24:18.211223Z",
     "iopub.status.idle": "2020-10-28T02:24:18.216269Z",
     "shell.execute_reply": "2020-10-28T02:24:18.215482Z"
    },
    "papermill": {
     "duration": 0.094432,
     "end_time": "2020-10-28T02:24:18.216394",
     "exception": false,
     "start_time": "2020-10-28T02:24:18.121962",
     "status": "completed"
    },
    "tags": []
   },
   "outputs": [
    {
     "data": {
      "text/html": [
       "<div>\n",
       "<style scoped>\n",
       "    .dataframe tbody tr th:only-of-type {\n",
       "        vertical-align: middle;\n",
       "    }\n",
       "\n",
       "    .dataframe tbody tr th {\n",
       "        vertical-align: top;\n",
       "    }\n",
       "\n",
       "    .dataframe thead th {\n",
       "        text-align: right;\n",
       "    }\n",
       "</style>\n",
       "<table border=\"1\" class=\"dataframe\">\n",
       "  <thead>\n",
       "    <tr style=\"text-align: right;\">\n",
       "      <th></th>\n",
       "      <th>company_permalink</th>\n",
       "      <th>funding_round_permalink</th>\n",
       "      <th>funding_round_type</th>\n",
       "      <th>funding_round_code</th>\n",
       "      <th>funded_at</th>\n",
       "      <th>raised_amount_usd</th>\n",
       "    </tr>\n",
       "  </thead>\n",
       "  <tbody>\n",
       "    <tr>\n",
       "      <th>0</th>\n",
       "      <td>/organization/-fame</td>\n",
       "      <td>/funding-round/9a01d05418af9f794eebff7ace91f638</td>\n",
       "      <td>venture</td>\n",
       "      <td>B</td>\n",
       "      <td>5/1/2015</td>\n",
       "      <td>10000000.0</td>\n",
       "    </tr>\n",
       "    <tr>\n",
       "      <th>1</th>\n",
       "      <td>/ORGANIZATION/-QOUNTER</td>\n",
       "      <td>/funding-round/22dacff496eb7acb2b901dec1dfe5633</td>\n",
       "      <td>venture</td>\n",
       "      <td>A</td>\n",
       "      <td>14-10-2014</td>\n",
       "      <td>NaN</td>\n",
       "    </tr>\n",
       "    <tr>\n",
       "      <th>2</th>\n",
       "      <td>/organization/-qounter</td>\n",
       "      <td>/funding-round/b44fbb94153f6cdef13083530bb48030</td>\n",
       "      <td>seed</td>\n",
       "      <td>NaN</td>\n",
       "      <td>1/3/2014</td>\n",
       "      <td>700000.0</td>\n",
       "    </tr>\n",
       "    <tr>\n",
       "      <th>3</th>\n",
       "      <td>/ORGANIZATION/-THE-ONE-OF-THEM-INC-</td>\n",
       "      <td>/funding-round/650b8f704416801069bb178a1418776b</td>\n",
       "      <td>venture</td>\n",
       "      <td>B</td>\n",
       "      <td>30-01-2014</td>\n",
       "      <td>3406878.0</td>\n",
       "    </tr>\n",
       "    <tr>\n",
       "      <th>4</th>\n",
       "      <td>/organization/0-6-com</td>\n",
       "      <td>/funding-round/5727accaeaa57461bd22a9bdd945382d</td>\n",
       "      <td>venture</td>\n",
       "      <td>A</td>\n",
       "      <td>19-03-2008</td>\n",
       "      <td>2000000.0</td>\n",
       "    </tr>\n",
       "  </tbody>\n",
       "</table>\n",
       "</div>"
      ],
      "text/plain": [
       "                     company_permalink  \\\n",
       "0                  /organization/-fame   \n",
       "1               /ORGANIZATION/-QOUNTER   \n",
       "2               /organization/-qounter   \n",
       "3  /ORGANIZATION/-THE-ONE-OF-THEM-INC-   \n",
       "4                /organization/0-6-com   \n",
       "\n",
       "                           funding_round_permalink funding_round_type  \\\n",
       "0  /funding-round/9a01d05418af9f794eebff7ace91f638            venture   \n",
       "1  /funding-round/22dacff496eb7acb2b901dec1dfe5633            venture   \n",
       "2  /funding-round/b44fbb94153f6cdef13083530bb48030               seed   \n",
       "3  /funding-round/650b8f704416801069bb178a1418776b            venture   \n",
       "4  /funding-round/5727accaeaa57461bd22a9bdd945382d            venture   \n",
       "\n",
       "  funding_round_code   funded_at  raised_amount_usd  \n",
       "0                  B    5/1/2015         10000000.0  \n",
       "1                  A  14-10-2014                NaN  \n",
       "2                NaN    1/3/2014           700000.0  \n",
       "3                  B  30-01-2014          3406878.0  \n",
       "4                  A  19-03-2008          2000000.0  "
      ]
     },
     "execution_count": 4,
     "metadata": {},
     "output_type": "execute_result"
    }
   ],
   "source": [
    "rounds2.head()"
   ]
  },
  {
   "cell_type": "code",
   "execution_count": 5,
   "metadata": {
    "execution": {
     "iopub.execute_input": "2020-10-28T02:24:18.459396Z",
     "iopub.status.busy": "2020-10-28T02:24:18.458194Z",
     "iopub.status.idle": "2020-10-28T02:24:18.472270Z",
     "shell.execute_reply": "2020-10-28T02:24:18.471632Z"
    },
    "papermill": {
     "duration": 0.167989,
     "end_time": "2020-10-28T02:24:18.472405",
     "exception": false,
     "start_time": "2020-10-28T02:24:18.304416",
     "status": "completed"
    },
    "tags": []
   },
   "outputs": [
    {
     "name": "stdout",
     "output_type": "stream",
     "text": [
      "<class 'pandas.core.frame.DataFrame'>\n",
      "RangeIndex: 114949 entries, 0 to 114948\n",
      "Data columns (total 6 columns):\n",
      " #   Column                   Non-Null Count   Dtype  \n",
      "---  ------                   --------------   -----  \n",
      " 0   company_permalink        114949 non-null  object \n",
      " 1   funding_round_permalink  114949 non-null  object \n",
      " 2   funding_round_type       114949 non-null  object \n",
      " 3   funding_round_code       31140 non-null   object \n",
      " 4   funded_at                114949 non-null  object \n",
      " 5   raised_amount_usd        94959 non-null   float64\n",
      "dtypes: float64(1), object(5)\n",
      "memory usage: 5.3+ MB\n"
     ]
    }
   ],
   "source": [
    "rounds2.info()"
   ]
  },
  {
   "cell_type": "code",
   "execution_count": 6,
   "metadata": {
    "execution": {
     "iopub.execute_input": "2020-10-28T02:24:18.686858Z",
     "iopub.status.busy": "2020-10-28T02:24:18.626022Z",
     "iopub.status.idle": "2020-10-28T02:24:18.695546Z",
     "shell.execute_reply": "2020-10-28T02:24:18.694823Z"
    },
    "papermill": {
     "duration": 0.149614,
     "end_time": "2020-10-28T02:24:18.695676",
     "exception": false,
     "start_time": "2020-10-28T02:24:18.546062",
     "status": "completed"
    },
    "tags": []
   },
   "outputs": [
    {
     "data": {
      "text/plain": [
       "company_permalink              0\n",
       "funding_round_permalink        0\n",
       "funding_round_type             0\n",
       "funding_round_code         83809\n",
       "funded_at                      0\n",
       "raised_amount_usd          19990\n",
       "dtype: int64"
      ]
     },
     "execution_count": 6,
     "metadata": {},
     "output_type": "execute_result"
    }
   ],
   "source": [
    "rounds2.isnull().sum()"
   ]
  },
  {
   "cell_type": "code",
   "execution_count": 7,
   "metadata": {
    "execution": {
     "iopub.execute_input": "2020-10-28T02:24:18.925525Z",
     "iopub.status.busy": "2020-10-28T02:24:18.924734Z",
     "iopub.status.idle": "2020-10-28T02:24:18.932362Z",
     "shell.execute_reply": "2020-10-28T02:24:18.932999Z"
    },
    "papermill": {
     "duration": 0.163596,
     "end_time": "2020-10-28T02:24:18.933166",
     "exception": false,
     "start_time": "2020-10-28T02:24:18.769570",
     "status": "completed"
    },
    "tags": []
   },
   "outputs": [
    {
     "data": {
      "text/plain": [
       "permalink            0\n",
       "name                 1\n",
       "homepage_url      5058\n",
       "category_list     3148\n",
       "status               0\n",
       "country_code      6958\n",
       "state_code        8547\n",
       "region            8030\n",
       "city              8028\n",
       "founded_at       15221\n",
       "dtype: int64"
      ]
     },
     "execution_count": 7,
     "metadata": {},
     "output_type": "execute_result"
    }
   ],
   "source": [
    "companies.isnull().sum()"
   ]
  },
  {
   "cell_type": "markdown",
   "metadata": {
    "papermill": {
     "duration": 0.075699,
     "end_time": "2020-10-28T02:24:19.085697",
     "exception": false,
     "start_time": "2020-10-28T02:24:19.009998",
     "status": "completed"
    },
    "tags": []
   },
   "source": [
    "## Checkpoint 1: Data Cleaning 1\n",
    "\n",
    "\n",
    "    1. How many unique companies are present in rounds2?\n",
    "    2. How many unique companies are present in companies?                      \n",
    "    3. In the companies data frame, which column can be used as the unique key for each company? \n",
    "       Write the name of the column.\n",
    "    4. Are there any companies in the rounds2 file which are not present in companies? Answer yes or no: Y/N \n",
    "    5. Merge the two data frames so that all variables (columns) in the companies frame are added to the rounds2 \n",
    "       data frame. Name the merged frame master_frame. How many observations are present in master_frame?\n",
    "       \n",
    "[NOTE:] As you can see permalink is the unique key for the table. to make you confuse there is company name as well. but if you see the example of Agora. you will find even though name is same but they deal with different category and got different funding type and amount.\n",
    "\n",
    "[NOTE:] Lowercase everything to get unique \n",
    "\n",
    "[NOTE:] you will still see some encoding issue like aeron, asys round2 csv \" ä°novatiff-reklam-ve-tanä±tä±m-hizmetleri-tic\". below 2 links will give more knowledge on encoding decoding \n",
    "1. upGrad Prep Course Module 4 session 4\n",
    "2. https://docs.python.org/3.3/howto/unicode.html"
   ]
  },
  {
   "cell_type": "code",
   "execution_count": 8,
   "metadata": {
    "execution": {
     "iopub.execute_input": "2020-10-28T02:24:19.276129Z",
     "iopub.status.busy": "2020-10-28T02:24:19.275325Z",
     "iopub.status.idle": "2020-10-28T02:24:19.747988Z",
     "shell.execute_reply": "2020-10-28T02:24:19.747303Z"
    },
    "papermill": {
     "duration": 0.578939,
     "end_time": "2020-10-28T02:24:19.748134",
     "exception": false,
     "start_time": "2020-10-28T02:24:19.169195",
     "status": "completed"
    },
    "tags": []
   },
   "outputs": [],
   "source": [
    "rounds2['company_permalink'] = rounds2['company_permalink'].str.lower().str.encode('ISO-8859-1').str.decode('ascii','ignore')\n",
    "companies['permalink'] = companies['permalink'].str.lower().str.encode('ISO-8859-1').str.decode('ascii','ignore')"
   ]
  },
  {
   "cell_type": "code",
   "execution_count": 9,
   "metadata": {
    "execution": {
     "iopub.execute_input": "2020-10-28T02:24:19.915284Z",
     "iopub.status.busy": "2020-10-28T02:24:19.914188Z",
     "iopub.status.idle": "2020-10-28T02:24:19.934921Z",
     "shell.execute_reply": "2020-10-28T02:24:19.933949Z"
    },
    "papermill": {
     "duration": 0.110779,
     "end_time": "2020-10-28T02:24:19.935089",
     "exception": false,
     "start_time": "2020-10-28T02:24:19.824310",
     "status": "completed"
    },
    "tags": []
   },
   "outputs": [
    {
     "name": "stdout",
     "output_type": "stream",
     "text": [
      "66368\n"
     ]
    }
   ],
   "source": [
    "# How many unique companies are present in rounds2?\n",
    "print(rounds2.company_permalink.unique().size)\n",
    "\n",
    "# another way -1 len(set(rounds2['company_permalink'].values.tolist()))\n",
    "# another way -2 rounds2['company_permalink'].describe()\n",
    "# another way -3 duplicate_comp_rounds2 = rounds2[rounds2.duplicated('company_permalink')]\n",
    "# len(rounds2)-len(duplicate_comp_rounds2)"
   ]
  },
  {
   "cell_type": "code",
   "execution_count": 10,
   "metadata": {
    "execution": {
     "iopub.execute_input": "2020-10-28T02:24:20.099898Z",
     "iopub.status.busy": "2020-10-28T02:24:20.099041Z",
     "iopub.status.idle": "2020-10-28T02:24:20.129490Z",
     "shell.execute_reply": "2020-10-28T02:24:20.128874Z"
    },
    "papermill": {
     "duration": 0.118085,
     "end_time": "2020-10-28T02:24:20.129615",
     "exception": false,
     "start_time": "2020-10-28T02:24:20.011530",
     "status": "completed"
    },
    "tags": []
   },
   "outputs": [
    {
     "name": "stdout",
     "output_type": "stream",
     "text": [
      "66368\n"
     ]
    },
    {
     "data": {
      "text/plain": [
       "66368"
      ]
     },
     "execution_count": 10,
     "metadata": {},
     "output_type": "execute_result"
    }
   ],
   "source": [
    "print(companies.permalink.unique().size)\n",
    "len(set(companies['permalink'].values.tolist()))\n",
    "\n",
    "#companies['company_permalink'].describe()\n",
    "# duplicate_comp = companies[companies.duplicated('permalink')]\n",
    "# duplicate_comp"
   ]
  },
  {
   "cell_type": "code",
   "execution_count": 11,
   "metadata": {
    "execution": {
     "iopub.execute_input": "2020-10-28T02:24:20.351406Z",
     "iopub.status.busy": "2020-10-28T02:24:20.350399Z",
     "iopub.status.idle": "2020-10-28T02:24:20.355203Z",
     "shell.execute_reply": "2020-10-28T02:24:20.354461Z"
    },
    "papermill": {
     "duration": 0.148389,
     "end_time": "2020-10-28T02:24:20.355344",
     "exception": false,
     "start_time": "2020-10-28T02:24:20.206955",
     "status": "completed"
    },
    "tags": []
   },
   "outputs": [
    {
     "data": {
      "text/plain": [
       "0"
      ]
     },
     "execution_count": 11,
     "metadata": {},
     "output_type": "execute_result"
    }
   ],
   "source": [
    "# Are there any companies in the rounds2 file which are not present in companies? Answer yes or no: Y/N -- N\n",
    "\n",
    "differance = set(rounds2['company_permalink'].values.tolist())-set(companies['permalink'].values.tolist())\n",
    "len(differance)\n",
    "diff_companies_with_rounds = set(companies['permalink'].values.tolist()) - set(rounds2['company_permalink'].values.tolist())\n",
    "len(diff_companies_with_rounds)"
   ]
  },
  {
   "cell_type": "code",
   "execution_count": 12,
   "metadata": {
    "execution": {
     "iopub.execute_input": "2020-10-28T02:24:20.565839Z",
     "iopub.status.busy": "2020-10-28T02:24:20.540529Z",
     "iopub.status.idle": "2020-10-28T02:24:20.661914Z",
     "shell.execute_reply": "2020-10-28T02:24:20.661110Z"
    },
    "papermill": {
     "duration": 0.229586,
     "end_time": "2020-10-28T02:24:20.662054",
     "exception": false,
     "start_time": "2020-10-28T02:24:20.432468",
     "status": "completed"
    },
    "tags": []
   },
   "outputs": [
    {
     "data": {
      "text/plain": [
       "(114949, 17)"
      ]
     },
     "execution_count": 12,
     "metadata": {},
     "output_type": "execute_result"
    }
   ],
   "source": [
    "#Merge the two data frames so that all variables (columns) in the companies frame are added to the rounds2 data frame. \n",
    "#Name the merged frame master_frame. How many observations are present in master_frame?\n",
    "# Ans - 114949\n",
    "master_frame = pd.merge(rounds2,companies, left_on=rounds2['company_permalink'], right_on=companies['permalink'], how='inner')\n",
    "master_frame.shape"
   ]
  },
  {
   "cell_type": "markdown",
   "metadata": {
    "papermill": {
     "duration": 0.077325,
     "end_time": "2020-10-28T02:24:20.817116",
     "exception": false,
     "start_time": "2020-10-28T02:24:20.739791",
     "status": "completed"
    },
    "tags": []
   },
   "source": [
    "## Checkpoint 2: Funding Type Analysis\n",
    "\n",
    "Spark Funds wants to choose one of these four investment types (seed, venture, angel, Private equity) for each potential investment they will make.\n",
    "\n",
    "1. Calculate the most representative value of the investment amount for each of the four funding types (venture, angel, seed, and private equity)\n",
    "2. Based on the most representative investment amount calculated above, which investment type do you think is the most suitable for Spark Funds?\n",
    "\n",
    "Output: \n",
    "1. Representative funding amount of venture type\n",
    "2. Representative funding amount of angel type\n",
    "3. Representative funding amount of seed type\n",
    "4. Representative funding amount of private equity type\n",
    "5. Considering that Spark Funds wants to invest between 5 to 15 million USD per  investment round, which investment type is the most suitable for them?\n",
    "\n",
    "\n",
    "Removing null/nan values\n",
    "Filter master_frame for gievn investment type (seed, venture, angel, Private equity)"
   ]
  },
  {
   "cell_type": "code",
   "execution_count": 13,
   "metadata": {
    "execution": {
     "iopub.execute_input": "2020-10-28T02:24:21.035972Z",
     "iopub.status.busy": "2020-10-28T02:24:21.035179Z",
     "iopub.status.idle": "2020-10-28T02:24:21.185583Z",
     "shell.execute_reply": "2020-10-28T02:24:21.184803Z"
    },
    "papermill": {
     "duration": 0.291248,
     "end_time": "2020-10-28T02:24:21.185746",
     "exception": false,
     "start_time": "2020-10-28T02:24:20.894498",
     "status": "completed"
    },
    "tags": []
   },
   "outputs": [
    {
     "data": {
      "text/plain": [
       "key_0                          0\n",
       "company_permalink              0\n",
       "funding_round_permalink        0\n",
       "funding_round_type             0\n",
       "funding_round_code         83809\n",
       "funded_at                      0\n",
       "raised_amount_usd          19990\n",
       "permalink                      0\n",
       "name                           1\n",
       "homepage_url                6134\n",
       "category_list               3410\n",
       "status                         0\n",
       "country_code                8678\n",
       "state_code                 10946\n",
       "region                     10167\n",
       "city                       10164\n",
       "founded_at                 20521\n",
       "dtype: int64"
      ]
     },
     "execution_count": 13,
     "metadata": {},
     "output_type": "execute_result"
    }
   ],
   "source": [
    "master_frame.isnull().sum()"
   ]
  },
  {
   "cell_type": "code",
   "execution_count": 14,
   "metadata": {
    "execution": {
     "iopub.execute_input": "2020-10-28T02:24:21.415074Z",
     "iopub.status.busy": "2020-10-28T02:24:21.414261Z",
     "iopub.status.idle": "2020-10-28T02:24:21.581534Z",
     "shell.execute_reply": "2020-10-28T02:24:21.580735Z"
    },
    "papermill": {
     "duration": 0.311435,
     "end_time": "2020-10-28T02:24:21.581699",
     "exception": false,
     "start_time": "2020-10-28T02:24:21.270264",
     "status": "completed"
    },
    "tags": []
   },
   "outputs": [
    {
     "data": {
      "text/plain": [
       "key_0                       0.00\n",
       "company_permalink           0.00\n",
       "funding_round_permalink     0.00\n",
       "funding_round_type          0.00\n",
       "funding_round_code         72.91\n",
       "funded_at                   0.00\n",
       "raised_amount_usd          17.39\n",
       "permalink                   0.00\n",
       "name                        0.00\n",
       "homepage_url                5.34\n",
       "category_list               2.97\n",
       "status                      0.00\n",
       "country_code                7.55\n",
       "state_code                  9.52\n",
       "region                      8.84\n",
       "city                        8.84\n",
       "founded_at                 17.85\n",
       "dtype: float64"
      ]
     },
     "execution_count": 14,
     "metadata": {},
     "output_type": "execute_result"
    }
   ],
   "source": [
    "# summing up the missing values (column-wise) and displaying fraction of NaNs\n",
    "round(100*(master_frame.isnull().sum()/len(master_frame.index)), 2)"
   ]
  },
  {
   "cell_type": "code",
   "execution_count": 15,
   "metadata": {
    "execution": {
     "iopub.execute_input": "2020-10-28T02:24:21.839179Z",
     "iopub.status.busy": "2020-10-28T02:24:21.815194Z",
     "iopub.status.idle": "2020-10-28T02:24:21.862885Z",
     "shell.execute_reply": "2020-10-28T02:24:21.863461Z"
    },
    "papermill": {
     "duration": 0.202449,
     "end_time": "2020-10-28T02:24:21.863631",
     "exception": false,
     "start_time": "2020-10-28T02:24:21.661182",
     "status": "completed"
    },
    "tags": []
   },
   "outputs": [],
   "source": [
    "# removing redundant columns\n",
    "master_frame =  master_frame.drop(['key_0','state_code', 'region', 'city', 'founded_at','funding_round_permalink',\n",
    "       'funding_round_code', 'funded_at','name','homepage_url','status'], axis=1)\n"
   ]
  },
  {
   "cell_type": "code",
   "execution_count": 16,
   "metadata": {
    "execution": {
     "iopub.execute_input": "2020-10-28T02:24:22.089987Z",
     "iopub.status.busy": "2020-10-28T02:24:22.089210Z",
     "iopub.status.idle": "2020-10-28T02:24:22.099671Z",
     "shell.execute_reply": "2020-10-28T02:24:22.098941Z"
    },
    "papermill": {
     "duration": 0.157325,
     "end_time": "2020-10-28T02:24:22.099818",
     "exception": false,
     "start_time": "2020-10-28T02:24:21.942493",
     "status": "completed"
    },
    "tags": []
   },
   "outputs": [
    {
     "data": {
      "text/plain": [
       "company_permalink      0.00\n",
       "funding_round_type     0.00\n",
       "raised_amount_usd     17.39\n",
       "permalink              0.00\n",
       "category_list          2.97\n",
       "country_code           7.55\n",
       "dtype: float64"
      ]
     },
     "execution_count": 16,
     "metadata": {},
     "output_type": "execute_result"
    }
   ],
   "source": [
    "round(100*(master_frame.isnull().sum()/len(master_frame.index)), 2)"
   ]
  },
  {
   "cell_type": "code",
   "execution_count": 17,
   "metadata": {
    "execution": {
     "iopub.execute_input": "2020-10-28T02:24:22.277869Z",
     "iopub.status.busy": "2020-10-28T02:24:22.277073Z",
     "iopub.status.idle": "2020-10-28T02:24:22.303471Z",
     "shell.execute_reply": "2020-10-28T02:24:22.302847Z"
    },
    "papermill": {
     "duration": 0.123708,
     "end_time": "2020-10-28T02:24:22.303594",
     "exception": false,
     "start_time": "2020-10-28T02:24:22.179886",
     "status": "completed"
    },
    "tags": []
   },
   "outputs": [
    {
     "data": {
      "text/html": [
       "<div>\n",
       "<style scoped>\n",
       "    .dataframe tbody tr th:only-of-type {\n",
       "        vertical-align: middle;\n",
       "    }\n",
       "\n",
       "    .dataframe tbody tr th {\n",
       "        vertical-align: top;\n",
       "    }\n",
       "\n",
       "    .dataframe thead th {\n",
       "        text-align: right;\n",
       "    }\n",
       "</style>\n",
       "<table border=\"1\" class=\"dataframe\">\n",
       "  <thead>\n",
       "    <tr style=\"text-align: right;\">\n",
       "      <th></th>\n",
       "      <th>company_permalink</th>\n",
       "      <th>funding_round_type</th>\n",
       "      <th>raised_amount_usd</th>\n",
       "      <th>permalink</th>\n",
       "      <th>category_list</th>\n",
       "      <th>country_code</th>\n",
       "    </tr>\n",
       "  </thead>\n",
       "  <tbody>\n",
       "    <tr>\n",
       "      <th>0</th>\n",
       "      <td>/organization/-fame</td>\n",
       "      <td>venture</td>\n",
       "      <td>10000000.0</td>\n",
       "      <td>/organization/-fame</td>\n",
       "      <td>Media</td>\n",
       "      <td>IND</td>\n",
       "    </tr>\n",
       "    <tr>\n",
       "      <th>1</th>\n",
       "      <td>/organization/-qounter</td>\n",
       "      <td>venture</td>\n",
       "      <td>NaN</td>\n",
       "      <td>/organization/-qounter</td>\n",
       "      <td>Application Platforms|Real Time|Social Network...</td>\n",
       "      <td>USA</td>\n",
       "    </tr>\n",
       "    <tr>\n",
       "      <th>2</th>\n",
       "      <td>/organization/-qounter</td>\n",
       "      <td>seed</td>\n",
       "      <td>700000.0</td>\n",
       "      <td>/organization/-qounter</td>\n",
       "      <td>Application Platforms|Real Time|Social Network...</td>\n",
       "      <td>USA</td>\n",
       "    </tr>\n",
       "    <tr>\n",
       "      <th>3</th>\n",
       "      <td>/organization/-the-one-of-them-inc-</td>\n",
       "      <td>venture</td>\n",
       "      <td>3406878.0</td>\n",
       "      <td>/organization/-the-one-of-them-inc-</td>\n",
       "      <td>Apps|Games|Mobile</td>\n",
       "      <td>NaN</td>\n",
       "    </tr>\n",
       "    <tr>\n",
       "      <th>4</th>\n",
       "      <td>/organization/0-6-com</td>\n",
       "      <td>venture</td>\n",
       "      <td>2000000.0</td>\n",
       "      <td>/organization/0-6-com</td>\n",
       "      <td>Curated Web</td>\n",
       "      <td>CHN</td>\n",
       "    </tr>\n",
       "  </tbody>\n",
       "</table>\n",
       "</div>"
      ],
      "text/plain": [
       "                     company_permalink funding_round_type  raised_amount_usd  \\\n",
       "0                  /organization/-fame            venture         10000000.0   \n",
       "1               /organization/-qounter            venture                NaN   \n",
       "2               /organization/-qounter               seed           700000.0   \n",
       "3  /organization/-the-one-of-them-inc-            venture          3406878.0   \n",
       "4                /organization/0-6-com            venture          2000000.0   \n",
       "\n",
       "                             permalink  \\\n",
       "0                  /organization/-fame   \n",
       "1               /organization/-qounter   \n",
       "2               /organization/-qounter   \n",
       "3  /organization/-the-one-of-them-inc-   \n",
       "4                /organization/0-6-com   \n",
       "\n",
       "                                       category_list country_code  \n",
       "0                                              Media          IND  \n",
       "1  Application Platforms|Real Time|Social Network...          USA  \n",
       "2  Application Platforms|Real Time|Social Network...          USA  \n",
       "3                                  Apps|Games|Mobile          NaN  \n",
       "4                                        Curated Web          CHN  "
      ]
     },
     "execution_count": 17,
     "metadata": {},
     "output_type": "execute_result"
    }
   ],
   "source": [
    "master_frame = master_frame[master_frame.funding_round_type.isin(['venture','angel','seed','private_equity'])]\n",
    "#master_frame_mrv_sub = master_frame_mrv.loc[:,['funding_round_type','raised_amount_usd']]\n",
    "#master_frame_mrv_sub.head()\n",
    "#master_frame_mrv_sub.groupby(master_frame_mrv_sub['funding_round_type'])['raised_amount_usd'].mean().round(1)\n",
    "master_frame.head()"
   ]
  },
  {
   "cell_type": "code",
   "execution_count": 18,
   "metadata": {
    "execution": {
     "iopub.execute_input": "2020-10-28T02:24:22.523543Z",
     "iopub.status.busy": "2020-10-28T02:24:22.522701Z",
     "iopub.status.idle": "2020-10-28T02:24:22.532529Z",
     "shell.execute_reply": "2020-10-28T02:24:22.531813Z"
    },
    "papermill": {
     "duration": 0.148543,
     "end_time": "2020-10-28T02:24:22.532656",
     "exception": false,
     "start_time": "2020-10-28T02:24:22.384113",
     "status": "completed"
    },
    "tags": []
   },
   "outputs": [
    {
     "data": {
      "text/plain": [
       "company_permalink      0.00\n",
       "funding_round_type     0.00\n",
       "raised_amount_usd     14.59\n",
       "permalink              0.00\n",
       "category_list          2.65\n",
       "country_code           7.76\n",
       "dtype: float64"
      ]
     },
     "execution_count": 18,
     "metadata": {},
     "output_type": "execute_result"
    }
   ],
   "source": [
    "round(100*(master_frame.isnull().sum()/len(master_frame.index)), 2)"
   ]
  },
  {
   "cell_type": "code",
   "execution_count": 19,
   "metadata": {
    "execution": {
     "iopub.execute_input": "2020-10-28T02:24:22.702628Z",
     "iopub.status.busy": "2020-10-28T02:24:22.701814Z",
     "iopub.status.idle": "2020-10-28T02:24:22.716451Z",
     "shell.execute_reply": "2020-10-28T02:24:22.717015Z"
    },
    "papermill": {
     "duration": 0.101876,
     "end_time": "2020-10-28T02:24:22.717190",
     "exception": false,
     "start_time": "2020-10-28T02:24:22.615314",
     "status": "completed"
    },
    "tags": []
   },
   "outputs": [
    {
     "data": {
      "text/plain": [
       "count    8.062700e+04\n",
       "mean     9.347995e+06\n",
       "std      7.562940e+07\n",
       "min      0.000000e+00\n",
       "25%      4.000000e+05\n",
       "50%      2.000000e+06\n",
       "75%      7.975496e+06\n",
       "max      1.760000e+10\n",
       "Name: raised_amount_usd, dtype: float64"
      ]
     },
     "execution_count": 19,
     "metadata": {},
     "output_type": "execute_result"
    }
   ],
   "source": [
    "master_frame.raised_amount_usd.describe()"
   ]
  },
  {
   "cell_type": "code",
   "execution_count": 20,
   "metadata": {
    "execution": {
     "iopub.execute_input": "2020-10-28T02:24:22.900669Z",
     "iopub.status.busy": "2020-10-28T02:24:22.889074Z",
     "iopub.status.idle": "2020-10-28T02:24:22.942306Z",
     "shell.execute_reply": "2020-10-28T02:24:22.941575Z"
    },
    "papermill": {
     "duration": 0.143106,
     "end_time": "2020-10-28T02:24:22.942438",
     "exception": false,
     "start_time": "2020-10-28T02:24:22.799332",
     "status": "completed"
    },
    "tags": []
   },
   "outputs": [
    {
     "data": {
      "text/plain": [
       "0         10.0\n",
       "1          NaN\n",
       "2          0.7\n",
       "3          3.4\n",
       "4          2.0\n",
       "          ... \n",
       "114942     0.0\n",
       "114943     0.0\n",
       "114945     0.0\n",
       "114946     NaN\n",
       "114947     0.0\n",
       "Name: raised_amount_usd, Length: 94397, dtype: float64"
      ]
     },
     "execution_count": 20,
     "metadata": {},
     "output_type": "execute_result"
    }
   ],
   "source": [
    "# converting in mn$\n",
    "master_frame['raised_amount_usd'] = master_frame['raised_amount_usd'].apply(lambda x:x/1000000).round(1)\n",
    "master_frame['raised_amount_usd']"
   ]
  },
  {
   "cell_type": "code",
   "execution_count": 21,
   "metadata": {
    "execution": {
     "iopub.execute_input": "2020-10-28T02:24:23.117433Z",
     "iopub.status.busy": "2020-10-28T02:24:23.116624Z",
     "iopub.status.idle": "2020-10-28T02:24:23.129061Z",
     "shell.execute_reply": "2020-10-28T02:24:23.128266Z"
    },
    "papermill": {
     "duration": 0.103143,
     "end_time": "2020-10-28T02:24:23.129199",
     "exception": false,
     "start_time": "2020-10-28T02:24:23.026056",
     "status": "completed"
    },
    "tags": []
   },
   "outputs": [
    {
     "data": {
      "text/plain": [
       "count    80627.000000\n",
       "mean         9.345966\n",
       "std         75.629689\n",
       "min          0.000000\n",
       "25%          0.400000\n",
       "50%          2.000000\n",
       "75%          8.000000\n",
       "max      17600.000000\n",
       "Name: raised_amount_usd, dtype: float64"
      ]
     },
     "execution_count": 21,
     "metadata": {},
     "output_type": "execute_result"
    }
   ],
   "source": [
    "master_frame.raised_amount_usd.describe()"
   ]
  },
  {
   "cell_type": "code",
   "execution_count": 22,
   "metadata": {
    "execution": {
     "iopub.execute_input": "2020-10-28T02:24:23.312472Z",
     "iopub.status.busy": "2020-10-28T02:24:23.311576Z",
     "iopub.status.idle": "2020-10-28T02:24:24.297611Z",
     "shell.execute_reply": "2020-10-28T02:24:24.296853Z"
    },
    "papermill": {
     "duration": 1.08456,
     "end_time": "2020-10-28T02:24:24.297766",
     "exception": false,
     "start_time": "2020-10-28T02:24:23.213206",
     "status": "completed"
    },
    "tags": []
   },
   "outputs": [],
   "source": [
    "import matplotlib.pyplot as plt \n",
    "import seaborn as sns\n",
    "%matplotlib inline"
   ]
  },
  {
   "cell_type": "code",
   "execution_count": 23,
   "metadata": {
    "execution": {
     "iopub.execute_input": "2020-10-28T02:24:24.470331Z",
     "iopub.status.busy": "2020-10-28T02:24:24.469562Z",
     "iopub.status.idle": "2020-10-28T02:24:24.488607Z",
     "shell.execute_reply": "2020-10-28T02:24:24.489186Z"
    },
    "papermill": {
     "duration": 0.108497,
     "end_time": "2020-10-28T02:24:24.489350",
     "exception": false,
     "start_time": "2020-10-28T02:24:24.380853",
     "status": "completed"
    },
    "tags": []
   },
   "outputs": [
    {
     "data": {
      "text/plain": [
       "0         10.0\n",
       "2          0.7\n",
       "3          3.4\n",
       "4          2.0\n",
       "7          0.0\n",
       "          ... \n",
       "114941     1.6\n",
       "114942     0.0\n",
       "114943     0.0\n",
       "114945     0.0\n",
       "114947     0.0\n",
       "Name: raised_amount_usd, Length: 80627, dtype: float64"
      ]
     },
     "execution_count": 23,
     "metadata": {},
     "output_type": "execute_result"
    }
   ],
   "source": [
    "master_frame.loc[~(master_frame.raised_amount_usd.isnull())]['raised_amount_usd']"
   ]
  },
  {
   "cell_type": "code",
   "execution_count": 24,
   "metadata": {
    "execution": {
     "iopub.execute_input": "2020-10-28T02:24:24.664234Z",
     "iopub.status.busy": "2020-10-28T02:24:24.663429Z",
     "iopub.status.idle": "2020-10-28T02:24:24.859658Z",
     "shell.execute_reply": "2020-10-28T02:24:24.858918Z"
    },
    "papermill": {
     "duration": 0.286934,
     "end_time": "2020-10-28T02:24:24.859802",
     "exception": false,
     "start_time": "2020-10-28T02:24:24.572868",
     "status": "completed"
    },
    "tags": []
   },
   "outputs": [
    {
     "data": {
      "image/png": "[encoded data removed]",
      "text/plain": [
       "<Figure size 432x288 with 1 Axes>"
      ]
     },
     "metadata": {
      "needs_background": "light"
     },
     "output_type": "display_data"
    }
   ],
   "source": [
    "#Create a box plot for the raised_amount_usd column\n",
    "plt.boxplot(master_frame.loc[~(master_frame.raised_amount_usd.isnull())]['raised_amount_usd'])\n",
    "plt.show()"
   ]
  },
  {
   "cell_type": "markdown",
   "metadata": {
    "papermill": {
     "duration": 0.085237,
     "end_time": "2020-10-28T02:24:25.029921",
     "exception": false,
     "start_time": "2020-10-28T02:24:24.944684",
     "status": "completed"
    },
    "tags": []
   },
   "source": [
    " Its look like we can not impute missing column with any value so better to remove them \n",
    " \n",
    " "
   ]
  },
  {
   "cell_type": "code",
   "execution_count": 25,
   "metadata": {
    "execution": {
     "iopub.execute_input": "2020-10-28T02:24:25.219274Z",
     "iopub.status.busy": "2020-10-28T02:24:25.218374Z",
     "iopub.status.idle": "2020-10-28T02:24:25.243868Z",
     "shell.execute_reply": "2020-10-28T02:24:25.243050Z"
    },
    "papermill": {
     "duration": 0.128597,
     "end_time": "2020-10-28T02:24:25.244010",
     "exception": false,
     "start_time": "2020-10-28T02:24:25.115413",
     "status": "completed"
    },
    "tags": []
   },
   "outputs": [
    {
     "data": {
      "text/plain": [
       "(75124, 6)"
      ]
     },
     "execution_count": 25,
     "metadata": {},
     "output_type": "execute_result"
    }
   ],
   "source": [
    "master_frame = master_frame.loc[~(master_frame.raised_amount_usd.isnull() | master_frame.category_list.isnull() | master_frame.country_code.isnull() )]\n",
    "master_frame.shape"
   ]
  },
  {
   "cell_type": "code",
   "execution_count": 26,
   "metadata": {
    "execution": {
     "iopub.execute_input": "2020-10-28T02:24:25.424380Z",
     "iopub.status.busy": "2020-10-28T02:24:25.423417Z",
     "iopub.status.idle": "2020-10-28T02:24:25.427598Z",
     "shell.execute_reply": "2020-10-28T02:24:25.426984Z"
    },
    "papermill": {
     "duration": 0.097886,
     "end_time": "2020-10-28T02:24:25.427747",
     "exception": false,
     "start_time": "2020-10-28T02:24:25.329861",
     "status": "completed"
    },
    "tags": []
   },
   "outputs": [
    {
     "data": {
      "text/plain": [
       "(75124, 6)"
      ]
     },
     "execution_count": 26,
     "metadata": {},
     "output_type": "execute_result"
    }
   ],
   "source": [
    "master_frame_funding_Type = master_frame\n",
    "master_frame_funding_Type.shape"
   ]
  },
  {
   "cell_type": "code",
   "execution_count": 27,
   "metadata": {
    "execution": {
     "iopub.execute_input": "2020-10-28T02:24:25.648192Z",
     "iopub.status.busy": "2020-10-28T02:24:25.647393Z",
     "iopub.status.idle": "2020-10-28T02:24:25.656033Z",
     "shell.execute_reply": "2020-10-28T02:24:25.656638Z"
    },
    "papermill": {
     "duration": 0.143156,
     "end_time": "2020-10-28T02:24:25.656817",
     "exception": false,
     "start_time": "2020-10-28T02:24:25.513661",
     "status": "completed"
    },
    "tags": []
   },
   "outputs": [
    {
     "data": {
      "text/plain": [
       "company_permalink     0.0\n",
       "funding_round_type    0.0\n",
       "raised_amount_usd     0.0\n",
       "permalink             0.0\n",
       "category_list         0.0\n",
       "country_code          0.0\n",
       "dtype: float64"
      ]
     },
     "execution_count": 27,
     "metadata": {},
     "output_type": "execute_result"
    }
   ],
   "source": [
    "round(100*(master_frame.isnull().sum()/len(master_frame.index)), 2)"
   ]
  },
  {
   "cell_type": "code",
   "execution_count": 28,
   "metadata": {
    "execution": {
     "iopub.execute_input": "2020-10-28T02:24:25.856131Z",
     "iopub.status.busy": "2020-10-28T02:24:25.852880Z",
     "iopub.status.idle": "2020-10-28T02:24:25.860795Z",
     "shell.execute_reply": "2020-10-28T02:24:25.860028Z"
    },
    "papermill": {
     "duration": 0.116782,
     "end_time": "2020-10-28T02:24:25.860926",
     "exception": false,
     "start_time": "2020-10-28T02:24:25.744144",
     "status": "completed"
    },
    "tags": []
   },
   "outputs": [
    {
     "data": {
      "text/plain": [
       "venture           47809\n",
       "seed              21095\n",
       "angel              4400\n",
       "private_equity     1820\n",
       "Name: funding_round_type, dtype: int64"
      ]
     },
     "execution_count": 28,
     "metadata": {},
     "output_type": "execute_result"
    }
   ],
   "source": [
    "master_frame.funding_round_type.value_counts()"
   ]
  },
  {
   "cell_type": "markdown",
   "metadata": {
    "papermill": {
     "duration": 0.086439,
     "end_time": "2020-10-28T02:24:26.034020",
     "exception": false,
     "start_time": "2020-10-28T02:24:25.947581",
     "status": "completed"
    },
    "tags": []
   },
   "source": [
    "#Most representetive value -- it measn Mean()\n",
    "\n",
    "1. Representative funding amount of venture type\n",
    "2. Representative funding amount of angel type\n",
    "3. Representative funding amount of seed type\n",
    "4. Representative funding amount of private equity type\n",
    "5. Considering that Spark Funds wants to invest between 5 to 15 million USD per  investment round, which investment type is the most suitable for them?\n",
    "\n",
    "\n",
    "funding_round_type\n",
    "angel              0.97\n",
    "private_equity    73.94\n",
    "seed               0.74\n",
    "venture           11.72\n",
    "Name: raised_amount_usd, dtype: float64"
   ]
  },
  {
   "cell_type": "code",
   "execution_count": 29,
   "metadata": {
    "execution": {
     "iopub.execute_input": "2020-10-28T02:24:26.275577Z",
     "iopub.status.busy": "2020-10-28T02:24:26.274468Z",
     "iopub.status.idle": "2020-10-28T02:24:26.287838Z",
     "shell.execute_reply": "2020-10-28T02:24:26.287079Z"
    },
    "papermill": {
     "duration": 0.117088,
     "end_time": "2020-10-28T02:24:26.287975",
     "exception": false,
     "start_time": "2020-10-28T02:24:26.170887",
     "status": "completed"
    },
    "tags": []
   },
   "outputs": [
    {
     "data": {
      "text/plain": [
       "funding_round_type\n",
       "angel              0.97\n",
       "private_equity    73.94\n",
       "seed               0.74\n",
       "venture           11.72\n",
       "Name: raised_amount_usd, dtype: float64"
      ]
     },
     "execution_count": 29,
     "metadata": {},
     "output_type": "execute_result"
    }
   ],
   "source": [
    "\n",
    "master_frame.groupby(master_frame['funding_round_type'])['raised_amount_usd'].mean().round(2)"
   ]
  },
  {
   "cell_type": "markdown",
   "metadata": {
    "papermill": {
     "duration": 0.087179,
     "end_time": "2020-10-28T02:24:26.462465",
     "exception": false,
     "start_time": "2020-10-28T02:24:26.375286",
     "status": "completed"
    },
    "tags": []
   },
   "source": [
    "## Checkpoint 3: Country Analysis\n",
    "\n",
    "---\n",
    "1. Spark Funds wants to see the top nine countries which have received the highest total funding (across ALL sectors for the chosen investment type)\n",
    "\n",
    "2. For the chosen investment type, make a data frame named top9 with the top nine countries (based on the total investment amount each country has received)\n",
    "\n",
    " \n",
    "\n",
    "Identify the top three English-speaking countries in the data frame top9."
   ]
  },
  {
   "cell_type": "code",
   "execution_count": 30,
   "metadata": {
    "execution": {
     "iopub.execute_input": "2020-10-28T02:24:26.657964Z",
     "iopub.status.busy": "2020-10-28T02:24:26.657184Z",
     "iopub.status.idle": "2020-10-28T02:24:26.669445Z",
     "shell.execute_reply": "2020-10-28T02:24:26.668740Z"
    },
    "papermill": {
     "duration": 0.119954,
     "end_time": "2020-10-28T02:24:26.669593",
     "exception": false,
     "start_time": "2020-10-28T02:24:26.549639",
     "status": "completed"
    },
    "tags": []
   },
   "outputs": [
    {
     "data": {
      "text/plain": [
       "(47809, 6)"
      ]
     },
     "execution_count": 30,
     "metadata": {},
     "output_type": "execute_result"
    }
   ],
   "source": [
    "#filter data for venture type only\n",
    "\n",
    "master_frame_venture = master_frame.loc[(master_frame.funding_round_type == 'venture')]\n",
    "master_frame_venture.shape"
   ]
  },
  {
   "cell_type": "code",
   "execution_count": 31,
   "metadata": {
    "execution": {
     "iopub.execute_input": "2020-10-28T02:24:26.861666Z",
     "iopub.status.busy": "2020-10-28T02:24:26.858347Z",
     "iopub.status.idle": "2020-10-28T02:24:26.880188Z",
     "shell.execute_reply": "2020-10-28T02:24:26.879573Z"
    },
    "papermill": {
     "duration": 0.122227,
     "end_time": "2020-10-28T02:24:26.880319",
     "exception": false,
     "start_time": "2020-10-28T02:24:26.758092",
     "status": "completed"
    },
    "tags": []
   },
   "outputs": [
    {
     "data": {
      "text/html": [
       "<div>\n",
       "<style scoped>\n",
       "    .dataframe tbody tr th:only-of-type {\n",
       "        vertical-align: middle;\n",
       "    }\n",
       "\n",
       "    .dataframe tbody tr th {\n",
       "        vertical-align: top;\n",
       "    }\n",
       "\n",
       "    .dataframe thead th {\n",
       "        text-align: right;\n",
       "    }\n",
       "</style>\n",
       "<table border=\"1\" class=\"dataframe\">\n",
       "  <thead>\n",
       "    <tr style=\"text-align: right;\">\n",
       "      <th></th>\n",
       "      <th>raised_amount_usd</th>\n",
       "    </tr>\n",
       "    <tr>\n",
       "      <th>country_code</th>\n",
       "      <th></th>\n",
       "    </tr>\n",
       "  </thead>\n",
       "  <tbody>\n",
       "    <tr>\n",
       "      <th>USA</th>\n",
       "      <td>420049.6</td>\n",
       "    </tr>\n",
       "    <tr>\n",
       "      <th>CHN</th>\n",
       "      <td>39337.7</td>\n",
       "    </tr>\n",
       "    <tr>\n",
       "      <th>GBR</th>\n",
       "      <td>20074.2</td>\n",
       "    </tr>\n",
       "    <tr>\n",
       "      <th>IND</th>\n",
       "      <td>14261.4</td>\n",
       "    </tr>\n",
       "    <tr>\n",
       "      <th>CAN</th>\n",
       "      <td>9481.6</td>\n",
       "    </tr>\n",
       "    <tr>\n",
       "      <th>FRA</th>\n",
       "      <td>7227.3</td>\n",
       "    </tr>\n",
       "    <tr>\n",
       "      <th>ISR</th>\n",
       "      <td>6854.2</td>\n",
       "    </tr>\n",
       "    <tr>\n",
       "      <th>DEU</th>\n",
       "      <td>6307.6</td>\n",
       "    </tr>\n",
       "    <tr>\n",
       "      <th>JPN</th>\n",
       "      <td>3167.4</td>\n",
       "    </tr>\n",
       "  </tbody>\n",
       "</table>\n",
       "</div>"
      ],
      "text/plain": [
       "              raised_amount_usd\n",
       "country_code                   \n",
       "USA                    420049.6\n",
       "CHN                     39337.7\n",
       "GBR                     20074.2\n",
       "IND                     14261.4\n",
       "CAN                      9481.6\n",
       "FRA                      7227.3\n",
       "ISR                      6854.2\n",
       "DEU                      6307.6\n",
       "JPN                      3167.4"
      ]
     },
     "execution_count": 31,
     "metadata": {},
     "output_type": "execute_result"
    }
   ],
   "source": [
    "top9 = pd.pivot_table(data=master_frame_venture,index=\"country_code\", values=\"raised_amount_usd\", aggfunc=sum)\n",
    "top9 = top9.sort_values(by='raised_amount_usd', ascending=False)\n",
    "top9 = top9.iloc[:9,:].round(1)\n",
    "top9\n",
    "#in mn\n",
    "\n",
    "# master_frame_venture.loc[(master_frame_venture.country_code=='JPN')]['raised_amount_usd'].sum()/1000000"
   ]
  },
  {
   "cell_type": "code",
   "execution_count": 32,
   "metadata": {
    "execution": {
     "iopub.execute_input": "2020-10-28T02:24:27.070047Z",
     "iopub.status.busy": "2020-10-28T02:24:27.068975Z",
     "iopub.status.idle": "2020-10-28T02:24:27.074146Z",
     "shell.execute_reply": "2020-10-28T02:24:27.073360Z"
    },
    "papermill": {
     "duration": 0.10414,
     "end_time": "2020-10-28T02:24:27.074282",
     "exception": false,
     "start_time": "2020-10-28T02:24:26.970142",
     "status": "completed"
    },
    "tags": []
   },
   "outputs": [
    {
     "data": {
      "text/html": [
       "<div>\n",
       "<style scoped>\n",
       "    .dataframe tbody tr th:only-of-type {\n",
       "        vertical-align: middle;\n",
       "    }\n",
       "\n",
       "    .dataframe tbody tr th {\n",
       "        vertical-align: top;\n",
       "    }\n",
       "\n",
       "    .dataframe thead th {\n",
       "        text-align: right;\n",
       "    }\n",
       "</style>\n",
       "<table border=\"1\" class=\"dataframe\">\n",
       "  <thead>\n",
       "    <tr style=\"text-align: right;\">\n",
       "      <th></th>\n",
       "      <th>raised_amount_usd</th>\n",
       "    </tr>\n",
       "    <tr>\n",
       "      <th>country_code</th>\n",
       "      <th></th>\n",
       "    </tr>\n",
       "  </thead>\n",
       "  <tbody>\n",
       "    <tr>\n",
       "      <th>USA</th>\n",
       "      <td>420049</td>\n",
       "    </tr>\n",
       "    <tr>\n",
       "      <th>CHN</th>\n",
       "      <td>39337</td>\n",
       "    </tr>\n",
       "    <tr>\n",
       "      <th>GBR</th>\n",
       "      <td>20074</td>\n",
       "    </tr>\n",
       "    <tr>\n",
       "      <th>IND</th>\n",
       "      <td>14261</td>\n",
       "    </tr>\n",
       "    <tr>\n",
       "      <th>CAN</th>\n",
       "      <td>9481</td>\n",
       "    </tr>\n",
       "    <tr>\n",
       "      <th>FRA</th>\n",
       "      <td>7227</td>\n",
       "    </tr>\n",
       "    <tr>\n",
       "      <th>ISR</th>\n",
       "      <td>6854</td>\n",
       "    </tr>\n",
       "    <tr>\n",
       "      <th>DEU</th>\n",
       "      <td>6307</td>\n",
       "    </tr>\n",
       "    <tr>\n",
       "      <th>JPN</th>\n",
       "      <td>3167</td>\n",
       "    </tr>\n",
       "  </tbody>\n",
       "</table>\n",
       "</div>"
      ],
      "text/plain": [
       "              raised_amount_usd\n",
       "country_code                   \n",
       "USA                      420049\n",
       "CHN                       39337\n",
       "GBR                       20074\n",
       "IND                       14261\n",
       "CAN                        9481\n",
       "FRA                        7227\n",
       "ISR                        6854\n",
       "DEU                        6307\n",
       "JPN                        3167"
      ]
     },
     "execution_count": 32,
     "metadata": {},
     "output_type": "execute_result"
    }
   ],
   "source": [
    "top9.raised_amount_usd = top9.raised_amount_usd.astype(\"int64\")\n",
    "top9\n"
   ]
  },
  {
   "cell_type": "code",
   "execution_count": 33,
   "metadata": {
    "execution": {
     "iopub.execute_input": "2020-10-28T02:24:27.283613Z",
     "iopub.status.busy": "2020-10-28T02:24:27.282835Z",
     "iopub.status.idle": "2020-10-28T02:24:27.301327Z",
     "shell.execute_reply": "2020-10-28T02:24:27.300653Z"
    },
    "papermill": {
     "duration": 0.133281,
     "end_time": "2020-10-28T02:24:27.301470",
     "exception": false,
     "start_time": "2020-10-28T02:24:27.168189",
     "status": "completed"
    },
    "tags": []
   },
   "outputs": [],
   "source": [
    "# English speaking countries. China we can removed from top 3\n",
    "\n",
    "master_frame_venture_en_top3 = master_frame_venture.loc[(master_frame_venture.country_code=='USA')\n",
    "                                                        |(master_frame_venture.country_code=='IND')\n",
    "                                                        |(master_frame_venture.country_code=='GBR')]"
   ]
  },
  {
   "cell_type": "code",
   "execution_count": 34,
   "metadata": {
    "execution": {
     "iopub.execute_input": "2020-10-28T02:24:27.489637Z",
     "iopub.status.busy": "2020-10-28T02:24:27.488511Z",
     "iopub.status.idle": "2020-10-28T02:24:27.492894Z",
     "shell.execute_reply": "2020-10-28T02:24:27.492137Z"
    },
    "papermill": {
     "duration": 0.100574,
     "end_time": "2020-10-28T02:24:27.493030",
     "exception": false,
     "start_time": "2020-10-28T02:24:27.392456",
     "status": "completed"
    },
    "tags": []
   },
   "outputs": [
    {
     "data": {
      "text/plain": [
       "(38803, 6)"
      ]
     },
     "execution_count": 34,
     "metadata": {},
     "output_type": "execute_result"
    }
   ],
   "source": [
    "master_frame = master_frame_venture_en_top3\n",
    "master_frame.shape"
   ]
  },
  {
   "cell_type": "markdown",
   "metadata": {
    "papermill": {
     "duration": 0.092143,
     "end_time": "2020-10-28T02:24:27.676407",
     "exception": false,
     "start_time": "2020-10-28T02:24:27.584264",
     "status": "completed"
    },
    "tags": []
   },
   "source": [
    "## Checkpoint 4: Sector Analysis 1\n",
    "\n",
    "---\n",
    "\n",
    "1. Extract the primary sector of each category list from the category_list column\n",
    "\n",
    "2. Use the mapping file 'mapping.csv' to map each primary sector to one of the eight main sectors (Note that ‘Others’ is also considered one of the main sectors)\n",
    "\n",
    "Expected Results: Code for a merged data frame with each primary sector mapped to its main sector (the primary sector should be present in a separate column).\n",
    "\n",
    "[NOTE] : category_list has multiple values divided by |. so we need to manipulate it to the 1st value of the str array.\n",
    "\n",
    "[NOTE] : Mapping data set is in  wide format so we need to Changing to long format with help of (pd.melt)"
   ]
  },
  {
   "cell_type": "code",
   "execution_count": 35,
   "metadata": {
    "execution": {
     "iopub.execute_input": "2020-10-28T02:24:27.870691Z",
     "iopub.status.busy": "2020-10-28T02:24:27.869816Z",
     "iopub.status.idle": "2020-10-28T02:24:28.114889Z",
     "shell.execute_reply": "2020-10-28T02:24:28.115695Z"
    },
    "papermill": {
     "duration": 0.348905,
     "end_time": "2020-10-28T02:24:28.115914",
     "exception": false,
     "start_time": "2020-10-28T02:24:27.767009",
     "status": "completed"
    },
    "tags": []
   },
   "outputs": [
    {
     "name": "stdout",
     "output_type": "stream",
     "text": [
      "<class 'pandas.core.frame.DataFrame'>\n",
      "Int64Index: 38803 entries, 0 to 114936\n",
      "Data columns (total 6 columns):\n",
      " #   Column              Non-Null Count  Dtype  \n",
      "---  ------              --------------  -----  \n",
      " 0   company_permalink   38803 non-null  object \n",
      " 1   funding_round_type  38803 non-null  object \n",
      " 2   raised_amount_usd   38803 non-null  float64\n",
      " 3   permalink           38803 non-null  object \n",
      " 4   category_list       38803 non-null  object \n",
      " 5   country_code        38803 non-null  object \n",
      "dtypes: float64(1), object(5)\n",
      "memory usage: 2.1+ MB\n"
     ]
    },
    {
     "name": "stderr",
     "output_type": "stream",
     "text": [
      "/opt/conda/lib/python3.7/site-packages/ipykernel_launcher.py:1: SettingWithCopyWarning: \n",
      "A value is trying to be set on a copy of a slice from a DataFrame.\n",
      "Try using .loc[row_indexer,col_indexer] = value instead\n",
      "\n",
      "See the caveats in the documentation: https://pandas.pydata.org/pandas-docs/stable/user_guide/indexing.html#returning-a-view-versus-a-copy\n",
      "  \"\"\"Entry point for launching an IPython kernel.\n"
     ]
    }
   ],
   "source": [
    "master_frame['category_list'] = master_frame['category_list'].str.split('|').str[0].str.lower()\n",
    "master_frame.shape\n",
    "master_frame.info()"
   ]
  },
  {
   "cell_type": "code",
   "execution_count": 36,
   "metadata": {
    "execution": {
     "iopub.execute_input": "2020-10-28T02:24:28.305741Z",
     "iopub.status.busy": "2020-10-28T02:24:28.304865Z",
     "iopub.status.idle": "2020-10-28T02:24:28.313459Z",
     "shell.execute_reply": "2020-10-28T02:24:28.312785Z"
    },
    "papermill": {
     "duration": 0.105927,
     "end_time": "2020-10-28T02:24:28.313623",
     "exception": false,
     "start_time": "2020-10-28T02:24:28.207696",
     "status": "completed"
    },
    "tags": []
   },
   "outputs": [
    {
     "name": "stdout",
     "output_type": "stream",
     "text": [
      "{'encoding': 'ascii', 'confidence': 1.0, 'language': ''}\n"
     ]
    }
   ],
   "source": [
    "import chardet\n",
    "with open(\"../input/spark-fund-investment-analysis/datasets/mapping.csv\", 'rb') as rawdata:\n",
    "    result = chardet.detect(rawdata.read(10000))\n",
    "\n",
    "# check what the character encoding might be\n",
    "print(result)"
   ]
  },
  {
   "cell_type": "code",
   "execution_count": 37,
   "metadata": {
    "execution": {
     "iopub.execute_input": "2020-10-28T02:24:28.536002Z",
     "iopub.status.busy": "2020-10-28T02:24:28.535132Z",
     "iopub.status.idle": "2020-10-28T02:24:28.563119Z",
     "shell.execute_reply": "2020-10-28T02:24:28.562346Z"
    },
    "papermill": {
     "duration": 0.148344,
     "end_time": "2020-10-28T02:24:28.563252",
     "exception": false,
     "start_time": "2020-10-28T02:24:28.414908",
     "status": "completed"
    },
    "tags": []
   },
   "outputs": [
    {
     "data": {
      "text/html": [
       "<div>\n",
       "<style scoped>\n",
       "    .dataframe tbody tr th:only-of-type {\n",
       "        vertical-align: middle;\n",
       "    }\n",
       "\n",
       "    .dataframe tbody tr th {\n",
       "        vertical-align: top;\n",
       "    }\n",
       "\n",
       "    .dataframe thead th {\n",
       "        text-align: right;\n",
       "    }\n",
       "</style>\n",
       "<table border=\"1\" class=\"dataframe\">\n",
       "  <thead>\n",
       "    <tr style=\"text-align: right;\">\n",
       "      <th></th>\n",
       "      <th>category_list</th>\n",
       "      <th>Automotive &amp; Sports</th>\n",
       "      <th>Blanks</th>\n",
       "      <th>Cleantech / Semiconductors</th>\n",
       "      <th>Entertainment</th>\n",
       "      <th>Health</th>\n",
       "      <th>Manufacturing</th>\n",
       "      <th>News, Search and Messaging</th>\n",
       "      <th>Others</th>\n",
       "      <th>Social, Finance, Analytics, Advertising</th>\n",
       "    </tr>\n",
       "  </thead>\n",
       "  <tbody>\n",
       "    <tr>\n",
       "      <th>0</th>\n",
       "      <td>NaN</td>\n",
       "      <td>0</td>\n",
       "      <td>1</td>\n",
       "      <td>0</td>\n",
       "      <td>0</td>\n",
       "      <td>0</td>\n",
       "      <td>0</td>\n",
       "      <td>0</td>\n",
       "      <td>0</td>\n",
       "      <td>0</td>\n",
       "    </tr>\n",
       "    <tr>\n",
       "      <th>1</th>\n",
       "      <td>3D</td>\n",
       "      <td>0</td>\n",
       "      <td>0</td>\n",
       "      <td>0</td>\n",
       "      <td>0</td>\n",
       "      <td>0</td>\n",
       "      <td>1</td>\n",
       "      <td>0</td>\n",
       "      <td>0</td>\n",
       "      <td>0</td>\n",
       "    </tr>\n",
       "    <tr>\n",
       "      <th>2</th>\n",
       "      <td>3D Printing</td>\n",
       "      <td>0</td>\n",
       "      <td>0</td>\n",
       "      <td>0</td>\n",
       "      <td>0</td>\n",
       "      <td>0</td>\n",
       "      <td>1</td>\n",
       "      <td>0</td>\n",
       "      <td>0</td>\n",
       "      <td>0</td>\n",
       "    </tr>\n",
       "    <tr>\n",
       "      <th>3</th>\n",
       "      <td>3D Technology</td>\n",
       "      <td>0</td>\n",
       "      <td>0</td>\n",
       "      <td>0</td>\n",
       "      <td>0</td>\n",
       "      <td>0</td>\n",
       "      <td>1</td>\n",
       "      <td>0</td>\n",
       "      <td>0</td>\n",
       "      <td>0</td>\n",
       "    </tr>\n",
       "    <tr>\n",
       "      <th>4</th>\n",
       "      <td>Accounting</td>\n",
       "      <td>0</td>\n",
       "      <td>0</td>\n",
       "      <td>0</td>\n",
       "      <td>0</td>\n",
       "      <td>0</td>\n",
       "      <td>0</td>\n",
       "      <td>0</td>\n",
       "      <td>0</td>\n",
       "      <td>1</td>\n",
       "    </tr>\n",
       "  </tbody>\n",
       "</table>\n",
       "</div>"
      ],
      "text/plain": [
       "   category_list  Automotive & Sports  Blanks  Cleantech / Semiconductors  \\\n",
       "0            NaN                    0       1                           0   \n",
       "1             3D                    0       0                           0   \n",
       "2    3D Printing                    0       0                           0   \n",
       "3  3D Technology                    0       0                           0   \n",
       "4     Accounting                    0       0                           0   \n",
       "\n",
       "   Entertainment  Health  Manufacturing  News, Search and Messaging  Others  \\\n",
       "0              0       0              0                           0       0   \n",
       "1              0       0              1                           0       0   \n",
       "2              0       0              1                           0       0   \n",
       "3              0       0              1                           0       0   \n",
       "4              0       0              0                           0       0   \n",
       "\n",
       "   Social, Finance, Analytics, Advertising  \n",
       "0                                        0  \n",
       "1                                        0  \n",
       "2                                        0  \n",
       "3                                        0  \n",
       "4                                        1  "
      ]
     },
     "execution_count": 37,
     "metadata": {},
     "output_type": "execute_result"
    }
   ],
   "source": [
    "mapping = pd.read_csv('../input/spark-fund-investment-analysis/datasets/mapping.csv',encoding= 'ascii', engine = 'python')\n",
    "#mapping['main_category'] = mapping.dot(mapping.columns+',').str[:-1]\n",
    "mapping.head()"
   ]
  },
  {
   "cell_type": "code",
   "execution_count": 38,
   "metadata": {
    "execution": {
     "iopub.execute_input": "2020-10-28T02:24:28.764641Z",
     "iopub.status.busy": "2020-10-28T02:24:28.763687Z",
     "iopub.status.idle": "2020-10-28T02:24:28.768898Z",
     "shell.execute_reply": "2020-10-28T02:24:28.769802Z"
    },
    "papermill": {
     "duration": 0.113023,
     "end_time": "2020-10-28T02:24:28.770021",
     "exception": false,
     "start_time": "2020-10-28T02:24:28.656998",
     "status": "completed"
    },
    "tags": []
   },
   "outputs": [
    {
     "name": "stdout",
     "output_type": "stream",
     "text": [
      "<class 'pandas.core.frame.DataFrame'>\n",
      "RangeIndex: 688 entries, 0 to 687\n",
      "Data columns (total 10 columns):\n",
      " #   Column                                   Non-Null Count  Dtype \n",
      "---  ------                                   --------------  ----- \n",
      " 0   category_list                            687 non-null    object\n",
      " 1   Automotive & Sports                      688 non-null    int64 \n",
      " 2   Blanks                                   688 non-null    int64 \n",
      " 3   Cleantech / Semiconductors               688 non-null    int64 \n",
      " 4   Entertainment                            688 non-null    int64 \n",
      " 5   Health                                   688 non-null    int64 \n",
      " 6   Manufacturing                            688 non-null    int64 \n",
      " 7   News, Search and Messaging               688 non-null    int64 \n",
      " 8   Others                                   688 non-null    int64 \n",
      " 9   Social, Finance, Analytics, Advertising  688 non-null    int64 \n",
      "dtypes: int64(9), object(1)\n",
      "memory usage: 53.9+ KB\n"
     ]
    }
   ],
   "source": [
    "mapping.info()"
   ]
  },
  {
   "cell_type": "code",
   "execution_count": 39,
   "metadata": {
    "execution": {
     "iopub.execute_input": "2020-10-28T02:24:28.965444Z",
     "iopub.status.busy": "2020-10-28T02:24:28.964461Z",
     "iopub.status.idle": "2020-10-28T02:24:28.969425Z",
     "shell.execute_reply": "2020-10-28T02:24:28.968682Z"
    },
    "papermill": {
     "duration": 0.105232,
     "end_time": "2020-10-28T02:24:28.969554",
     "exception": false,
     "start_time": "2020-10-28T02:24:28.864322",
     "status": "completed"
    },
    "tags": []
   },
   "outputs": [
    {
     "data": {
      "text/plain": [
       "0                   NaN\n",
       "1                    3D\n",
       "2           3D Printing\n",
       "3         3D Technology\n",
       "4            Accounting\n",
       "             ...       \n",
       "683           Wholesale\n",
       "684    Wine And Spirits\n",
       "685            Wireless\n",
       "686               Women\n",
       "687        Young Adults\n",
       "Name: category_list, Length: 688, dtype: object"
      ]
     },
     "execution_count": 39,
     "metadata": {},
     "output_type": "execute_result"
    }
   ],
   "source": [
    "mapping.category_list"
   ]
  },
  {
   "cell_type": "markdown",
   "metadata": {
    "papermill": {
     "duration": 0.099758,
     "end_time": "2020-10-28T02:24:29.164118",
     "exception": false,
     "start_time": "2020-10-28T02:24:29.064360",
     "status": "completed"
    },
    "tags": []
   },
   "source": [
    "#### Changing from wide format to long format pd.melt()\n",
    "\n",
    "#### Parameters\n",
    "    ----------\n",
    "    id_vars : tuple, list, or ndarray, optional\n",
    "        Column(s) to use as identifier variables.\n",
    "    value_vars : tuple, list, or ndarray, optional\n",
    "        Column(s) to unpivot. If not specified, uses all columns that\n",
    "        are not set as `id_vars`.\n",
    "        \n",
    "[NOTE] : Same u can achieve by dot function as well\n",
    "\n",
    "df1 = mapping.iloc[:,1:].dot(mapping.iloc[:,1:].columns)\n",
    "\n",
    "mapping['main_category'] = df1\n",
    "\n",
    "mapping = mapping.loc[:,['category_list','main_category']]\n",
    "\n"
   ]
  },
  {
   "cell_type": "code",
   "execution_count": 40,
   "metadata": {
    "execution": {
     "iopub.execute_input": "2020-10-28T02:24:29.362099Z",
     "iopub.status.busy": "2020-10-28T02:24:29.361055Z",
     "iopub.status.idle": "2020-10-28T02:24:29.366124Z",
     "shell.execute_reply": "2020-10-28T02:24:29.364915Z"
    },
    "papermill": {
     "duration": 0.107283,
     "end_time": "2020-10-28T02:24:29.366294",
     "exception": false,
     "start_time": "2020-10-28T02:24:29.259011",
     "status": "completed"
    },
    "tags": []
   },
   "outputs": [
    {
     "name": "stdout",
     "output_type": "stream",
     "text": [
      "['Automotive & Sports', 'Blanks', 'Cleantech / Semiconductors', 'Entertainment', 'Health', 'Manufacturing', 'News, Search and Messaging', 'Others', 'Social, Finance, Analytics, Advertising'] \n",
      "\n",
      "['category_list']\n"
     ]
    }
   ],
   "source": [
    "wide_df = pd.DataFrame(mapping)\n",
    "wide_df\n",
    "\n",
    "# store the value and id variables in two separate arrays\n",
    "\n",
    "# store the value variables in one Series\n",
    "value_vars = list(wide_df.columns[1:])\n",
    "\n",
    "# take the setdiff() to get the rest of the variables\n",
    "id_vars = list(np.setdiff1d(wide_df.columns, value_vars))\n",
    "\n",
    "print(value_vars, \"\\n\")\n",
    "print(id_vars)"
   ]
  },
  {
   "cell_type": "code",
   "execution_count": 41,
   "metadata": {
    "execution": {
     "iopub.execute_input": "2020-10-28T02:24:29.581238Z",
     "iopub.status.busy": "2020-10-28T02:24:29.580010Z",
     "iopub.status.idle": "2020-10-28T02:24:29.585482Z",
     "shell.execute_reply": "2020-10-28T02:24:29.584879Z"
    },
    "papermill": {
     "duration": 0.122958,
     "end_time": "2020-10-28T02:24:29.585617",
     "exception": false,
     "start_time": "2020-10-28T02:24:29.462659",
     "status": "completed"
    },
    "tags": []
   },
   "outputs": [
    {
     "data": {
      "text/html": [
       "<div>\n",
       "<style scoped>\n",
       "    .dataframe tbody tr th:only-of-type {\n",
       "        vertical-align: middle;\n",
       "    }\n",
       "\n",
       "    .dataframe tbody tr th {\n",
       "        vertical-align: top;\n",
       "    }\n",
       "\n",
       "    .dataframe thead th {\n",
       "        text-align: right;\n",
       "    }\n",
       "</style>\n",
       "<table border=\"1\" class=\"dataframe\">\n",
       "  <thead>\n",
       "    <tr style=\"text-align: right;\">\n",
       "      <th></th>\n",
       "      <th>category_list</th>\n",
       "      <th>variable</th>\n",
       "      <th>value</th>\n",
       "    </tr>\n",
       "  </thead>\n",
       "  <tbody>\n",
       "    <tr>\n",
       "      <th>0</th>\n",
       "      <td>NaN</td>\n",
       "      <td>Automotive &amp; Sports</td>\n",
       "      <td>0</td>\n",
       "    </tr>\n",
       "    <tr>\n",
       "      <th>1</th>\n",
       "      <td>3D</td>\n",
       "      <td>Automotive &amp; Sports</td>\n",
       "      <td>0</td>\n",
       "    </tr>\n",
       "    <tr>\n",
       "      <th>2</th>\n",
       "      <td>3D Printing</td>\n",
       "      <td>Automotive &amp; Sports</td>\n",
       "      <td>0</td>\n",
       "    </tr>\n",
       "    <tr>\n",
       "      <th>3</th>\n",
       "      <td>3D Technology</td>\n",
       "      <td>Automotive &amp; Sports</td>\n",
       "      <td>0</td>\n",
       "    </tr>\n",
       "    <tr>\n",
       "      <th>4</th>\n",
       "      <td>Accounting</td>\n",
       "      <td>Automotive &amp; Sports</td>\n",
       "      <td>0</td>\n",
       "    </tr>\n",
       "    <tr>\n",
       "      <th>...</th>\n",
       "      <td>...</td>\n",
       "      <td>...</td>\n",
       "      <td>...</td>\n",
       "    </tr>\n",
       "    <tr>\n",
       "      <th>6187</th>\n",
       "      <td>Wholesale</td>\n",
       "      <td>Social, Finance, Analytics, Advertising</td>\n",
       "      <td>0</td>\n",
       "    </tr>\n",
       "    <tr>\n",
       "      <th>6188</th>\n",
       "      <td>Wine And Spirits</td>\n",
       "      <td>Social, Finance, Analytics, Advertising</td>\n",
       "      <td>0</td>\n",
       "    </tr>\n",
       "    <tr>\n",
       "      <th>6189</th>\n",
       "      <td>Wireless</td>\n",
       "      <td>Social, Finance, Analytics, Advertising</td>\n",
       "      <td>0</td>\n",
       "    </tr>\n",
       "    <tr>\n",
       "      <th>6190</th>\n",
       "      <td>Women</td>\n",
       "      <td>Social, Finance, Analytics, Advertising</td>\n",
       "      <td>0</td>\n",
       "    </tr>\n",
       "    <tr>\n",
       "      <th>6191</th>\n",
       "      <td>Young Adults</td>\n",
       "      <td>Social, Finance, Analytics, Advertising</td>\n",
       "      <td>0</td>\n",
       "    </tr>\n",
       "  </tbody>\n",
       "</table>\n",
       "<p>6192 rows × 3 columns</p>\n",
       "</div>"
      ],
      "text/plain": [
       "         category_list                                 variable  value\n",
       "0                  NaN                      Automotive & Sports      0\n",
       "1                   3D                      Automotive & Sports      0\n",
       "2          3D Printing                      Automotive & Sports      0\n",
       "3        3D Technology                      Automotive & Sports      0\n",
       "4           Accounting                      Automotive & Sports      0\n",
       "...                ...                                      ...    ...\n",
       "6187         Wholesale  Social, Finance, Analytics, Advertising      0\n",
       "6188  Wine And Spirits  Social, Finance, Analytics, Advertising      0\n",
       "6189          Wireless  Social, Finance, Analytics, Advertising      0\n",
       "6190             Women  Social, Finance, Analytics, Advertising      0\n",
       "6191      Young Adults  Social, Finance, Analytics, Advertising      0\n",
       "\n",
       "[6192 rows x 3 columns]"
      ]
     },
     "execution_count": 41,
     "metadata": {},
     "output_type": "execute_result"
    }
   ],
   "source": [
    "# convert into long\n",
    "long_df = pd.melt(wide_df, \n",
    "        id_vars = id_vars, \n",
    "        value_vars = value_vars)\n",
    "long_df"
   ]
  },
  {
   "cell_type": "code",
   "execution_count": 42,
   "metadata": {
    "execution": {
     "iopub.execute_input": "2020-10-28T02:24:29.794980Z",
     "iopub.status.busy": "2020-10-28T02:24:29.794041Z",
     "iopub.status.idle": "2020-10-28T02:24:29.798931Z",
     "shell.execute_reply": "2020-10-28T02:24:29.798266Z"
    },
    "papermill": {
     "duration": 0.116205,
     "end_time": "2020-10-28T02:24:29.799059",
     "exception": false,
     "start_time": "2020-10-28T02:24:29.682854",
     "status": "completed"
    },
    "tags": []
   },
   "outputs": [
    {
     "data": {
      "text/html": [
       "<div>\n",
       "<style scoped>\n",
       "    .dataframe tbody tr th:only-of-type {\n",
       "        vertical-align: middle;\n",
       "    }\n",
       "\n",
       "    .dataframe tbody tr th {\n",
       "        vertical-align: top;\n",
       "    }\n",
       "\n",
       "    .dataframe thead th {\n",
       "        text-align: right;\n",
       "    }\n",
       "</style>\n",
       "<table border=\"1\" class=\"dataframe\">\n",
       "  <thead>\n",
       "    <tr style=\"text-align: right;\">\n",
       "      <th></th>\n",
       "      <th>category_list</th>\n",
       "      <th>variable</th>\n",
       "    </tr>\n",
       "  </thead>\n",
       "  <tbody>\n",
       "    <tr>\n",
       "      <th>8</th>\n",
       "      <td>Adventure Travel</td>\n",
       "      <td>Automotive &amp; Sports</td>\n",
       "    </tr>\n",
       "    <tr>\n",
       "      <th>14</th>\n",
       "      <td>Aerospace</td>\n",
       "      <td>Automotive &amp; Sports</td>\n",
       "    </tr>\n",
       "    <tr>\n",
       "      <th>45</th>\n",
       "      <td>Auto</td>\n",
       "      <td>Automotive &amp; Sports</td>\n",
       "    </tr>\n",
       "    <tr>\n",
       "      <th>46</th>\n",
       "      <td>Automated Kiosk</td>\n",
       "      <td>Automotive &amp; Sports</td>\n",
       "    </tr>\n",
       "    <tr>\n",
       "      <th>47</th>\n",
       "      <td>Automotive</td>\n",
       "      <td>Automotive &amp; Sports</td>\n",
       "    </tr>\n",
       "    <tr>\n",
       "      <th>...</th>\n",
       "      <td>...</td>\n",
       "      <td>...</td>\n",
       "    </tr>\n",
       "    <tr>\n",
       "      <th>6121</th>\n",
       "      <td>Social Recruiting</td>\n",
       "      <td>Social, Finance, Analytics, Advertising</td>\n",
       "    </tr>\n",
       "    <tr>\n",
       "      <th>6122</th>\n",
       "      <td>Social Television</td>\n",
       "      <td>Social, Finance, Analytics, Advertising</td>\n",
       "    </tr>\n",
       "    <tr>\n",
       "      <th>6123</th>\n",
       "      <td>Social Travel</td>\n",
       "      <td>Social, Finance, Analytics, Advertising</td>\n",
       "    </tr>\n",
       "    <tr>\n",
       "      <th>6134</th>\n",
       "      <td>Stock Exchanges</td>\n",
       "      <td>Social, Finance, Analytics, Advertising</td>\n",
       "    </tr>\n",
       "    <tr>\n",
       "      <th>6167</th>\n",
       "      <td>Venture Capital</td>\n",
       "      <td>Social, Finance, Analytics, Advertising</td>\n",
       "    </tr>\n",
       "  </tbody>\n",
       "</table>\n",
       "<p>688 rows × 2 columns</p>\n",
       "</div>"
      ],
      "text/plain": [
       "          category_list                                 variable\n",
       "8      Adventure Travel                      Automotive & Sports\n",
       "14            Aerospace                      Automotive & Sports\n",
       "45                 Auto                      Automotive & Sports\n",
       "46      Automated Kiosk                      Automotive & Sports\n",
       "47           Automotive                      Automotive & Sports\n",
       "...                 ...                                      ...\n",
       "6121  Social Recruiting  Social, Finance, Analytics, Advertising\n",
       "6122  Social Television  Social, Finance, Analytics, Advertising\n",
       "6123      Social Travel  Social, Finance, Analytics, Advertising\n",
       "6134    Stock Exchanges  Social, Finance, Analytics, Advertising\n",
       "6167    Venture Capital  Social, Finance, Analytics, Advertising\n",
       "\n",
       "[688 rows x 2 columns]"
      ]
     },
     "execution_count": 42,
     "metadata": {},
     "output_type": "execute_result"
    }
   ],
   "source": [
    "# remove rows having value=0\n",
    "long_df = long_df[long_df['value']==1]\n",
    "long_df = long_df.drop('value', axis=1)\n",
    "long_df"
   ]
  },
  {
   "cell_type": "code",
   "execution_count": 43,
   "metadata": {
    "execution": {
     "iopub.execute_input": "2020-10-28T02:24:30.006009Z",
     "iopub.status.busy": "2020-10-28T02:24:30.000705Z",
     "iopub.status.idle": "2020-10-28T02:24:30.011698Z",
     "shell.execute_reply": "2020-10-28T02:24:30.010923Z"
    },
    "papermill": {
     "duration": 0.116628,
     "end_time": "2020-10-28T02:24:30.011859",
     "exception": false,
     "start_time": "2020-10-28T02:24:29.895231",
     "status": "completed"
    },
    "tags": []
   },
   "outputs": [
    {
     "data": {
      "text/html": [
       "<div>\n",
       "<style scoped>\n",
       "    .dataframe tbody tr th:only-of-type {\n",
       "        vertical-align: middle;\n",
       "    }\n",
       "\n",
       "    .dataframe tbody tr th {\n",
       "        vertical-align: top;\n",
       "    }\n",
       "\n",
       "    .dataframe thead th {\n",
       "        text-align: right;\n",
       "    }\n",
       "</style>\n",
       "<table border=\"1\" class=\"dataframe\">\n",
       "  <thead>\n",
       "    <tr style=\"text-align: right;\">\n",
       "      <th></th>\n",
       "      <th>category_list</th>\n",
       "      <th>main_sector</th>\n",
       "    </tr>\n",
       "  </thead>\n",
       "  <tbody>\n",
       "    <tr>\n",
       "      <th>8</th>\n",
       "      <td>Adventure Travel</td>\n",
       "      <td>Automotive &amp; Sports</td>\n",
       "    </tr>\n",
       "    <tr>\n",
       "      <th>14</th>\n",
       "      <td>Aerospace</td>\n",
       "      <td>Automotive &amp; Sports</td>\n",
       "    </tr>\n",
       "    <tr>\n",
       "      <th>45</th>\n",
       "      <td>Auto</td>\n",
       "      <td>Automotive &amp; Sports</td>\n",
       "    </tr>\n",
       "    <tr>\n",
       "      <th>46</th>\n",
       "      <td>Automated Kiosk</td>\n",
       "      <td>Automotive &amp; Sports</td>\n",
       "    </tr>\n",
       "    <tr>\n",
       "      <th>47</th>\n",
       "      <td>Automotive</td>\n",
       "      <td>Automotive &amp; Sports</td>\n",
       "    </tr>\n",
       "    <tr>\n",
       "      <th>...</th>\n",
       "      <td>...</td>\n",
       "      <td>...</td>\n",
       "    </tr>\n",
       "    <tr>\n",
       "      <th>6121</th>\n",
       "      <td>Social Recruiting</td>\n",
       "      <td>Social, Finance, Analytics, Advertising</td>\n",
       "    </tr>\n",
       "    <tr>\n",
       "      <th>6122</th>\n",
       "      <td>Social Television</td>\n",
       "      <td>Social, Finance, Analytics, Advertising</td>\n",
       "    </tr>\n",
       "    <tr>\n",
       "      <th>6123</th>\n",
       "      <td>Social Travel</td>\n",
       "      <td>Social, Finance, Analytics, Advertising</td>\n",
       "    </tr>\n",
       "    <tr>\n",
       "      <th>6134</th>\n",
       "      <td>Stock Exchanges</td>\n",
       "      <td>Social, Finance, Analytics, Advertising</td>\n",
       "    </tr>\n",
       "    <tr>\n",
       "      <th>6167</th>\n",
       "      <td>Venture Capital</td>\n",
       "      <td>Social, Finance, Analytics, Advertising</td>\n",
       "    </tr>\n",
       "  </tbody>\n",
       "</table>\n",
       "<p>688 rows × 2 columns</p>\n",
       "</div>"
      ],
      "text/plain": [
       "          category_list                              main_sector\n",
       "8      Adventure Travel                      Automotive & Sports\n",
       "14            Aerospace                      Automotive & Sports\n",
       "45                 Auto                      Automotive & Sports\n",
       "46      Automated Kiosk                      Automotive & Sports\n",
       "47           Automotive                      Automotive & Sports\n",
       "...                 ...                                      ...\n",
       "6121  Social Recruiting  Social, Finance, Analytics, Advertising\n",
       "6122  Social Television  Social, Finance, Analytics, Advertising\n",
       "6123      Social Travel  Social, Finance, Analytics, Advertising\n",
       "6134    Stock Exchanges  Social, Finance, Analytics, Advertising\n",
       "6167    Venture Capital  Social, Finance, Analytics, Advertising\n",
       "\n",
       "[688 rows x 2 columns]"
      ]
     },
     "execution_count": 43,
     "metadata": {},
     "output_type": "execute_result"
    }
   ],
   "source": [
    "# renaming the 'variable' column\n",
    "long_df = long_df.rename(columns={'variable': 'main_sector'})\n",
    "long_df"
   ]
  },
  {
   "cell_type": "code",
   "execution_count": 44,
   "metadata": {
    "execution": {
     "iopub.execute_input": "2020-10-28T02:24:30.225539Z",
     "iopub.status.busy": "2020-10-28T02:24:30.224396Z",
     "iopub.status.idle": "2020-10-28T02:24:30.229295Z",
     "shell.execute_reply": "2020-10-28T02:24:30.228497Z"
    },
    "papermill": {
     "duration": 0.117307,
     "end_time": "2020-10-28T02:24:30.229422",
     "exception": false,
     "start_time": "2020-10-28T02:24:30.112115",
     "status": "completed"
    },
    "tags": []
   },
   "outputs": [
    {
     "data": {
      "text/html": [
       "<div>\n",
       "<style scoped>\n",
       "    .dataframe tbody tr th:only-of-type {\n",
       "        vertical-align: middle;\n",
       "    }\n",
       "\n",
       "    .dataframe tbody tr th {\n",
       "        vertical-align: top;\n",
       "    }\n",
       "\n",
       "    .dataframe thead th {\n",
       "        text-align: right;\n",
       "    }\n",
       "</style>\n",
       "<table border=\"1\" class=\"dataframe\">\n",
       "  <thead>\n",
       "    <tr style=\"text-align: right;\">\n",
       "      <th></th>\n",
       "      <th>category_list</th>\n",
       "      <th>main_sector</th>\n",
       "    </tr>\n",
       "  </thead>\n",
       "  <tbody>\n",
       "    <tr>\n",
       "      <th>8</th>\n",
       "      <td>adventure travel</td>\n",
       "      <td>Automotive &amp; Sports</td>\n",
       "    </tr>\n",
       "    <tr>\n",
       "      <th>14</th>\n",
       "      <td>aerospace</td>\n",
       "      <td>Automotive &amp; Sports</td>\n",
       "    </tr>\n",
       "    <tr>\n",
       "      <th>45</th>\n",
       "      <td>auto</td>\n",
       "      <td>Automotive &amp; Sports</td>\n",
       "    </tr>\n",
       "    <tr>\n",
       "      <th>46</th>\n",
       "      <td>automated kiosk</td>\n",
       "      <td>Automotive &amp; Sports</td>\n",
       "    </tr>\n",
       "    <tr>\n",
       "      <th>47</th>\n",
       "      <td>automotive</td>\n",
       "      <td>Automotive &amp; Sports</td>\n",
       "    </tr>\n",
       "    <tr>\n",
       "      <th>...</th>\n",
       "      <td>...</td>\n",
       "      <td>...</td>\n",
       "    </tr>\n",
       "    <tr>\n",
       "      <th>6121</th>\n",
       "      <td>social recruiting</td>\n",
       "      <td>Social, Finance, Analytics, Advertising</td>\n",
       "    </tr>\n",
       "    <tr>\n",
       "      <th>6122</th>\n",
       "      <td>social television</td>\n",
       "      <td>Social, Finance, Analytics, Advertising</td>\n",
       "    </tr>\n",
       "    <tr>\n",
       "      <th>6123</th>\n",
       "      <td>social travel</td>\n",
       "      <td>Social, Finance, Analytics, Advertising</td>\n",
       "    </tr>\n",
       "    <tr>\n",
       "      <th>6134</th>\n",
       "      <td>stock exchanges</td>\n",
       "      <td>Social, Finance, Analytics, Advertising</td>\n",
       "    </tr>\n",
       "    <tr>\n",
       "      <th>6167</th>\n",
       "      <td>venture capital</td>\n",
       "      <td>Social, Finance, Analytics, Advertising</td>\n",
       "    </tr>\n",
       "  </tbody>\n",
       "</table>\n",
       "<p>688 rows × 2 columns</p>\n",
       "</div>"
      ],
      "text/plain": [
       "          category_list                              main_sector\n",
       "8      adventure travel                      Automotive & Sports\n",
       "14            aerospace                      Automotive & Sports\n",
       "45                 auto                      Automotive & Sports\n",
       "46      automated kiosk                      Automotive & Sports\n",
       "47           automotive                      Automotive & Sports\n",
       "...                 ...                                      ...\n",
       "6121  social recruiting  Social, Finance, Analytics, Advertising\n",
       "6122  social television  Social, Finance, Analytics, Advertising\n",
       "6123      social travel  Social, Finance, Analytics, Advertising\n",
       "6134    stock exchanges  Social, Finance, Analytics, Advertising\n",
       "6167    venture capital  Social, Finance, Analytics, Advertising\n",
       "\n",
       "[688 rows x 2 columns]"
      ]
     },
     "execution_count": 44,
     "metadata": {},
     "output_type": "execute_result"
    }
   ],
   "source": [
    "mapping = long_df\n",
    "mapping.category_list = mapping.category_list.str.lower()\n",
    "mapping\n"
   ]
  },
  {
   "cell_type": "code",
   "execution_count": 45,
   "metadata": {
    "execution": {
     "iopub.execute_input": "2020-10-28T02:24:30.434860Z",
     "iopub.status.busy": "2020-10-28T02:24:30.433864Z",
     "iopub.status.idle": "2020-10-28T02:24:30.438900Z",
     "shell.execute_reply": "2020-10-28T02:24:30.438273Z"
    },
    "papermill": {
     "duration": 0.111968,
     "end_time": "2020-10-28T02:24:30.439036",
     "exception": false,
     "start_time": "2020-10-28T02:24:30.327068",
     "status": "completed"
    },
    "tags": []
   },
   "outputs": [
    {
     "data": {
      "text/html": [
       "<div>\n",
       "<style scoped>\n",
       "    .dataframe tbody tr th:only-of-type {\n",
       "        vertical-align: middle;\n",
       "    }\n",
       "\n",
       "    .dataframe tbody tr th {\n",
       "        vertical-align: top;\n",
       "    }\n",
       "\n",
       "    .dataframe thead th {\n",
       "        text-align: right;\n",
       "    }\n",
       "</style>\n",
       "<table border=\"1\" class=\"dataframe\">\n",
       "  <thead>\n",
       "    <tr style=\"text-align: right;\">\n",
       "      <th></th>\n",
       "      <th>category_list</th>\n",
       "      <th>main_sector</th>\n",
       "    </tr>\n",
       "  </thead>\n",
       "  <tbody>\n",
       "  </tbody>\n",
       "</table>\n",
       "</div>"
      ],
      "text/plain": [
       "Empty DataFrame\n",
       "Columns: [category_list, main_sector]\n",
       "Index: []"
      ]
     },
     "execution_count": 45,
     "metadata": {},
     "output_type": "execute_result"
    }
   ],
   "source": [
    "mapping.loc[(mapping.category_list == 'enterprise 2.na')]"
   ]
  },
  {
   "cell_type": "markdown",
   "metadata": {
    "papermill": {
     "duration": 0.098178,
     "end_time": "2020-10-28T02:24:30.635557",
     "exception": false,
     "start_time": "2020-10-28T02:24:30.537379",
     "status": "completed"
    },
    "tags": []
   },
   "source": [
    "#### As part of Data cleaning on Mapping Dataset\n",
    "\n",
    "[NOTE]: when you analyze the mapping dataset  you will found some weird data it seems some issue in the data. like Analytics was A0lytics. \n",
    "\n",
    "when i did merge and check for null i found below result. how analytics come as NaN. then i checked my mapping file and found that Analytics was A0lytics\n",
    "\n",
    "same thing was happening for some other category like Finance = Fi0nce means 0 = na \n",
    "\n",
    "Analytics                          1334\n",
    "Finance                             561\n",
    "Nanotechnology                      141\n",
    "Financial Services                  105\n",
    "\n",
    "#then 141 records for Nanotechnology got failed we have to lower the case for category_list\n",
    "\n",
    "enterprise 2.0                     4\n",
    "adaptive equipment                 2\n",
    "retirement                         2\n",
    "racing                             1\n",
    "\n",
    "code to check after merging -- master_frame.loc[(master_frame.main_category.isnull())]['category_list'].value_counts()\n",
    "\n"
   ]
  },
  {
   "cell_type": "code",
   "execution_count": 46,
   "metadata": {
    "execution": {
     "iopub.execute_input": "2020-10-28T02:24:30.881737Z",
     "iopub.status.busy": "2020-10-28T02:24:30.854032Z",
     "iopub.status.idle": "2020-10-28T02:24:30.910279Z",
     "shell.execute_reply": "2020-10-28T02:24:30.910837Z"
    },
    "papermill": {
     "duration": 0.177,
     "end_time": "2020-10-28T02:24:30.911006",
     "exception": false,
     "start_time": "2020-10-28T02:24:30.734006",
     "status": "completed"
    },
    "tags": []
   },
   "outputs": [
    {
     "name": "stderr",
     "output_type": "stream",
     "text": [
      "/opt/conda/lib/python3.7/site-packages/ipykernel_launcher.py:6: SettingWithCopyWarning: \n",
      "A value is trying to be set on a copy of a slice from a DataFrame.\n",
      "Try using .loc[row_indexer,col_indexer] = value instead\n",
      "\n",
      "See the caveats in the documentation: https://pandas.pydata.org/pandas-docs/stable/user_guide/indexing.html#returning-a-view-versus-a-copy\n",
      "  \n"
     ]
    },
    {
     "data": {
      "text/plain": [
       "(38803, 7)"
      ]
     },
     "execution_count": 46,
     "metadata": {},
     "output_type": "execute_result"
    }
   ],
   "source": [
    "# Replacing 0 with na i.e A0lytics to Analytics\n",
    "mapping.category_list = mapping.category_list.str.replace('0','na')\n",
    "mapping.category_list = mapping.category_list.str.replace('2.na','2.0')\n",
    "\n",
    "# Lower case for master_frame['category_list'] so that no merging issue \n",
    "master_frame['category_list']=master_frame['category_list'].str.lower()\n",
    "master_frame = master_frame.merge(mapping, on='category_list', how='left')\n",
    "master_frame.shape\n"
   ]
  },
  {
   "cell_type": "code",
   "execution_count": 47,
   "metadata": {
    "execution": {
     "iopub.execute_input": "2020-10-28T02:24:31.125624Z",
     "iopub.status.busy": "2020-10-28T02:24:31.120294Z",
     "iopub.status.idle": "2020-10-28T02:24:31.165027Z",
     "shell.execute_reply": "2020-10-28T02:24:31.165635Z"
    },
    "papermill": {
     "duration": 0.154529,
     "end_time": "2020-10-28T02:24:31.165848",
     "exception": false,
     "start_time": "2020-10-28T02:24:31.011319",
     "status": "completed"
    },
    "tags": []
   },
   "outputs": [
    {
     "name": "stdout",
     "output_type": "stream",
     "text": [
      "<class 'pandas.core.frame.DataFrame'>\n",
      "Int64Index: 38803 entries, 0 to 38802\n",
      "Data columns (total 7 columns):\n",
      " #   Column              Non-Null Count  Dtype  \n",
      "---  ------              --------------  -----  \n",
      " 0   company_permalink   38803 non-null  object \n",
      " 1   funding_round_type  38803 non-null  object \n",
      " 2   raised_amount_usd   38803 non-null  float64\n",
      " 3   permalink           38803 non-null  object \n",
      " 4   category_list       38803 non-null  object \n",
      " 5   country_code        38803 non-null  object \n",
      " 6   main_sector         38792 non-null  object \n",
      "dtypes: float64(1), object(6)\n",
      "memory usage: 2.4+ MB\n"
     ]
    }
   ],
   "source": [
    "master_frame.info()"
   ]
  },
  {
   "cell_type": "code",
   "execution_count": 48,
   "metadata": {
    "execution": {
     "iopub.execute_input": "2020-10-28T02:24:31.383575Z",
     "iopub.status.busy": "2020-10-28T02:24:31.382625Z",
     "iopub.status.idle": "2020-10-28T02:24:31.387822Z",
     "shell.execute_reply": "2020-10-28T02:24:31.387143Z"
    },
    "papermill": {
     "duration": 0.120472,
     "end_time": "2020-10-28T02:24:31.387945",
     "exception": false,
     "start_time": "2020-10-28T02:24:31.267473",
     "status": "completed"
    },
    "tags": []
   },
   "outputs": [
    {
     "data": {
      "text/html": [
       "<div>\n",
       "<style scoped>\n",
       "    .dataframe tbody tr th:only-of-type {\n",
       "        vertical-align: middle;\n",
       "    }\n",
       "\n",
       "    .dataframe tbody tr th {\n",
       "        vertical-align: top;\n",
       "    }\n",
       "\n",
       "    .dataframe thead th {\n",
       "        text-align: right;\n",
       "    }\n",
       "</style>\n",
       "<table border=\"1\" class=\"dataframe\">\n",
       "  <thead>\n",
       "    <tr style=\"text-align: right;\">\n",
       "      <th></th>\n",
       "      <th>company_permalink</th>\n",
       "      <th>funding_round_type</th>\n",
       "      <th>raised_amount_usd</th>\n",
       "      <th>permalink</th>\n",
       "      <th>category_list</th>\n",
       "      <th>country_code</th>\n",
       "      <th>main_sector</th>\n",
       "    </tr>\n",
       "  </thead>\n",
       "  <tbody>\n",
       "    <tr>\n",
       "      <th>0</th>\n",
       "      <td>/organization/-fame</td>\n",
       "      <td>venture</td>\n",
       "      <td>10.0</td>\n",
       "      <td>/organization/-fame</td>\n",
       "      <td>media</td>\n",
       "      <td>IND</td>\n",
       "      <td>Entertainment</td>\n",
       "    </tr>\n",
       "    <tr>\n",
       "      <th>1</th>\n",
       "      <td>/organization/0xdata</td>\n",
       "      <td>venture</td>\n",
       "      <td>20.0</td>\n",
       "      <td>/organization/0xdata</td>\n",
       "      <td>analytics</td>\n",
       "      <td>USA</td>\n",
       "      <td>Social, Finance, Analytics, Advertising</td>\n",
       "    </tr>\n",
       "    <tr>\n",
       "      <th>2</th>\n",
       "      <td>/organization/0xdata</td>\n",
       "      <td>venture</td>\n",
       "      <td>1.7</td>\n",
       "      <td>/organization/0xdata</td>\n",
       "      <td>analytics</td>\n",
       "      <td>USA</td>\n",
       "      <td>Social, Finance, Analytics, Advertising</td>\n",
       "    </tr>\n",
       "    <tr>\n",
       "      <th>3</th>\n",
       "      <td>/organization/0xdata</td>\n",
       "      <td>venture</td>\n",
       "      <td>8.9</td>\n",
       "      <td>/organization/0xdata</td>\n",
       "      <td>analytics</td>\n",
       "      <td>USA</td>\n",
       "      <td>Social, Finance, Analytics, Advertising</td>\n",
       "    </tr>\n",
       "    <tr>\n",
       "      <th>4</th>\n",
       "      <td>/organization/1-mainstream</td>\n",
       "      <td>venture</td>\n",
       "      <td>5.0</td>\n",
       "      <td>/organization/1-mainstream</td>\n",
       "      <td>apps</td>\n",
       "      <td>USA</td>\n",
       "      <td>News, Search and Messaging</td>\n",
       "    </tr>\n",
       "  </tbody>\n",
       "</table>\n",
       "</div>"
      ],
      "text/plain": [
       "            company_permalink funding_round_type  raised_amount_usd  \\\n",
       "0         /organization/-fame            venture               10.0   \n",
       "1        /organization/0xdata            venture               20.0   \n",
       "2        /organization/0xdata            venture                1.7   \n",
       "3        /organization/0xdata            venture                8.9   \n",
       "4  /organization/1-mainstream            venture                5.0   \n",
       "\n",
       "                    permalink category_list country_code  \\\n",
       "0         /organization/-fame         media          IND   \n",
       "1        /organization/0xdata     analytics          USA   \n",
       "2        /organization/0xdata     analytics          USA   \n",
       "3        /organization/0xdata     analytics          USA   \n",
       "4  /organization/1-mainstream          apps          USA   \n",
       "\n",
       "                               main_sector  \n",
       "0                            Entertainment  \n",
       "1  Social, Finance, Analytics, Advertising  \n",
       "2  Social, Finance, Analytics, Advertising  \n",
       "3  Social, Finance, Analytics, Advertising  \n",
       "4               News, Search and Messaging  "
      ]
     },
     "execution_count": 48,
     "metadata": {},
     "output_type": "execute_result"
    }
   ],
   "source": [
    "master_frame.head()"
   ]
  },
  {
   "cell_type": "code",
   "execution_count": 49,
   "metadata": {
    "execution": {
     "iopub.execute_input": "2020-10-28T02:24:31.605217Z",
     "iopub.status.busy": "2020-10-28T02:24:31.604198Z",
     "iopub.status.idle": "2020-10-28T02:24:31.609088Z",
     "shell.execute_reply": "2020-10-28T02:24:31.608456Z"
    },
    "papermill": {
     "duration": 0.120044,
     "end_time": "2020-10-28T02:24:31.609232",
     "exception": false,
     "start_time": "2020-10-28T02:24:31.489188",
     "status": "completed"
    },
    "tags": []
   },
   "outputs": [
    {
     "data": {
      "text/plain": [
       "retirement                         2\n",
       "adaptive equipment                 2\n",
       "rapidly expanding                  1\n",
       "natural gas uses                   1\n",
       "specialty retail                   1\n",
       "biotechnology and semiconductor    1\n",
       "racing                             1\n",
       "product search                     1\n",
       "greentech                          1\n",
       "Name: category_list, dtype: int64"
      ]
     },
     "execution_count": 49,
     "metadata": {},
     "output_type": "execute_result"
    }
   ],
   "source": [
    "master_frame.loc[(master_frame.main_sector.isnull())]['category_list'].value_counts()\n"
   ]
  },
  {
   "cell_type": "code",
   "execution_count": 50,
   "metadata": {
    "execution": {
     "iopub.execute_input": "2020-10-28T02:24:31.830235Z",
     "iopub.status.busy": "2020-10-28T02:24:31.829338Z",
     "iopub.status.idle": "2020-10-28T02:24:31.833600Z",
     "shell.execute_reply": "2020-10-28T02:24:31.834247Z"
    },
    "papermill": {
     "duration": 0.121843,
     "end_time": "2020-10-28T02:24:31.834403",
     "exception": false,
     "start_time": "2020-10-28T02:24:31.712560",
     "status": "completed"
    },
    "tags": []
   },
   "outputs": [
    {
     "data": {
      "text/html": [
       "<div>\n",
       "<style scoped>\n",
       "    .dataframe tbody tr th:only-of-type {\n",
       "        vertical-align: middle;\n",
       "    }\n",
       "\n",
       "    .dataframe tbody tr th {\n",
       "        vertical-align: top;\n",
       "    }\n",
       "\n",
       "    .dataframe thead th {\n",
       "        text-align: right;\n",
       "    }\n",
       "</style>\n",
       "<table border=\"1\" class=\"dataframe\">\n",
       "  <thead>\n",
       "    <tr style=\"text-align: right;\">\n",
       "      <th></th>\n",
       "      <th>company_permalink</th>\n",
       "      <th>funding_round_type</th>\n",
       "      <th>raised_amount_usd</th>\n",
       "      <th>permalink</th>\n",
       "      <th>category_list</th>\n",
       "      <th>country_code</th>\n",
       "      <th>main_sector</th>\n",
       "    </tr>\n",
       "  </thead>\n",
       "  <tbody>\n",
       "    <tr>\n",
       "      <th>0</th>\n",
       "      <td>/organization/-fame</td>\n",
       "      <td>venture</td>\n",
       "      <td>10.0</td>\n",
       "      <td>/organization/-fame</td>\n",
       "      <td>media</td>\n",
       "      <td>IND</td>\n",
       "      <td>Entertainment</td>\n",
       "    </tr>\n",
       "    <tr>\n",
       "      <th>1</th>\n",
       "      <td>/organization/0xdata</td>\n",
       "      <td>venture</td>\n",
       "      <td>20.0</td>\n",
       "      <td>/organization/0xdata</td>\n",
       "      <td>analytics</td>\n",
       "      <td>USA</td>\n",
       "      <td>Social, Finance, Analytics, Advertising</td>\n",
       "    </tr>\n",
       "    <tr>\n",
       "      <th>2</th>\n",
       "      <td>/organization/0xdata</td>\n",
       "      <td>venture</td>\n",
       "      <td>1.7</td>\n",
       "      <td>/organization/0xdata</td>\n",
       "      <td>analytics</td>\n",
       "      <td>USA</td>\n",
       "      <td>Social, Finance, Analytics, Advertising</td>\n",
       "    </tr>\n",
       "    <tr>\n",
       "      <th>3</th>\n",
       "      <td>/organization/0xdata</td>\n",
       "      <td>venture</td>\n",
       "      <td>8.9</td>\n",
       "      <td>/organization/0xdata</td>\n",
       "      <td>analytics</td>\n",
       "      <td>USA</td>\n",
       "      <td>Social, Finance, Analytics, Advertising</td>\n",
       "    </tr>\n",
       "    <tr>\n",
       "      <th>4</th>\n",
       "      <td>/organization/1-mainstream</td>\n",
       "      <td>venture</td>\n",
       "      <td>5.0</td>\n",
       "      <td>/organization/1-mainstream</td>\n",
       "      <td>apps</td>\n",
       "      <td>USA</td>\n",
       "      <td>News, Search and Messaging</td>\n",
       "    </tr>\n",
       "  </tbody>\n",
       "</table>\n",
       "</div>"
      ],
      "text/plain": [
       "            company_permalink funding_round_type  raised_amount_usd  \\\n",
       "0         /organization/-fame            venture               10.0   \n",
       "1        /organization/0xdata            venture               20.0   \n",
       "2        /organization/0xdata            venture                1.7   \n",
       "3        /organization/0xdata            venture                8.9   \n",
       "4  /organization/1-mainstream            venture                5.0   \n",
       "\n",
       "                    permalink category_list country_code  \\\n",
       "0         /organization/-fame         media          IND   \n",
       "1        /organization/0xdata     analytics          USA   \n",
       "2        /organization/0xdata     analytics          USA   \n",
       "3        /organization/0xdata     analytics          USA   \n",
       "4  /organization/1-mainstream          apps          USA   \n",
       "\n",
       "                               main_sector  \n",
       "0                            Entertainment  \n",
       "1  Social, Finance, Analytics, Advertising  \n",
       "2  Social, Finance, Analytics, Advertising  \n",
       "3  Social, Finance, Analytics, Advertising  \n",
       "4               News, Search and Messaging  "
      ]
     },
     "execution_count": 50,
     "metadata": {},
     "output_type": "execute_result"
    }
   ],
   "source": [
    "master_frame.head()"
   ]
  },
  {
   "cell_type": "code",
   "execution_count": 51,
   "metadata": {
    "execution": {
     "iopub.execute_input": "2020-10-28T02:24:32.047736Z",
     "iopub.status.busy": "2020-10-28T02:24:32.046766Z",
     "iopub.status.idle": "2020-10-28T02:24:32.056180Z",
     "shell.execute_reply": "2020-10-28T02:24:32.055441Z"
    },
    "papermill": {
     "duration": 0.118924,
     "end_time": "2020-10-28T02:24:32.056311",
     "exception": false,
     "start_time": "2020-10-28T02:24:31.937387",
     "status": "completed"
    },
    "tags": []
   },
   "outputs": [
    {
     "data": {
      "text/plain": [
       "(13076, 7)"
      ]
     },
     "execution_count": 51,
     "metadata": {},
     "output_type": "execute_result"
    }
   ],
   "source": [
    "# the range of funding preferred by Spark Funds is 5 to 15 million USD\n",
    "master_frame = master_frame.loc[(master_frame.raised_amount_usd<=15)&(master_frame.raised_amount_usd>=5)]\n",
    "master_frame.shape"
   ]
  },
  {
   "cell_type": "code",
   "execution_count": 52,
   "metadata": {
    "execution": {
     "iopub.execute_input": "2020-10-28T02:24:32.279153Z",
     "iopub.status.busy": "2020-10-28T02:24:32.278304Z",
     "iopub.status.idle": "2020-10-28T02:24:32.286475Z",
     "shell.execute_reply": "2020-10-28T02:24:32.285750Z"
    },
    "papermill": {
     "duration": 0.127391,
     "end_time": "2020-10-28T02:24:32.286608",
     "exception": false,
     "start_time": "2020-10-28T02:24:32.159217",
     "status": "completed"
    },
    "tags": []
   },
   "outputs": [
    {
     "data": {
      "text/plain": [
       "company_permalink     0\n",
       "funding_round_type    0\n",
       "raised_amount_usd     0\n",
       "permalink             0\n",
       "category_list         0\n",
       "country_code          0\n",
       "main_sector           1\n",
       "dtype: int64"
      ]
     },
     "execution_count": 52,
     "metadata": {},
     "output_type": "execute_result"
    }
   ],
   "source": [
    "master_frame.isnull().sum()"
   ]
  },
  {
   "cell_type": "code",
   "execution_count": 53,
   "metadata": {
    "execution": {
     "iopub.execute_input": "2020-10-28T02:24:32.502449Z",
     "iopub.status.busy": "2020-10-28T02:24:32.501654Z",
     "iopub.status.idle": "2020-10-28T02:24:32.522057Z",
     "shell.execute_reply": "2020-10-28T02:24:32.521387Z"
    },
    "papermill": {
     "duration": 0.131654,
     "end_time": "2020-10-28T02:24:32.522193",
     "exception": false,
     "start_time": "2020-10-28T02:24:32.390539",
     "status": "completed"
    },
    "tags": []
   },
   "outputs": [
    {
     "data": {
      "text/plain": [
       "company_permalink     0\n",
       "funding_round_type    0\n",
       "raised_amount_usd     0\n",
       "permalink             0\n",
       "category_list         0\n",
       "country_code          0\n",
       "main_sector           0\n",
       "dtype: int64"
      ]
     },
     "execution_count": 53,
     "metadata": {},
     "output_type": "execute_result"
    }
   ],
   "source": [
    "## Removing null value\n",
    "\n",
    "master_frame = master_frame.loc[~(master_frame.main_sector.isnull())]\n",
    "master_frame.isnull().sum()"
   ]
  },
  {
   "cell_type": "markdown",
   "metadata": {
    "papermill": {
     "duration": 0.104809,
     "end_time": "2020-10-28T02:24:32.731968",
     "exception": false,
     "start_time": "2020-10-28T02:24:32.627159",
     "status": "completed"
    },
    "tags": []
   },
   "source": [
    " ## Checkpoint 5: Sector Analysis 2\n",
    " \n",
    " ---\n",
    " \n",
    "<li> Create three separate data frames D1, D2 and D3 for each of the three countries containing the observations of funding type FT falling within the 5-15 million USD range. \n",
    "    <li> The three data frames should contain all the columns of the master_frame along with the main sector and the primary sector. \n",
    "        <li> Using the three data frames, you can calculate the total number of investments and the total amount of investments in each main sector for each of the three countries."
   ]
  },
  {
   "cell_type": "code",
   "execution_count": 54,
   "metadata": {
    "execution": {
     "iopub.execute_input": "2020-10-28T02:24:32.950905Z",
     "iopub.status.busy": "2020-10-28T02:24:32.949911Z",
     "iopub.status.idle": "2020-10-28T02:24:32.974740Z",
     "shell.execute_reply": "2020-10-28T02:24:32.974027Z"
    },
    "papermill": {
     "duration": 0.13848,
     "end_time": "2020-10-28T02:24:32.974889",
     "exception": false,
     "start_time": "2020-10-28T02:24:32.836409",
     "status": "completed"
    },
    "tags": []
   },
   "outputs": [
    {
     "data": {
      "text/html": [
       "<div>\n",
       "<style scoped>\n",
       "    .dataframe tbody tr th:only-of-type {\n",
       "        vertical-align: middle;\n",
       "    }\n",
       "\n",
       "    .dataframe tbody tr th {\n",
       "        vertical-align: top;\n",
       "    }\n",
       "\n",
       "    .dataframe thead th {\n",
       "        text-align: right;\n",
       "    }\n",
       "</style>\n",
       "<table border=\"1\" class=\"dataframe\">\n",
       "  <thead>\n",
       "    <tr style=\"text-align: right;\">\n",
       "      <th></th>\n",
       "      <th>company_permalink</th>\n",
       "      <th>funding_round_type</th>\n",
       "      <th>raised_amount_usd</th>\n",
       "      <th>permalink</th>\n",
       "      <th>category_list</th>\n",
       "      <th>country_code</th>\n",
       "      <th>main_sector</th>\n",
       "    </tr>\n",
       "  </thead>\n",
       "  <tbody>\n",
       "    <tr>\n",
       "      <th>3</th>\n",
       "      <td>/organization/0xdata</td>\n",
       "      <td>venture</td>\n",
       "      <td>8.9</td>\n",
       "      <td>/organization/0xdata</td>\n",
       "      <td>analytics</td>\n",
       "      <td>USA</td>\n",
       "      <td>Social, Finance, Analytics, Advertising</td>\n",
       "    </tr>\n",
       "    <tr>\n",
       "      <th>4</th>\n",
       "      <td>/organization/1-mainstream</td>\n",
       "      <td>venture</td>\n",
       "      <td>5.0</td>\n",
       "      <td>/organization/1-mainstream</td>\n",
       "      <td>apps</td>\n",
       "      <td>USA</td>\n",
       "      <td>News, Search and Messaging</td>\n",
       "    </tr>\n",
       "    <tr>\n",
       "      <th>17</th>\n",
       "      <td>/organization/128-technology</td>\n",
       "      <td>venture</td>\n",
       "      <td>12.0</td>\n",
       "      <td>/organization/128-technology</td>\n",
       "      <td>service providers</td>\n",
       "      <td>USA</td>\n",
       "      <td>Others</td>\n",
       "    </tr>\n",
       "    <tr>\n",
       "      <th>20</th>\n",
       "      <td>/organization/1366-technologies</td>\n",
       "      <td>venture</td>\n",
       "      <td>15.0</td>\n",
       "      <td>/organization/1366-technologies</td>\n",
       "      <td>manufacturing</td>\n",
       "      <td>USA</td>\n",
       "      <td>Manufacturing</td>\n",
       "    </tr>\n",
       "    <tr>\n",
       "      <th>21</th>\n",
       "      <td>/organization/1366-technologies</td>\n",
       "      <td>venture</td>\n",
       "      <td>5.0</td>\n",
       "      <td>/organization/1366-technologies</td>\n",
       "      <td>manufacturing</td>\n",
       "      <td>USA</td>\n",
       "      <td>Manufacturing</td>\n",
       "    </tr>\n",
       "  </tbody>\n",
       "</table>\n",
       "</div>"
      ],
      "text/plain": [
       "                  company_permalink funding_round_type  raised_amount_usd  \\\n",
       "3              /organization/0xdata            venture                8.9   \n",
       "4        /organization/1-mainstream            venture                5.0   \n",
       "17     /organization/128-technology            venture               12.0   \n",
       "20  /organization/1366-technologies            venture               15.0   \n",
       "21  /organization/1366-technologies            venture                5.0   \n",
       "\n",
       "                          permalink      category_list country_code  \\\n",
       "3              /organization/0xdata          analytics          USA   \n",
       "4        /organization/1-mainstream               apps          USA   \n",
       "17     /organization/128-technology  service providers          USA   \n",
       "20  /organization/1366-technologies      manufacturing          USA   \n",
       "21  /organization/1366-technologies      manufacturing          USA   \n",
       "\n",
       "                                main_sector  \n",
       "3   Social, Finance, Analytics, Advertising  \n",
       "4                News, Search and Messaging  \n",
       "17                                   Others  \n",
       "20                            Manufacturing  \n",
       "21                            Manufacturing  "
      ]
     },
     "execution_count": 54,
     "metadata": {},
     "output_type": "execute_result"
    }
   ],
   "source": [
    "d1 = master_frame.loc[(master_frame.country_code=='USA')]\n",
    "d2 = master_frame.loc[(master_frame.country_code=='GBR')]\n",
    "d3 = master_frame.loc[(master_frame.country_code=='IND')]\n",
    "d1.head()"
   ]
  },
  {
   "cell_type": "code",
   "execution_count": 55,
   "metadata": {
    "execution": {
     "iopub.execute_input": "2020-10-28T02:24:33.204282Z",
     "iopub.status.busy": "2020-10-28T02:24:33.203367Z",
     "iopub.status.idle": "2020-10-28T02:24:33.207858Z",
     "shell.execute_reply": "2020-10-28T02:24:33.208400Z"
    },
    "papermill": {
     "duration": 0.125933,
     "end_time": "2020-10-28T02:24:33.208565",
     "exception": false,
     "start_time": "2020-10-28T02:24:33.082632",
     "status": "completed"
    },
    "tags": []
   },
   "outputs": [
    {
     "data": {
      "text/html": [
       "<div>\n",
       "<style scoped>\n",
       "    .dataframe tbody tr th:only-of-type {\n",
       "        vertical-align: middle;\n",
       "    }\n",
       "\n",
       "    .dataframe tbody tr th {\n",
       "        vertical-align: top;\n",
       "    }\n",
       "\n",
       "    .dataframe thead th {\n",
       "        text-align: right;\n",
       "    }\n",
       "</style>\n",
       "<table border=\"1\" class=\"dataframe\">\n",
       "  <thead>\n",
       "    <tr style=\"text-align: right;\">\n",
       "      <th></th>\n",
       "      <th>company_permalink</th>\n",
       "      <th>funding_round_type</th>\n",
       "      <th>raised_amount_usd</th>\n",
       "      <th>permalink</th>\n",
       "      <th>category_list</th>\n",
       "      <th>country_code</th>\n",
       "      <th>main_sector</th>\n",
       "    </tr>\n",
       "  </thead>\n",
       "  <tbody>\n",
       "    <tr>\n",
       "      <th>108</th>\n",
       "      <td>/organization/365scores</td>\n",
       "      <td>venture</td>\n",
       "      <td>5.5</td>\n",
       "      <td>/organization/365scores</td>\n",
       "      <td>android</td>\n",
       "      <td>GBR</td>\n",
       "      <td>Social, Finance, Analytics, Advertising</td>\n",
       "    </tr>\n",
       "    <tr>\n",
       "      <th>232</th>\n",
       "      <td>/organization/7digital</td>\n",
       "      <td>venture</td>\n",
       "      <td>8.5</td>\n",
       "      <td>/organization/7digital</td>\n",
       "      <td>content creators</td>\n",
       "      <td>GBR</td>\n",
       "      <td>Entertainment</td>\n",
       "    </tr>\n",
       "    <tr>\n",
       "      <th>233</th>\n",
       "      <td>/organization/7digital</td>\n",
       "      <td>venture</td>\n",
       "      <td>10.0</td>\n",
       "      <td>/organization/7digital</td>\n",
       "      <td>content creators</td>\n",
       "      <td>GBR</td>\n",
       "      <td>Entertainment</td>\n",
       "    </tr>\n",
       "    <tr>\n",
       "      <th>256</th>\n",
       "      <td>/organization/90min</td>\n",
       "      <td>venture</td>\n",
       "      <td>15.0</td>\n",
       "      <td>/organization/90min</td>\n",
       "      <td>media</td>\n",
       "      <td>GBR</td>\n",
       "      <td>Entertainment</td>\n",
       "    </tr>\n",
       "    <tr>\n",
       "      <th>257</th>\n",
       "      <td>/organization/90min</td>\n",
       "      <td>venture</td>\n",
       "      <td>5.8</td>\n",
       "      <td>/organization/90min</td>\n",
       "      <td>media</td>\n",
       "      <td>GBR</td>\n",
       "      <td>Entertainment</td>\n",
       "    </tr>\n",
       "  </tbody>\n",
       "</table>\n",
       "</div>"
      ],
      "text/plain": [
       "           company_permalink funding_round_type  raised_amount_usd  \\\n",
       "108  /organization/365scores            venture                5.5   \n",
       "232   /organization/7digital            venture                8.5   \n",
       "233   /organization/7digital            venture               10.0   \n",
       "256      /organization/90min            venture               15.0   \n",
       "257      /organization/90min            venture                5.8   \n",
       "\n",
       "                   permalink     category_list country_code  \\\n",
       "108  /organization/365scores           android          GBR   \n",
       "232   /organization/7digital  content creators          GBR   \n",
       "233   /organization/7digital  content creators          GBR   \n",
       "256      /organization/90min             media          GBR   \n",
       "257      /organization/90min             media          GBR   \n",
       "\n",
       "                                 main_sector  \n",
       "108  Social, Finance, Analytics, Advertising  \n",
       "232                            Entertainment  \n",
       "233                            Entertainment  \n",
       "256                            Entertainment  \n",
       "257                            Entertainment  "
      ]
     },
     "execution_count": 55,
     "metadata": {},
     "output_type": "execute_result"
    }
   ],
   "source": [
    "d2.head()"
   ]
  },
  {
   "cell_type": "code",
   "execution_count": 56,
   "metadata": {
    "execution": {
     "iopub.execute_input": "2020-10-28T02:24:33.438220Z",
     "iopub.status.busy": "2020-10-28T02:24:33.437207Z",
     "iopub.status.idle": "2020-10-28T02:24:33.442524Z",
     "shell.execute_reply": "2020-10-28T02:24:33.441755Z"
    },
    "papermill": {
     "duration": 0.126291,
     "end_time": "2020-10-28T02:24:33.442654",
     "exception": false,
     "start_time": "2020-10-28T02:24:33.316363",
     "status": "completed"
    },
    "tags": []
   },
   "outputs": [
    {
     "data": {
      "text/html": [
       "<div>\n",
       "<style scoped>\n",
       "    .dataframe tbody tr th:only-of-type {\n",
       "        vertical-align: middle;\n",
       "    }\n",
       "\n",
       "    .dataframe tbody tr th {\n",
       "        vertical-align: top;\n",
       "    }\n",
       "\n",
       "    .dataframe thead th {\n",
       "        text-align: right;\n",
       "    }\n",
       "</style>\n",
       "<table border=\"1\" class=\"dataframe\">\n",
       "  <thead>\n",
       "    <tr style=\"text-align: right;\">\n",
       "      <th></th>\n",
       "      <th>company_permalink</th>\n",
       "      <th>funding_round_type</th>\n",
       "      <th>raised_amount_usd</th>\n",
       "      <th>permalink</th>\n",
       "      <th>category_list</th>\n",
       "      <th>country_code</th>\n",
       "      <th>main_sector</th>\n",
       "    </tr>\n",
       "  </thead>\n",
       "  <tbody>\n",
       "    <tr>\n",
       "      <th>0</th>\n",
       "      <td>/organization/-fame</td>\n",
       "      <td>venture</td>\n",
       "      <td>10.0</td>\n",
       "      <td>/organization/-fame</td>\n",
       "      <td>media</td>\n",
       "      <td>IND</td>\n",
       "      <td>Entertainment</td>\n",
       "    </tr>\n",
       "    <tr>\n",
       "      <th>55</th>\n",
       "      <td>/organization/21diamonds-india</td>\n",
       "      <td>venture</td>\n",
       "      <td>6.4</td>\n",
       "      <td>/organization/21diamonds-india</td>\n",
       "      <td>e-commerce</td>\n",
       "      <td>IND</td>\n",
       "      <td>Others</td>\n",
       "    </tr>\n",
       "    <tr>\n",
       "      <th>276</th>\n",
       "      <td>/organization/a-little-world</td>\n",
       "      <td>venture</td>\n",
       "      <td>6.4</td>\n",
       "      <td>/organization/a-little-world</td>\n",
       "      <td>finance</td>\n",
       "      <td>IND</td>\n",
       "      <td>Social, Finance, Analytics, Advertising</td>\n",
       "    </tr>\n",
       "    <tr>\n",
       "      <th>926</th>\n",
       "      <td>/organization/adlabs-imagica</td>\n",
       "      <td>venture</td>\n",
       "      <td>8.2</td>\n",
       "      <td>/organization/adlabs-imagica</td>\n",
       "      <td>entertainment</td>\n",
       "      <td>IND</td>\n",
       "      <td>Entertainment</td>\n",
       "    </tr>\n",
       "    <tr>\n",
       "      <th>1262</th>\n",
       "      <td>/organization/agile</td>\n",
       "      <td>venture</td>\n",
       "      <td>5.7</td>\n",
       "      <td>/organization/agile</td>\n",
       "      <td>finance</td>\n",
       "      <td>IND</td>\n",
       "      <td>Social, Finance, Analytics, Advertising</td>\n",
       "    </tr>\n",
       "  </tbody>\n",
       "</table>\n",
       "</div>"
      ],
      "text/plain": [
       "                   company_permalink funding_round_type  raised_amount_usd  \\\n",
       "0                /organization/-fame            venture               10.0   \n",
       "55    /organization/21diamonds-india            venture                6.4   \n",
       "276     /organization/a-little-world            venture                6.4   \n",
       "926     /organization/adlabs-imagica            venture                8.2   \n",
       "1262             /organization/agile            venture                5.7   \n",
       "\n",
       "                           permalink  category_list country_code  \\\n",
       "0                /organization/-fame          media          IND   \n",
       "55    /organization/21diamonds-india     e-commerce          IND   \n",
       "276     /organization/a-little-world        finance          IND   \n",
       "926     /organization/adlabs-imagica  entertainment          IND   \n",
       "1262             /organization/agile        finance          IND   \n",
       "\n",
       "                                  main_sector  \n",
       "0                               Entertainment  \n",
       "55                                     Others  \n",
       "276   Social, Finance, Analytics, Advertising  \n",
       "926                             Entertainment  \n",
       "1262  Social, Finance, Analytics, Advertising  "
      ]
     },
     "execution_count": 56,
     "metadata": {},
     "output_type": "execute_result"
    }
   ],
   "source": [
    "d3.head()"
   ]
  },
  {
   "cell_type": "markdown",
   "metadata": {
    "papermill": {
     "duration": 0.107802,
     "end_time": "2020-10-28T02:24:33.657655",
     "exception": false,
     "start_time": "2020-10-28T02:24:33.549853",
     "status": "completed"
    },
    "tags": []
   },
   "source": [
    "1. Total number of investments (count)\n",
    "\n",
    "2. Total amount of investment (USD)\n",
    "\n",
    "3. Top sector (based on count of investments)\n",
    "\n",
    "4. Second-best sector (based on count of investments)\n",
    "\n",
    "5. Third-best sector (based on count of investments)\n",
    "\n",
    "6. Number of investments in the top sector (refer to point 3)\n",
    "\n",
    "7. Number of investments in the second-best sector (refer to point 4)\n",
    "\n",
    "8. Number of investments in the third-best sector (refer to point 5)\n",
    "\n",
    "9. For the top sector count-wise (point 3), which company received the highest investment?\n",
    "\n",
    "10. For the second-best sector count-wise (point 4), which company received the highest investment?"
   ]
  },
  {
   "cell_type": "code",
   "execution_count": 57,
   "metadata": {
    "execution": {
     "iopub.execute_input": "2020-10-28T02:24:33.884049Z",
     "iopub.status.busy": "2020-10-28T02:24:33.883024Z",
     "iopub.status.idle": "2020-10-28T02:24:33.887484Z",
     "shell.execute_reply": "2020-10-28T02:24:33.886889Z"
    },
    "papermill": {
     "duration": 0.120493,
     "end_time": "2020-10-28T02:24:33.887621",
     "exception": false,
     "start_time": "2020-10-28T02:24:33.767128",
     "status": "completed"
    },
    "tags": []
   },
   "outputs": [
    {
     "data": {
      "text/plain": [
       "<pandas.core.groupby.generic.DataFrameGroupBy object at 0x7fb46e205e50>"
      ]
     },
     "execution_count": 57,
     "metadata": {},
     "output_type": "execute_result"
    }
   ],
   "source": [
    "res_d1 = d1.groupby(d1['main_sector'])\n",
    "res_d1\n",
    "#d1 = d1.merge(res_d1,how='left', on='main_sector')\n",
    "#d1"
   ]
  },
  {
   "cell_type": "code",
   "execution_count": 58,
   "metadata": {
    "execution": {
     "iopub.execute_input": "2020-10-28T02:24:34.120553Z",
     "iopub.status.busy": "2020-10-28T02:24:34.119640Z",
     "iopub.status.idle": "2020-10-28T02:24:34.123311Z",
     "shell.execute_reply": "2020-10-28T02:24:34.124261Z"
    },
    "papermill": {
     "duration": 0.127412,
     "end_time": "2020-10-28T02:24:34.124464",
     "exception": false,
     "start_time": "2020-10-28T02:24:33.997052",
     "status": "completed"
    },
    "tags": []
   },
   "outputs": [
    {
     "name": "stdout",
     "output_type": "stream",
     "text": [
      "12122\n",
      "624\n",
      "329\n"
     ]
    }
   ],
   "source": [
    "#Total number of investments (count)\n",
    "\n",
    "print(d1.main_sector.value_counts().sum())\n",
    "print(d2.main_sector.value_counts().sum())\n",
    "print(d3.main_sector.value_counts().sum())"
   ]
  },
  {
   "cell_type": "code",
   "execution_count": 59,
   "metadata": {
    "execution": {
     "iopub.execute_input": "2020-10-28T02:24:34.349534Z",
     "iopub.status.busy": "2020-10-28T02:24:34.348634Z",
     "iopub.status.idle": "2020-10-28T02:24:34.353962Z",
     "shell.execute_reply": "2020-10-28T02:24:34.353247Z"
    },
    "papermill": {
     "duration": 0.120142,
     "end_time": "2020-10-28T02:24:34.354122",
     "exception": false,
     "start_time": "2020-10-28T02:24:34.233980",
     "status": "completed"
    },
    "tags": []
   },
   "outputs": [],
   "source": [
    "#d1['main_sector_raised_amount_usd'] = d1.groupby(d1['main_sector'])['raised_amount_usd'].sum()\n",
    "res_d1 = d1.groupby(d1['main_sector'])['raised_amount_usd'].sum()"
   ]
  },
  {
   "cell_type": "code",
   "execution_count": 60,
   "metadata": {
    "execution": {
     "iopub.execute_input": "2020-10-28T02:24:34.578843Z",
     "iopub.status.busy": "2020-10-28T02:24:34.577693Z",
     "iopub.status.idle": "2020-10-28T02:24:34.581088Z",
     "shell.execute_reply": "2020-10-28T02:24:34.580485Z"
    },
    "papermill": {
     "duration": 0.118757,
     "end_time": "2020-10-28T02:24:34.581234",
     "exception": false,
     "start_time": "2020-10-28T02:24:34.462477",
     "status": "completed"
    },
    "tags": []
   },
   "outputs": [],
   "source": [
    "res_d3 = d3.groupby(d3['main_sector'])['raised_amount_usd'].sum()"
   ]
  },
  {
   "cell_type": "code",
   "execution_count": 61,
   "metadata": {
    "execution": {
     "iopub.execute_input": "2020-10-28T02:24:34.805422Z",
     "iopub.status.busy": "2020-10-28T02:24:34.803929Z",
     "iopub.status.idle": "2020-10-28T02:24:34.808482Z",
     "shell.execute_reply": "2020-10-28T02:24:34.809041Z"
    },
    "papermill": {
     "duration": 0.119133,
     "end_time": "2020-10-28T02:24:34.809228",
     "exception": false,
     "start_time": "2020-10-28T02:24:34.690095",
     "status": "completed"
    },
    "tags": []
   },
   "outputs": [],
   "source": [
    "res_d2 = d2.groupby(d2['main_sector'])['raised_amount_usd'].sum()"
   ]
  },
  {
   "cell_type": "code",
   "execution_count": 62,
   "metadata": {
    "execution": {
     "iopub.execute_input": "2020-10-28T02:24:35.037687Z",
     "iopub.status.busy": "2020-10-28T02:24:35.036752Z",
     "iopub.status.idle": "2020-10-28T02:24:35.041292Z",
     "shell.execute_reply": "2020-10-28T02:24:35.040316Z"
    },
    "papermill": {
     "duration": 0.122144,
     "end_time": "2020-10-28T02:24:35.041430",
     "exception": false,
     "start_time": "2020-10-28T02:24:34.919286",
     "status": "completed"
    },
    "tags": []
   },
   "outputs": [
    {
     "name": "stdout",
     "output_type": "stream",
     "text": [
      "108249.0\n",
      "5404.1\n",
      "2954.7\n"
     ]
    }
   ],
   "source": [
    "#Total amount of investment (USD)\n",
    "\n",
    "print(res_d1.sum().round(2))\n",
    "print(res_d2.sum().round(2))\n",
    "print(res_d3.sum().round(2))"
   ]
  },
  {
   "cell_type": "code",
   "execution_count": 63,
   "metadata": {
    "execution": {
     "iopub.execute_input": "2020-10-28T02:24:35.274360Z",
     "iopub.status.busy": "2020-10-28T02:24:35.273220Z",
     "iopub.status.idle": "2020-10-28T02:24:35.297089Z",
     "shell.execute_reply": "2020-10-28T02:24:35.296355Z"
    },
    "papermill": {
     "duration": 0.14371,
     "end_time": "2020-10-28T02:24:35.297222",
     "exception": false,
     "start_time": "2020-10-28T02:24:35.153512",
     "status": "completed"
    },
    "tags": []
   },
   "outputs": [
    {
     "data": {
      "text/html": [
       "<div>\n",
       "<style scoped>\n",
       "    .dataframe tbody tr th:only-of-type {\n",
       "        vertical-align: middle;\n",
       "    }\n",
       "\n",
       "    .dataframe tbody tr th {\n",
       "        vertical-align: top;\n",
       "    }\n",
       "\n",
       "    .dataframe thead tr th {\n",
       "        text-align: left;\n",
       "    }\n",
       "\n",
       "    .dataframe thead tr:last-of-type th {\n",
       "        text-align: right;\n",
       "    }\n",
       "</style>\n",
       "<table border=\"1\" class=\"dataframe\">\n",
       "  <thead>\n",
       "    <tr>\n",
       "      <th></th>\n",
       "      <th>sum</th>\n",
       "      <th>count</th>\n",
       "    </tr>\n",
       "    <tr>\n",
       "      <th></th>\n",
       "      <th>raised_amount_usd</th>\n",
       "      <th>raised_amount_usd</th>\n",
       "    </tr>\n",
       "    <tr>\n",
       "      <th>main_sector</th>\n",
       "      <th></th>\n",
       "      <th></th>\n",
       "    </tr>\n",
       "  </thead>\n",
       "  <tbody>\n",
       "    <tr>\n",
       "      <th>Automotive &amp; Sports</th>\n",
       "      <td>1469.3</td>\n",
       "      <td>168</td>\n",
       "    </tr>\n",
       "    <tr>\n",
       "      <th>Cleantech / Semiconductors</th>\n",
       "      <td>21753.6</td>\n",
       "      <td>2364</td>\n",
       "    </tr>\n",
       "    <tr>\n",
       "      <th>Entertainment</th>\n",
       "      <td>5119.0</td>\n",
       "      <td>593</td>\n",
       "    </tr>\n",
       "    <tr>\n",
       "      <th>Health</th>\n",
       "      <td>8301.1</td>\n",
       "      <td>919</td>\n",
       "    </tr>\n",
       "    <tr>\n",
       "      <th>Manufacturing</th>\n",
       "      <td>7322.4</td>\n",
       "      <td>806</td>\n",
       "    </tr>\n",
       "    <tr>\n",
       "      <th>News, Search and Messaging</th>\n",
       "      <td>13996.6</td>\n",
       "      <td>1588</td>\n",
       "    </tr>\n",
       "    <tr>\n",
       "      <th>Others</th>\n",
       "      <td>26405.6</td>\n",
       "      <td>2961</td>\n",
       "    </tr>\n",
       "    <tr>\n",
       "      <th>Social, Finance, Analytics, Advertising</th>\n",
       "      <td>23881.4</td>\n",
       "      <td>2723</td>\n",
       "    </tr>\n",
       "  </tbody>\n",
       "</table>\n",
       "</div>"
      ],
      "text/plain": [
       "                                                      sum             count\n",
       "                                        raised_amount_usd raised_amount_usd\n",
       "main_sector                                                                \n",
       "Automotive & Sports                                1469.3               168\n",
       "Cleantech / Semiconductors                        21753.6              2364\n",
       "Entertainment                                      5119.0               593\n",
       "Health                                             8301.1               919\n",
       "Manufacturing                                      7322.4               806\n",
       "News, Search and Messaging                        13996.6              1588\n",
       "Others                                            26405.6              2961\n",
       "Social, Finance, Analytics, Advertising           23881.4              2723"
      ]
     },
     "execution_count": 63,
     "metadata": {},
     "output_type": "execute_result"
    }
   ],
   "source": [
    "# Top sector (based on count of investments)\n",
    "\n",
    "d1_pivot = pd.pivot_table(data=d1,values=\"raised_amount_usd\",index=\"main_sector\", aggfunc=[sum,'count'])\n",
    "d1_pivot\n",
    "#Others\t26405.6\t2961\n",
    "#Social, Finance, Analytics, Advertising\t23881.4\t2723\n",
    "# Cleantech / Semiconductors\t21753.6\t2364"
   ]
  },
  {
   "cell_type": "code",
   "execution_count": 64,
   "metadata": {
    "execution": {
     "iopub.execute_input": "2020-10-28T02:24:35.546849Z",
     "iopub.status.busy": "2020-10-28T02:24:35.545851Z",
     "iopub.status.idle": "2020-10-28T02:24:35.550988Z",
     "shell.execute_reply": "2020-10-28T02:24:35.550399Z"
    },
    "papermill": {
     "duration": 0.141015,
     "end_time": "2020-10-28T02:24:35.551113",
     "exception": false,
     "start_time": "2020-10-28T02:24:35.410098",
     "status": "completed"
    },
    "tags": []
   },
   "outputs": [
    {
     "data": {
      "text/html": [
       "<div>\n",
       "<style scoped>\n",
       "    .dataframe tbody tr th:only-of-type {\n",
       "        vertical-align: middle;\n",
       "    }\n",
       "\n",
       "    .dataframe tbody tr th {\n",
       "        vertical-align: top;\n",
       "    }\n",
       "\n",
       "    .dataframe thead tr th {\n",
       "        text-align: left;\n",
       "    }\n",
       "\n",
       "    .dataframe thead tr:last-of-type th {\n",
       "        text-align: right;\n",
       "    }\n",
       "</style>\n",
       "<table border=\"1\" class=\"dataframe\">\n",
       "  <thead>\n",
       "    <tr>\n",
       "      <th></th>\n",
       "      <th>sum</th>\n",
       "      <th>count</th>\n",
       "    </tr>\n",
       "    <tr>\n",
       "      <th></th>\n",
       "      <th>raised_amount_usd</th>\n",
       "      <th>raised_amount_usd</th>\n",
       "    </tr>\n",
       "    <tr>\n",
       "      <th>main_sector</th>\n",
       "      <th></th>\n",
       "      <th></th>\n",
       "    </tr>\n",
       "  </thead>\n",
       "  <tbody>\n",
       "    <tr>\n",
       "      <th>Automotive &amp; Sports</th>\n",
       "      <td>167.0</td>\n",
       "      <td>16</td>\n",
       "    </tr>\n",
       "    <tr>\n",
       "      <th>Cleantech / Semiconductors</th>\n",
       "      <td>1169.1</td>\n",
       "      <td>131</td>\n",
       "    </tr>\n",
       "    <tr>\n",
       "      <th>Entertainment</th>\n",
       "      <td>482.9</td>\n",
       "      <td>56</td>\n",
       "    </tr>\n",
       "    <tr>\n",
       "      <th>Health</th>\n",
       "      <td>214.4</td>\n",
       "      <td>24</td>\n",
       "    </tr>\n",
       "    <tr>\n",
       "      <th>Manufacturing</th>\n",
       "      <td>361.9</td>\n",
       "      <td>42</td>\n",
       "    </tr>\n",
       "    <tr>\n",
       "      <th>News, Search and Messaging</th>\n",
       "      <td>615.6</td>\n",
       "      <td>73</td>\n",
       "    </tr>\n",
       "    <tr>\n",
       "      <th>Others</th>\n",
       "      <td>1303.9</td>\n",
       "      <td>149</td>\n",
       "    </tr>\n",
       "    <tr>\n",
       "      <th>Social, Finance, Analytics, Advertising</th>\n",
       "      <td>1089.3</td>\n",
       "      <td>133</td>\n",
       "    </tr>\n",
       "  </tbody>\n",
       "</table>\n",
       "</div>"
      ],
      "text/plain": [
       "                                                      sum             count\n",
       "                                        raised_amount_usd raised_amount_usd\n",
       "main_sector                                                                \n",
       "Automotive & Sports                                 167.0                16\n",
       "Cleantech / Semiconductors                         1169.1               131\n",
       "Entertainment                                       482.9                56\n",
       "Health                                              214.4                24\n",
       "Manufacturing                                       361.9                42\n",
       "News, Search and Messaging                          615.6                73\n",
       "Others                                             1303.9               149\n",
       "Social, Finance, Analytics, Advertising            1089.3               133"
      ]
     },
     "execution_count": 64,
     "metadata": {},
     "output_type": "execute_result"
    }
   ],
   "source": [
    "# Top second sector (based on count of investments)\n",
    "\n",
    "d2_pivot = pd.pivot_table(data=d2,values=\"raised_amount_usd\",index=\"main_sector\", aggfunc=[sum,'count'])\n",
    "d2_pivot\n",
    "# Others\t1303.9\t149\n",
    "# Social, Finance, Analytics, Advertising\t1089.3\t133\n",
    "# Cleantech / Semiconductors\t1169.1\t131"
   ]
  },
  {
   "cell_type": "code",
   "execution_count": 65,
   "metadata": {
    "execution": {
     "iopub.execute_input": "2020-10-28T02:24:35.804093Z",
     "iopub.status.busy": "2020-10-28T02:24:35.803169Z",
     "iopub.status.idle": "2020-10-28T02:24:35.807633Z",
     "shell.execute_reply": "2020-10-28T02:24:35.806853Z"
    },
    "papermill": {
     "duration": 0.146152,
     "end_time": "2020-10-28T02:24:35.807793",
     "exception": false,
     "start_time": "2020-10-28T02:24:35.661641",
     "status": "completed"
    },
    "tags": []
   },
   "outputs": [
    {
     "data": {
      "text/html": [
       "<div>\n",
       "<style scoped>\n",
       "    .dataframe tbody tr th:only-of-type {\n",
       "        vertical-align: middle;\n",
       "    }\n",
       "\n",
       "    .dataframe tbody tr th {\n",
       "        vertical-align: top;\n",
       "    }\n",
       "\n",
       "    .dataframe thead tr th {\n",
       "        text-align: left;\n",
       "    }\n",
       "\n",
       "    .dataframe thead tr:last-of-type th {\n",
       "        text-align: right;\n",
       "    }\n",
       "</style>\n",
       "<table border=\"1\" class=\"dataframe\">\n",
       "  <thead>\n",
       "    <tr>\n",
       "      <th></th>\n",
       "      <th>sum</th>\n",
       "      <th>count</th>\n",
       "    </tr>\n",
       "    <tr>\n",
       "      <th></th>\n",
       "      <th>raised_amount_usd</th>\n",
       "      <th>raised_amount_usd</th>\n",
       "    </tr>\n",
       "    <tr>\n",
       "      <th>main_sector</th>\n",
       "      <th></th>\n",
       "      <th></th>\n",
       "    </tr>\n",
       "  </thead>\n",
       "  <tbody>\n",
       "    <tr>\n",
       "      <th>Automotive &amp; Sports</th>\n",
       "      <td>136.9</td>\n",
       "      <td>13</td>\n",
       "    </tr>\n",
       "    <tr>\n",
       "      <th>Cleantech / Semiconductors</th>\n",
       "      <td>165.3</td>\n",
       "      <td>20</td>\n",
       "    </tr>\n",
       "    <tr>\n",
       "      <th>Entertainment</th>\n",
       "      <td>280.9</td>\n",
       "      <td>33</td>\n",
       "    </tr>\n",
       "    <tr>\n",
       "      <th>Health</th>\n",
       "      <td>167.8</td>\n",
       "      <td>19</td>\n",
       "    </tr>\n",
       "    <tr>\n",
       "      <th>Manufacturing</th>\n",
       "      <td>201.0</td>\n",
       "      <td>21</td>\n",
       "    </tr>\n",
       "    <tr>\n",
       "      <th>News, Search and Messaging</th>\n",
       "      <td>438.9</td>\n",
       "      <td>53</td>\n",
       "    </tr>\n",
       "    <tr>\n",
       "      <th>Others</th>\n",
       "      <td>1013.4</td>\n",
       "      <td>110</td>\n",
       "    </tr>\n",
       "    <tr>\n",
       "      <th>Social, Finance, Analytics, Advertising</th>\n",
       "      <td>550.5</td>\n",
       "      <td>60</td>\n",
       "    </tr>\n",
       "  </tbody>\n",
       "</table>\n",
       "</div>"
      ],
      "text/plain": [
       "                                                      sum             count\n",
       "                                        raised_amount_usd raised_amount_usd\n",
       "main_sector                                                                \n",
       "Automotive & Sports                                 136.9                13\n",
       "Cleantech / Semiconductors                          165.3                20\n",
       "Entertainment                                       280.9                33\n",
       "Health                                              167.8                19\n",
       "Manufacturing                                       201.0                21\n",
       "News, Search and Messaging                          438.9                53\n",
       "Others                                             1013.4               110\n",
       "Social, Finance, Analytics, Advertising             550.5                60"
      ]
     },
     "execution_count": 65,
     "metadata": {},
     "output_type": "execute_result"
    }
   ],
   "source": [
    "# Top third (based on count of investments)\n",
    "\n",
    "d3_pivot = pd.pivot_table(data=d3,values=\"raised_amount_usd\",index=\"main_sector\", aggfunc=[sum,'count'])\n",
    "d3_pivot\n",
    "# Others\t1013.4\t110\n",
    "# Social, Finance, Analytics, Advertising\t550.5\t60\n",
    "# News, Search and Messaging\t438.9\t53"
   ]
  },
  {
   "cell_type": "code",
   "execution_count": 66,
   "metadata": {
    "execution": {
     "iopub.execute_input": "2020-10-28T02:24:36.050050Z",
     "iopub.status.busy": "2020-10-28T02:24:36.044740Z",
     "iopub.status.idle": "2020-10-28T02:24:36.077972Z",
     "shell.execute_reply": "2020-10-28T02:24:36.078637Z"
    },
    "papermill": {
     "duration": 0.157895,
     "end_time": "2020-10-28T02:24:36.078826",
     "exception": false,
     "start_time": "2020-10-28T02:24:35.920931",
     "status": "completed"
    },
    "tags": []
   },
   "outputs": [
    {
     "name": "stdout",
     "output_type": "stream",
     "text": [
      "                           raised_amount_usd\n",
      "company_permalink                           \n",
      "/organization/virtustream               64.4\n",
      "                           raised_amount_usd\n",
      "company_permalink                           \n",
      "/organization/shotspotter               68.0\n"
     ]
    }
   ],
   "source": [
    "# For the top sector count-wise (point 3), which company received the highest investment?\n",
    "\n",
    "d1_comp_top1 = d1.loc[(d1.main_sector == 'Others')]\n",
    "\n",
    "d1_comp_top1_pivot = pd.pivot_table(data=d1_comp_top1,values=\"raised_amount_usd\",index=\"company_permalink\", aggfunc=sum)\n",
    "\n",
    "d1_comp_top1_pivot = d1_comp_top1_pivot.sort_values(by='raised_amount_usd', ascending= False)\n",
    "print(d1_comp_top1_pivot.head(1))\n",
    "\n",
    "# For the second top sector count-wise (point 3), which company received the highest investment?\n",
    "d1_comp_top2 = d1.loc[(d1.main_sector == 'Social, Finance, Analytics, Advertising')]\n",
    "\n",
    "d1_comp_top2_pivot = pd.pivot_table(data=d1_comp_top2,values=\"raised_amount_usd\",index=\"company_permalink\", aggfunc=sum)\n",
    "\n",
    "d1_comp_top2_pivot = d1_comp_top2_pivot.sort_values(by='raised_amount_usd', ascending= False)\n",
    "print(d1_comp_top2_pivot.head(1))\n"
   ]
  },
  {
   "cell_type": "code",
   "execution_count": 67,
   "metadata": {
    "execution": {
     "iopub.execute_input": "2020-10-28T02:24:36.339885Z",
     "iopub.status.busy": "2020-10-28T02:24:36.339075Z",
     "iopub.status.idle": "2020-10-28T02:24:36.343199Z",
     "shell.execute_reply": "2020-10-28T02:24:36.343743Z"
    },
    "papermill": {
     "duration": 0.14944,
     "end_time": "2020-10-28T02:24:36.343905",
     "exception": false,
     "start_time": "2020-10-28T02:24:36.194465",
     "status": "completed"
    },
    "tags": []
   },
   "outputs": [
    {
     "name": "stdout",
     "output_type": "stream",
     "text": [
      "                              raised_amount_usd\n",
      "company_permalink                              \n",
      "/organization/electric-cloud               37.0\n",
      "                                     raised_amount_usd\n",
      "company_permalink                                     \n",
      "/organization/celltick-technologies               37.5\n"
     ]
    }
   ],
   "source": [
    "d2_comp_top1 = d2.loc[(d2.main_sector == 'Others')]\n",
    "\n",
    "d2_comp_top1_pivot = pd.pivot_table(data=d2_comp_top1,values=\"raised_amount_usd\",index=\"company_permalink\", aggfunc=sum)\n",
    "\n",
    "d2_comp_top1_pivot = d2_comp_top1_pivot.sort_values(by='raised_amount_usd', ascending= False)\n",
    "print(d2_comp_top1_pivot.head(1))\n",
    "\n",
    "# For the second top sector count-wise (point 3), which company received the highest investment?\n",
    "d2_comp_top2 = d2.loc[(d2.main_sector == 'Social, Finance, Analytics, Advertising')]\n",
    "\n",
    "d2_comp_top2_pivot = pd.pivot_table(data=d2_comp_top2,values=\"raised_amount_usd\",index=\"company_permalink\", aggfunc=sum)\n",
    "\n",
    "d2_comp_top2_pivot = d2_comp_top2_pivot.sort_values(by='raised_amount_usd', ascending= False)\n",
    "print(d2_comp_top2_pivot.head(1))"
   ]
  },
  {
   "cell_type": "code",
   "execution_count": 68,
   "metadata": {
    "execution": {
     "iopub.execute_input": "2020-10-28T02:24:36.598440Z",
     "iopub.status.busy": "2020-10-28T02:24:36.586461Z",
     "iopub.status.idle": "2020-10-28T02:24:36.603232Z",
     "shell.execute_reply": "2020-10-28T02:24:36.602399Z"
    },
    "papermill": {
     "duration": 0.147019,
     "end_time": "2020-10-28T02:24:36.603414",
     "exception": false,
     "start_time": "2020-10-28T02:24:36.456395",
     "status": "completed"
    },
    "tags": []
   },
   "outputs": [
    {
     "name": "stdout",
     "output_type": "stream",
     "text": [
      "                            raised_amount_usd\n",
      "company_permalink                            \n",
      "/organization/firstcry-com               39.0\n",
      "                               raised_amount_usd\n",
      "company_permalink                               \n",
      "/organization/manthan-systems               50.7\n"
     ]
    }
   ],
   "source": [
    "d3_comp_top1 = d3.loc[(d3.main_sector == 'Others')]\n",
    "\n",
    "d3_comp_top1_pivot = pd.pivot_table(data=d3_comp_top1,values=\"raised_amount_usd\",index=\"company_permalink\", aggfunc=sum)\n",
    "\n",
    "d3_comp_top1_pivot = d3_comp_top1_pivot.sort_values(by='raised_amount_usd', ascending= False)\n",
    "print(d3_comp_top1_pivot.head(1))\n",
    "\n",
    "# For the second top sector count-wise (point 3), which company received the highest investment?\n",
    "d3_comp_top2 = d3.loc[(d3.main_sector == 'Social, Finance, Analytics, Advertising')]\n",
    "\n",
    "d3_comp_top2_pivot = pd.pivot_table(data=d3_comp_top2,values=\"raised_amount_usd\",index=\"company_permalink\", aggfunc=sum)\n",
    "\n",
    "d3_comp_top2_pivot = d3_comp_top2_pivot.sort_values(by='raised_amount_usd', ascending= False)\n",
    "print(d3_comp_top2_pivot.head(1))"
   ]
  },
  {
   "cell_type": "markdown",
   "metadata": {
    "papermill": {
     "duration": 0.113045,
     "end_time": "2020-10-28T02:24:36.833284",
     "exception": false,
     "start_time": "2020-10-28T02:24:36.720239",
     "status": "completed"
    },
    "tags": []
   },
   "source": [
    "## Checkpoint 6: Plots\n",
    "\n",
    "---\n",
    "\n",
    "As a final step, you have to present your findings to the CEO of Spark Funds. Specifically, she wants to see the following plots:\n",
    "\n",
    " \n",
    "\n",
    "1. A plot showing the representative amount of investment in each funding type. This chart should make it clear that a certain funding type (FT) is best suited for Spark Funds.   \n",
    "\n",
    "2. A plot showing the top 9 countries against the total amount of investments of funding type FT. This should make the top 3 countries (Country 1, Country 2, and Country 3) very clear.                                                                                                                                                                             \n",
    "\n",
    "3. A plot showing the number of investments in the top 3 sectors of the top 3 countries on one chart (for the chosen investment type FT). This plot should clearly display the top 3 sectors each in Country 1, Country 2, and Country 3."
   ]
  },
  {
   "cell_type": "code",
   "execution_count": 69,
   "metadata": {
    "execution": {
     "iopub.execute_input": "2020-10-28T02:24:37.067191Z",
     "iopub.status.busy": "2020-10-28T02:24:37.066128Z",
     "iopub.status.idle": "2020-10-28T02:24:37.068864Z",
     "shell.execute_reply": "2020-10-28T02:24:37.069417Z"
    },
    "papermill": {
     "duration": 0.123081,
     "end_time": "2020-10-28T02:24:37.069584",
     "exception": false,
     "start_time": "2020-10-28T02:24:36.946503",
     "status": "completed"
    },
    "tags": []
   },
   "outputs": [],
   "source": [
    "import matplotlib.pyplot as plt \n",
    "import seaborn as sns\n",
    "%matplotlib inline"
   ]
  },
  {
   "cell_type": "markdown",
   "metadata": {
    "papermill": {
     "duration": 0.113589,
     "end_time": "2020-10-28T02:24:37.297608",
     "exception": false,
     "start_time": "2020-10-28T02:24:37.184019",
     "status": "completed"
    },
    "tags": []
   },
   "source": [
    "#### A plot showing the representative amount of investment in each funding type. This chart should make it clear that a certain funding type (FT) is best suited for Spark Funds."
   ]
  },
  {
   "cell_type": "code",
   "execution_count": 70,
   "metadata": {
    "execution": {
     "iopub.execute_input": "2020-10-28T02:24:37.537119Z",
     "iopub.status.busy": "2020-10-28T02:24:37.536343Z",
     "iopub.status.idle": "2020-10-28T02:24:37.547145Z",
     "shell.execute_reply": "2020-10-28T02:24:37.546542Z"
    },
    "papermill": {
     "duration": 0.136433,
     "end_time": "2020-10-28T02:24:37.547279",
     "exception": false,
     "start_time": "2020-10-28T02:24:37.410846",
     "status": "completed"
    },
    "tags": []
   },
   "outputs": [
    {
     "data": {
      "text/plain": [
       "funding_round_type\n",
       "angel              0.97 Mn\n",
       "private_equity    73.94 Mn\n",
       "seed               0.74 Mn\n",
       "venture           11.72 Mn\n",
       "Name: raised_amount_usd, dtype: object"
      ]
     },
     "execution_count": 70,
     "metadata": {},
     "output_type": "execute_result"
    }
   ],
   "source": [
    "\n",
    "plot_bar_ft = master_frame_funding_Type.groupby(master_frame_funding_Type['funding_round_type'])['raised_amount_usd'].mean().round(2)\n",
    "plot_bar_ft\n",
    "##Plot a bar plot of Content Rating vs Average Rating \n",
    "#master_frame_funding_Type.groupby(['funding_round_type'])['raised_amount_usd'].mean().plot.barh()\n",
    "#plt.show()\n",
    "\n",
    "# adding Mn to the value\n",
    "plot_bar_ft_val = plot_bar_ft.apply(lambda x : str(x) + ' Mn')\n",
    "plot_bar_ft_val\n"
   ]
  },
  {
   "cell_type": "code",
   "execution_count": 71,
   "metadata": {
    "execution": {
     "iopub.execute_input": "2020-10-28T02:24:37.785988Z",
     "iopub.status.busy": "2020-10-28T02:24:37.784921Z",
     "iopub.status.idle": "2020-10-28T02:24:39.315160Z",
     "shell.execute_reply": "2020-10-28T02:24:39.314458Z"
    },
    "papermill": {
     "duration": 1.653275,
     "end_time": "2020-10-28T02:24:39.315305",
     "exception": false,
     "start_time": "2020-10-28T02:24:37.662030",
     "status": "completed"
    },
    "tags": []
   },
   "outputs": [
    {
     "data": {
      "text/html": [
       "        <script type=\"text/javascript\">\n",
       "        window.PlotlyConfig = {MathJaxConfig: 'local'};\n",
       "        if (window.MathJax) {MathJax.Hub.Config({SVG: {font: \"STIX-Web\"}});}\n",
       "        if (typeof require !== 'undefined') {\n",
       "        require.undef(\"plotly\");\n",
       "        requirejs.config({\n",
       "            paths: {\n",
       "                'plotly': ['https://cdn.plot.ly/plotly-latest.min']\n",
       "            }\n",
       "        });\n",
       "        require(['plotly'], function(Plotly) {\n",
       "            window._Plotly = Plotly;\n",
       "        });\n",
       "        }\n",
       "        </script>\n",
       "        "
      ]
     },
     "metadata": {},
     "output_type": "display_data"
    },
    {
     "data": {
      "text/html": [
       "<div>                            <div id=\"df99225e-cf34-4d96-8a59-3b7437282dfa\" class=\"plotly-graph-div\" style=\"height:525px; width:100%;\"></div>            <script type=\"text/javascript\">                require([\"plotly\"], function(Plotly) {                    window.PLOTLYENV=window.PLOTLYENV || {};                                    if (document.getElementById(\"df99225e-cf34-4d96-8a59-3b7437282dfa\")) {                    Plotly.newPlot(                        \"df99225e-cf34-4d96-8a59-3b7437282dfa\",                        [{\"alignmentgroup\": \"True\", \"hovertemplate\": \"Funding Type=%{x}<br>Avg Investment in Million USD=%{y}<br>text=%{text}<extra></extra>\", \"legendgroup\": \"angel\", \"marker\": {\"color\": \"skyblue\"}, \"name\": \"angel\", \"offsetgroup\": \"angel\", \"orientation\": \"v\", \"showlegend\": true, \"text\": [\"0.97 Mn\"], \"textposition\": \"auto\", \"type\": \"bar\", \"x\": [\"angel\"], \"xaxis\": \"x\", \"y\": [0.97], \"yaxis\": \"y\"}, {\"alignmentgroup\": \"True\", \"hovertemplate\": \"Funding Type=%{x}<br>Avg Investment in Million USD=%{y}<br>text=%{text}<extra></extra>\", \"legendgroup\": \"private_equity\", \"marker\": {\"color\": \"skyblue\"}, \"name\": \"private_equity\", \"offsetgroup\": \"private_equity\", \"orientation\": \"v\", \"showlegend\": true, \"text\": [\"73.94 Mn\"], \"textposition\": \"auto\", \"type\": \"bar\", \"x\": [\"private_equity\"], \"xaxis\": \"x\", \"y\": [73.94], \"yaxis\": \"y\"}, {\"alignmentgroup\": \"True\", \"hovertemplate\": \"Funding Type=%{x}<br>Avg Investment in Million USD=%{y}<br>text=%{text}<extra></extra>\", \"legendgroup\": \"seed\", \"marker\": {\"color\": \"skyblue\"}, \"name\": \"seed\", \"offsetgroup\": \"seed\", \"orientation\": \"v\", \"showlegend\": true, \"text\": [\"0.74 Mn\"], \"textposition\": \"auto\", \"type\": \"bar\", \"x\": [\"seed\"], \"xaxis\": \"x\", \"y\": [0.74], \"yaxis\": \"y\"}, {\"alignmentgroup\": \"True\", \"hovertemplate\": \"Funding Type=%{x}<br>Avg Investment in Million USD=%{y}<br>text=%{text}<extra></extra>\", \"legendgroup\": \"venture\", \"marker\": {\"color\": \"orange\"}, \"name\": \"venture\", \"offsetgroup\": \"venture\", \"orientation\": \"v\", \"showlegend\": true, \"text\": [\"11.72 Mn\"], \"textposition\": \"auto\", \"type\": \"bar\", \"x\": [\"venture\"], \"xaxis\": \"x\", \"y\": [11.72], \"yaxis\": \"y\"}],                        {\"barmode\": \"relative\", \"legend\": {\"title\": {\"text\": \"Funding Type\"}, \"tracegroupgap\": 0}, \"template\": {\"data\": {\"pie\": [{\"automargin\": true, \"type\": \"pie\"}], \"scatter\": [{\"line\": {\"width\": 3}, \"marker\": {\"size\": 9}, \"type\": \"scatter\"}], \"scatter3d\": [{\"line\": {\"width\": 3}, \"marker\": {\"size\": 9}, \"type\": \"scatter3d\"}], \"scattergeo\": [{\"line\": {\"width\": 3}, \"marker\": {\"size\": 9}, \"type\": \"scattergeo\"}], \"scattergl\": [{\"line\": {\"width\": 3}, \"marker\": {\"size\": 9}, \"type\": \"scattergl\"}], \"scatterpolar\": [{\"line\": {\"width\": 3}, \"marker\": {\"size\": 9}, \"type\": \"scatterpolar\"}], \"scatterpolargl\": [{\"line\": {\"width\": 3}, \"marker\": {\"size\": 9}, \"type\": \"scatterpolargl\"}], \"scatterternary\": [{\"line\": {\"width\": 3}, \"marker\": {\"size\": 9}, \"type\": \"scatterternary\"}], \"table\": [{\"cells\": {\"height\": 30}, \"header\": {\"height\": 36}, \"type\": \"table\"}]}, \"layout\": {\"font\": {\"size\": 18}, \"xaxis\": {\"title\": {\"standoff\": 15}}, \"yaxis\": {\"title\": {\"standoff\": 15}}}}, \"title\": {\"text\": \"Funding Type Analysis (Avg Investment Funding)\"}, \"uniformtext\": {\"minsize\": 5, \"mode\": \"show\"}, \"xaxis\": {\"anchor\": \"y\", \"categoryarray\": [\"angel\", \"private_equity\", \"seed\", \"venture\"], \"categoryorder\": \"array\", \"domain\": [0.0, 1.0], \"title\": {\"text\": \"Funding Type\"}}, \"yaxis\": {\"anchor\": \"x\", \"domain\": [0.0, 1.0], \"title\": {\"text\": \"Avg Investment in Million USD\"}}},                        {\"responsive\": true}                    ).then(function(){\n",
       "                            \n",
       "var gd = document.getElementById('df99225e-cf34-4d96-8a59-3b7437282dfa');\n",
       "var x = new MutationObserver(function (mutations, observer) {{\n",
       "        var display = window.getComputedStyle(gd).display;\n",
       "        if (!display || display === 'none') {{\n",
       "            console.log([gd, 'removed!']);\n",
       "            Plotly.purge(gd);\n",
       "            observer.disconnect();\n",
       "        }}\n",
       "}});\n",
       "\n",
       "// Listen for the removal of the full notebook cells\n",
       "var notebookContainer = gd.closest('#notebook-container');\n",
       "if (notebookContainer) {{\n",
       "    x.observe(notebookContainer, {childList: true});\n",
       "}}\n",
       "\n",
       "// Listen for the clearing of the current output cell\n",
       "var outputEl = gd.closest('.output');\n",
       "if (outputEl) {{\n",
       "    x.observe(outputEl, {childList: true});\n",
       "}}\n",
       "\n",
       "                        })                };                });            </script>        </div>"
      ]
     },
     "metadata": {},
     "output_type": "display_data"
    }
   ],
   "source": [
    "import plotly           #(version 4.5.4) #pip install plotly==4.5.4\n",
    "import plotly.express as px\n",
    "import plotly.io as pio\n",
    "\n",
    "\n",
    "\n",
    "barchart = px.bar(\n",
    "    data_frame=plot_bar_ft,\n",
    "    x=plot_bar_ft.index,\n",
    "    y=plot_bar_ft.values,\n",
    "    color = plot_bar_ft.index,\n",
    "    color_discrete_map={\n",
    "                \"angel\": \"skyblue\",\n",
    "                \"seed\": \"skyblue\",\n",
    "                \"venture\": \"orange\",\n",
    "                \"private_equity\": \"skyblue\"}, # differentiate color of marks\n",
    "    #opacity=0.9,                  # set opacity of markers (from 0 to 1)\n",
    "    orientation=\"v\",              # 'v','h': orientation of the marks\n",
    "    labels={\"funding_round_type\":\"Funding Type\",\n",
    "    \"y\":\"Avg Investment in Million USD\"}, \n",
    "    title='Funding Type Analysis (Avg Investment Funding)',\n",
    "    text=plot_bar_ft_val.values,\n",
    "    template='presentation',\n",
    ")\n",
    "barchart.update_layout(uniformtext_minsize=5, uniformtext_mode='show'),\n",
    "barchart.update_traces(textposition='auto'),\n",
    "pio.show(barchart)"
   ]
  },
  {
   "cell_type": "code",
   "execution_count": 72,
   "metadata": {
    "execution": {
     "iopub.execute_input": "2020-10-28T02:24:39.598697Z",
     "iopub.status.busy": "2020-10-28T02:24:39.595467Z",
     "iopub.status.idle": "2020-10-28T02:24:39.613024Z",
     "shell.execute_reply": "2020-10-28T02:24:39.612265Z"
    },
    "papermill": {
     "duration": 0.154571,
     "end_time": "2020-10-28T02:24:39.613150",
     "exception": false,
     "start_time": "2020-10-28T02:24:39.458579",
     "status": "completed"
    },
    "tags": []
   },
   "outputs": [
    {
     "data": {
      "text/plain": [
       "country_code\n",
       "USA    420.05 Bn\n",
       "CHN     39.34 Bn\n",
       "GBR     20.07 Bn\n",
       "IND     14.26 Bn\n",
       "CAN      9.48 Bn\n",
       "FRA      7.23 Bn\n",
       "ISR      6.85 Bn\n",
       "DEU      6.31 Bn\n",
       "JPN      3.17 Bn\n",
       "Name: raised_amount_usd, dtype: object"
      ]
     },
     "execution_count": 72,
     "metadata": {},
     "output_type": "execute_result"
    }
   ],
   "source": [
    "top9_cntry_ft = master_frame_venture.groupby(\n",
    "    master_frame_venture['country_code'])['raised_amount_usd'].sum().apply(lambda t: t/1000).round(2)\n",
    "top9_cntry_ft = top9_cntry_ft.sort_values(ascending=False)\n",
    "top9_cntry_ft = top9_cntry_ft[:9]\n",
    "type(top9_cntry_ft)\n",
    "\n",
    "top9_cntry_ft_val = top9_cntry_ft.apply(lambda x : str(x) + ' Bn')\n",
    "top9_cntry_ft\n",
    "top9_cntry_ft_val"
   ]
  },
  {
   "cell_type": "markdown",
   "metadata": {
    "papermill": {
     "duration": 0.119958,
     "end_time": "2020-10-28T02:24:39.851361",
     "exception": false,
     "start_time": "2020-10-28T02:24:39.731403",
     "status": "completed"
    },
    "tags": []
   },
   "source": [
    "#### A plot showing the top 9 countries against the total amount of investments of funding type FT. This should make the top 3 countries (Country 1, Country 2, and Country 3) very clear."
   ]
  },
  {
   "cell_type": "code",
   "execution_count": 73,
   "metadata": {
    "execution": {
     "iopub.execute_input": "2020-10-28T02:24:40.096959Z",
     "iopub.status.busy": "2020-10-28T02:24:40.096012Z",
     "iopub.status.idle": "2020-10-28T02:24:40.176749Z",
     "shell.execute_reply": "2020-10-28T02:24:40.177396Z"
    },
    "papermill": {
     "duration": 0.207964,
     "end_time": "2020-10-28T02:24:40.177565",
     "exception": false,
     "start_time": "2020-10-28T02:24:39.969601",
     "status": "completed"
    },
    "tags": []
   },
   "outputs": [
    {
     "data": {
      "text/html": [
       "<div>                            <div id=\"52ba9479-9c68-458e-9d34-604a468d1c35\" class=\"plotly-graph-div\" style=\"height:525px; width:100%;\"></div>            <script type=\"text/javascript\">                require([\"plotly\"], function(Plotly) {                    window.PLOTLYENV=window.PLOTLYENV || {};                                    if (document.getElementById(\"52ba9479-9c68-458e-9d34-604a468d1c35\")) {                    Plotly.newPlot(                        \"52ba9479-9c68-458e-9d34-604a468d1c35\",                        [{\"alignmentgroup\": \"True\", \"hovertemplate\": \"Countries=%{x}<br>Total Investment in Billion USD=%{y}<br>text=%{text}<extra></extra>\", \"legendgroup\": \"USA\", \"marker\": {\"color\": \"orange\"}, \"name\": \"USA\", \"offsetgroup\": \"USA\", \"orientation\": \"v\", \"showlegend\": true, \"text\": [\"420.05 Bn\"], \"textposition\": \"outside\", \"type\": \"bar\", \"x\": [\"USA\"], \"xaxis\": \"x\", \"y\": [420.05], \"yaxis\": \"y\"}, {\"alignmentgroup\": \"True\", \"hovertemplate\": \"Countries=%{x}<br>Total Investment in Billion USD=%{y}<br>text=%{text}<extra></extra>\", \"legendgroup\": \"CHN\", \"marker\": {\"color\": \"red\"}, \"name\": \"CHN\", \"offsetgroup\": \"CHN\", \"orientation\": \"v\", \"showlegend\": true, \"text\": [\"39.34 Bn\"], \"textposition\": \"outside\", \"type\": \"bar\", \"x\": [\"CHN\"], \"xaxis\": \"x\", \"y\": [39.34], \"yaxis\": \"y\"}, {\"alignmentgroup\": \"True\", \"hovertemplate\": \"Countries=%{x}<br>Total Investment in Billion USD=%{y}<br>text=%{text}<extra></extra>\", \"legendgroup\": \"GBR\", \"marker\": {\"color\": \"orange\"}, \"name\": \"GBR\", \"offsetgroup\": \"GBR\", \"orientation\": \"v\", \"showlegend\": true, \"text\": [\"20.07 Bn\"], \"textposition\": \"outside\", \"type\": \"bar\", \"x\": [\"GBR\"], \"xaxis\": \"x\", \"y\": [20.07], \"yaxis\": \"y\"}, {\"alignmentgroup\": \"True\", \"hovertemplate\": \"Countries=%{x}<br>Total Investment in Billion USD=%{y}<br>text=%{text}<extra></extra>\", \"legendgroup\": \"IND\", \"marker\": {\"color\": \"orange\"}, \"name\": \"IND\", \"offsetgroup\": \"IND\", \"orientation\": \"v\", \"showlegend\": true, \"text\": [\"14.26 Bn\"], \"textposition\": \"outside\", \"type\": \"bar\", \"x\": [\"IND\"], \"xaxis\": \"x\", \"y\": [14.26], \"yaxis\": \"y\"}, {\"alignmentgroup\": \"True\", \"hovertemplate\": \"Countries=%{x}<br>Total Investment in Billion USD=%{y}<br>text=%{text}<extra></extra>\", \"legendgroup\": \"CAN\", \"marker\": {\"color\": \"skyblue\"}, \"name\": \"CAN\", \"offsetgroup\": \"CAN\", \"orientation\": \"v\", \"showlegend\": true, \"text\": [\"9.48 Bn\"], \"textposition\": \"outside\", \"type\": \"bar\", \"x\": [\"CAN\"], \"xaxis\": \"x\", \"y\": [9.48], \"yaxis\": \"y\"}, {\"alignmentgroup\": \"True\", \"hovertemplate\": \"Countries=%{x}<br>Total Investment in Billion USD=%{y}<br>text=%{text}<extra></extra>\", \"legendgroup\": \"FRA\", \"marker\": {\"color\": \"skyblue\"}, \"name\": \"FRA\", \"offsetgroup\": \"FRA\", \"orientation\": \"v\", \"showlegend\": true, \"text\": [\"7.23 Bn\"], \"textposition\": \"outside\", \"type\": \"bar\", \"x\": [\"FRA\"], \"xaxis\": \"x\", \"y\": [7.23], \"yaxis\": \"y\"}, {\"alignmentgroup\": \"True\", \"hovertemplate\": \"Countries=%{x}<br>Total Investment in Billion USD=%{y}<br>text=%{text}<extra></extra>\", \"legendgroup\": \"ISR\", \"marker\": {\"color\": \"skyblue\"}, \"name\": \"ISR\", \"offsetgroup\": \"ISR\", \"orientation\": \"v\", \"showlegend\": true, \"text\": [\"6.85 Bn\"], \"textposition\": \"outside\", \"type\": \"bar\", \"x\": [\"ISR\"], \"xaxis\": \"x\", \"y\": [6.85], \"yaxis\": \"y\"}, {\"alignmentgroup\": \"True\", \"hovertemplate\": \"Countries=%{x}<br>Total Investment in Billion USD=%{y}<br>text=%{text}<extra></extra>\", \"legendgroup\": \"DEU\", \"marker\": {\"color\": \"skyblue\"}, \"name\": \"DEU\", \"offsetgroup\": \"DEU\", \"orientation\": \"v\", \"showlegend\": true, \"text\": [\"6.31 Bn\"], \"textposition\": \"outside\", \"type\": \"bar\", \"x\": [\"DEU\"], \"xaxis\": \"x\", \"y\": [6.31], \"yaxis\": \"y\"}, {\"alignmentgroup\": \"True\", \"hovertemplate\": \"Countries=%{x}<br>Total Investment in Billion USD=%{y}<br>text=%{text}<extra></extra>\", \"legendgroup\": \"JPN\", \"marker\": {\"color\": \"skyblue\"}, \"name\": \"JPN\", \"offsetgroup\": \"JPN\", \"orientation\": \"v\", \"showlegend\": true, \"text\": [\"3.17 Bn\"], \"textposition\": \"outside\", \"type\": \"bar\", \"x\": [\"JPN\"], \"xaxis\": \"x\", \"y\": [3.17], \"yaxis\": \"y\"}],                        {\"barmode\": \"relative\", \"legend\": {\"title\": {\"text\": \"Countries\"}, \"tracegroupgap\": 0}, \"template\": {\"data\": {\"pie\": [{\"automargin\": true, \"type\": \"pie\"}], \"scatter\": [{\"line\": {\"width\": 3}, \"marker\": {\"size\": 9}, \"type\": \"scatter\"}], \"scatter3d\": [{\"line\": {\"width\": 3}, \"marker\": {\"size\": 9}, \"type\": \"scatter3d\"}], \"scattergeo\": [{\"line\": {\"width\": 3}, \"marker\": {\"size\": 9}, \"type\": \"scattergeo\"}], \"scattergl\": [{\"line\": {\"width\": 3}, \"marker\": {\"size\": 9}, \"type\": \"scattergl\"}], \"scatterpolar\": [{\"line\": {\"width\": 3}, \"marker\": {\"size\": 9}, \"type\": \"scatterpolar\"}], \"scatterpolargl\": [{\"line\": {\"width\": 3}, \"marker\": {\"size\": 9}, \"type\": \"scatterpolargl\"}], \"scatterternary\": [{\"line\": {\"width\": 3}, \"marker\": {\"size\": 9}, \"type\": \"scatterternary\"}], \"table\": [{\"cells\": {\"height\": 30}, \"header\": {\"height\": 36}, \"type\": \"table\"}]}, \"layout\": {\"font\": {\"size\": 18}, \"xaxis\": {\"title\": {\"standoff\": 15}}, \"yaxis\": {\"title\": {\"standoff\": 15}}}}, \"title\": {\"text\": \"Total Venture FT Investment(Billion USD) by Country\"}, \"uniformtext\": {\"minsize\": 5, \"mode\": \"show\"}, \"xaxis\": {\"anchor\": \"y\", \"categoryarray\": [\"USA\", \"CHN\", \"GBR\", \"IND\", \"CAN\", \"FRA\", \"ISR\", \"DEU\", \"JPN\"], \"categoryorder\": \"array\", \"domain\": [0.0, 1.0], \"title\": {\"text\": \"Countries\"}}, \"yaxis\": {\"anchor\": \"x\", \"domain\": [0.0, 1.0], \"title\": {\"text\": \"Total Investment in Billion USD\"}}},                        {\"responsive\": true}                    ).then(function(){\n",
       "                            \n",
       "var gd = document.getElementById('52ba9479-9c68-458e-9d34-604a468d1c35');\n",
       "var x = new MutationObserver(function (mutations, observer) {{\n",
       "        var display = window.getComputedStyle(gd).display;\n",
       "        if (!display || display === 'none') {{\n",
       "            console.log([gd, 'removed!']);\n",
       "            Plotly.purge(gd);\n",
       "            observer.disconnect();\n",
       "        }}\n",
       "}});\n",
       "\n",
       "// Listen for the removal of the full notebook cells\n",
       "var notebookContainer = gd.closest('#notebook-container');\n",
       "if (notebookContainer) {{\n",
       "    x.observe(notebookContainer, {childList: true});\n",
       "}}\n",
       "\n",
       "// Listen for the clearing of the current output cell\n",
       "var outputEl = gd.closest('.output');\n",
       "if (outputEl) {{\n",
       "    x.observe(outputEl, {childList: true});\n",
       "}}\n",
       "\n",
       "                        })                };                });            </script>        </div>"
      ]
     },
     "metadata": {},
     "output_type": "display_data"
    }
   ],
   "source": [
    "# top9.plot.bar()\n",
    "# plt.show()\n",
    "\n",
    "skyblue = 'Country'\n",
    "color = ['skyblue' for i in range(9)]\n",
    "\n",
    "barchart = px.bar(\n",
    "    data_frame=top9_cntry_ft,\n",
    "    x=top9_cntry_ft.index,\n",
    "    y=top9_cntry_ft.values,\n",
    "    color = top9_cntry_ft.index,\n",
    "    color_discrete_map={\n",
    "                \"USA\": \"orange\",\n",
    "                \"GBR\": \"orange\",\n",
    "                \"IND\": \"orange\",\n",
    "                \"CHN\": \"red\",\n",
    "                \"ISR\": \"skyblue\",\n",
    "                \"DEU\": \"skyblue\",\n",
    "                \"JPN\": \"skyblue\",\n",
    "                \"FRA\": \"skyblue\",\n",
    "                \"CAN\": \"skyblue\"},\n",
    "    # differentiate color of marks\n",
    "    #opacity=0.9,                  # set opacity of markers (from 0 to 1)\n",
    "    orientation=\"v\",              # 'v','h': orientation of the marks\n",
    "    labels={\"country_code\":\"Countries\",\n",
    "    \"y\":\"Total Investment in Billion USD\"}, \n",
    "    title='Total Venture FT Investment(Billion USD) by Country',\n",
    "    text=top9_cntry_ft_val.values,\n",
    "    template='presentation',\n",
    ")\n",
    "barchart.update_layout(uniformtext_minsize=5, uniformtext_mode='show'),\n",
    "barchart.update_traces(textposition='outside'),\n",
    "pio.show(barchart)"
   ]
  },
  {
   "cell_type": "markdown",
   "metadata": {
    "papermill": {
     "duration": 0.116588,
     "end_time": "2020-10-28T02:24:40.413010",
     "exception": false,
     "start_time": "2020-10-28T02:24:40.296422",
     "status": "completed"
    },
    "tags": []
   },
   "source": [
    "####  A plot showing the number of investments in the top 3 sectors of the top 3 countries on one chart (for the chosen investment type FT). This plot should clearly display the top 3 sectors each in Country 1, Country 2, and Country 3."
   ]
  },
  {
   "cell_type": "code",
   "execution_count": 74,
   "metadata": {
    "execution": {
     "iopub.execute_input": "2020-10-28T02:24:40.656391Z",
     "iopub.status.busy": "2020-10-28T02:24:40.655426Z",
     "iopub.status.idle": "2020-10-28T02:24:40.658575Z",
     "shell.execute_reply": "2020-10-28T02:24:40.657822Z"
    },
    "papermill": {
     "duration": 0.127568,
     "end_time": "2020-10-28T02:24:40.658709",
     "exception": false,
     "start_time": "2020-10-28T02:24:40.531141",
     "status": "completed"
    },
    "tags": []
   },
   "outputs": [],
   "source": [
    "# d1_pivot['count'].plot.bar()\n",
    "# plt.show()\n",
    "# d2_pivot['count'].plot.bar()\n",
    "# plt.show()\n",
    "# d3_pivot['count'].plot.bar()\n",
    "# plt.show()\n",
    "\n"
   ]
  },
  {
   "cell_type": "code",
   "execution_count": 75,
   "metadata": {
    "execution": {
     "iopub.execute_input": "2020-10-28T02:24:40.905378Z",
     "iopub.status.busy": "2020-10-28T02:24:40.904568Z",
     "iopub.status.idle": "2020-10-28T02:24:40.914136Z",
     "shell.execute_reply": "2020-10-28T02:24:40.914681Z"
    },
    "papermill": {
     "duration": 0.13674,
     "end_time": "2020-10-28T02:24:40.914910",
     "exception": false,
     "start_time": "2020-10-28T02:24:40.778170",
     "status": "completed"
    },
    "tags": []
   },
   "outputs": [
    {
     "data": {
      "text/plain": [
       "main_sector\n",
       "Others                                     2961\n",
       "Social, Finance, Analytics, Advertising    2723\n",
       "Cleantech / Semiconductors                 2364\n",
       "News, Search and Messaging                 1588\n",
       "Health                                      919\n",
       "Manufacturing                               806\n",
       "Entertainment                               593\n",
       "Automotive & Sports                         168\n",
       "Name: funding_round_type, dtype: int64"
      ]
     },
     "execution_count": 75,
     "metadata": {},
     "output_type": "execute_result"
    }
   ],
   "source": [
    "d1_USA_Venture_Main_Sector = d1.groupby(d1['main_sector'])['funding_round_type'].count()\n",
    "d1_USA_Venture_Main_Sector = d1_USA_Venture_Main_Sector.sort_values(ascending=False)\n",
    "d1_USA_Venture_Main_Sector"
   ]
  },
  {
   "cell_type": "code",
   "execution_count": 76,
   "metadata": {
    "execution": {
     "iopub.execute_input": "2020-10-28T02:24:41.206988Z",
     "iopub.status.busy": "2020-10-28T02:24:41.170949Z",
     "iopub.status.idle": "2020-10-28T02:24:42.014472Z",
     "shell.execute_reply": "2020-10-28T02:24:42.013657Z"
    },
    "papermill": {
     "duration": 0.981282,
     "end_time": "2020-10-28T02:24:42.014603",
     "exception": false,
     "start_time": "2020-10-28T02:24:41.033321",
     "status": "completed"
    },
    "tags": []
   },
   "outputs": [
    {
     "data": {
      "text/html": [
       "<div>                            <div id=\"c3ab5fa8-fbda-42f4-824b-9d510cf85853\" class=\"plotly-graph-div\" style=\"height:525px; width:100%;\"></div>            <script type=\"text/javascript\">                require([\"plotly\"], function(Plotly) {                    window.PLOTLYENV=window.PLOTLYENV || {};                                    if (document.getElementById(\"c3ab5fa8-fbda-42f4-824b-9d510cf85853\")) {                    Plotly.newPlot(                        \"c3ab5fa8-fbda-42f4-824b-9d510cf85853\",                        [{\"alignmentgroup\": \"True\", \"hovertemplate\": \"Main Sectors=%{x}<br>Total Count of Investment=%{y}<br>text=%{text}<extra></extra>\", \"legendgroup\": \"Others\", \"marker\": {\"color\": \"skyblue\"}, \"name\": \"Others\", \"offsetgroup\": \"Others\", \"orientation\": \"v\", \"showlegend\": true, \"text\": [2961.0], \"textposition\": \"auto\", \"type\": \"bar\", \"x\": [\"Others\"], \"xaxis\": \"x\", \"y\": [2961], \"yaxis\": \"y\"}, {\"alignmentgroup\": \"True\", \"hovertemplate\": \"Main Sectors=%{x}<br>Total Count of Investment=%{y}<br>text=%{text}<extra></extra>\", \"legendgroup\": \"Social, Finance, Analytics, Advertising\", \"marker\": {\"color\": \"green\"}, \"name\": \"Social, Finance, Analytics, Advertising\", \"offsetgroup\": \"Social, Finance, Analytics, Advertising\", \"orientation\": \"v\", \"showlegend\": true, \"text\": [2723.0], \"textposition\": \"auto\", \"type\": \"bar\", \"x\": [\"Social, Finance, Analytics, Advertising\"], \"xaxis\": \"x\", \"y\": [2723], \"yaxis\": \"y\"}, {\"alignmentgroup\": \"True\", \"hovertemplate\": \"Main Sectors=%{x}<br>Total Count of Investment=%{y}<br>text=%{text}<extra></extra>\", \"legendgroup\": \"Cleantech / Semiconductors\", \"marker\": {\"color\": \"green\"}, \"name\": \"Cleantech / Semiconductors\", \"offsetgroup\": \"Cleantech / Semiconductors\", \"orientation\": \"v\", \"showlegend\": true, \"text\": [2364.0], \"textposition\": \"auto\", \"type\": \"bar\", \"x\": [\"Cleantech / Semiconductors\"], \"xaxis\": \"x\", \"y\": [2364], \"yaxis\": \"y\"}, {\"alignmentgroup\": \"True\", \"hovertemplate\": \"Main Sectors=%{x}<br>Total Count of Investment=%{y}<br>text=%{text}<extra></extra>\", \"legendgroup\": \"News, Search and Messaging\", \"marker\": {\"color\": \"skyblue\"}, \"name\": \"News, Search and Messaging\", \"offsetgroup\": \"News, Search and Messaging\", \"orientation\": \"v\", \"showlegend\": true, \"text\": [1588.0], \"textposition\": \"auto\", \"type\": \"bar\", \"x\": [\"News, Search and Messaging\"], \"xaxis\": \"x\", \"y\": [1588], \"yaxis\": \"y\"}, {\"alignmentgroup\": \"True\", \"hovertemplate\": \"Main Sectors=%{x}<br>Total Count of Investment=%{y}<br>text=%{text}<extra></extra>\", \"legendgroup\": \"Health\", \"marker\": {\"color\": \"skyblue\"}, \"name\": \"Health\", \"offsetgroup\": \"Health\", \"orientation\": \"v\", \"showlegend\": true, \"text\": [919.0], \"textposition\": \"auto\", \"type\": \"bar\", \"x\": [\"Health\"], \"xaxis\": \"x\", \"y\": [919], \"yaxis\": \"y\"}, {\"alignmentgroup\": \"True\", \"hovertemplate\": \"Main Sectors=%{x}<br>Total Count of Investment=%{y}<br>text=%{text}<extra></extra>\", \"legendgroup\": \"Manufacturing\", \"marker\": {\"color\": \"skyblue\"}, \"name\": \"Manufacturing\", \"offsetgroup\": \"Manufacturing\", \"orientation\": \"v\", \"showlegend\": true, \"text\": [806.0], \"textposition\": \"auto\", \"type\": \"bar\", \"x\": [\"Manufacturing\"], \"xaxis\": \"x\", \"y\": [806], \"yaxis\": \"y\"}, {\"alignmentgroup\": \"True\", \"hovertemplate\": \"Main Sectors=%{x}<br>Total Count of Investment=%{y}<br>text=%{text}<extra></extra>\", \"legendgroup\": \"Entertainment\", \"marker\": {\"color\": \"skyblue\"}, \"name\": \"Entertainment\", \"offsetgroup\": \"Entertainment\", \"orientation\": \"v\", \"showlegend\": true, \"text\": [593.0], \"textposition\": \"auto\", \"type\": \"bar\", \"x\": [\"Entertainment\"], \"xaxis\": \"x\", \"y\": [593], \"yaxis\": \"y\"}, {\"alignmentgroup\": \"True\", \"hovertemplate\": \"Main Sectors=%{x}<br>Total Count of Investment=%{y}<br>text=%{text}<extra></extra>\", \"legendgroup\": \"Automotive & Sports\", \"marker\": {\"color\": \"skyblue\"}, \"name\": \"Automotive & Sports\", \"offsetgroup\": \"Automotive & Sports\", \"orientation\": \"v\", \"showlegend\": true, \"text\": [168.0], \"textposition\": \"auto\", \"type\": \"bar\", \"x\": [\"Automotive & Sports\"], \"xaxis\": \"x\", \"y\": [168], \"yaxis\": \"y\"}],                        {\"barmode\": \"relative\", \"legend\": {\"title\": {\"text\": \"Main Sectors\"}, \"tracegroupgap\": 0}, \"template\": {\"data\": {\"bar\": [{\"error_x\": {\"color\": \"#2a3f5f\"}, \"error_y\": {\"color\": \"#2a3f5f\"}, \"marker\": {\"line\": {\"color\": \"#E5ECF6\", \"width\": 0.5}}, \"type\": \"bar\"}], \"barpolar\": [{\"marker\": {\"line\": {\"color\": \"#E5ECF6\", \"width\": 0.5}}, \"type\": \"barpolar\"}], \"carpet\": [{\"aaxis\": {\"endlinecolor\": \"#2a3f5f\", \"gridcolor\": \"white\", \"linecolor\": \"white\", \"minorgridcolor\": \"white\", \"startlinecolor\": \"#2a3f5f\"}, \"baxis\": {\"endlinecolor\": \"#2a3f5f\", \"gridcolor\": \"white\", \"linecolor\": \"white\", \"minorgridcolor\": \"white\", \"startlinecolor\": \"#2a3f5f\"}, \"type\": \"carpet\"}], \"choropleth\": [{\"colorbar\": {\"outlinewidth\": 0, \"ticks\": \"\"}, \"type\": \"choropleth\"}], \"contour\": [{\"colorbar\": {\"outlinewidth\": 0, \"ticks\": \"\"}, \"colorscale\": [[0.0, \"#0d0887\"], [0.1111111111111111, \"#46039f\"], [0.2222222222222222, \"#7201a8\"], [0.3333333333333333, \"#9c179e\"], [0.4444444444444444, \"#bd3786\"], [0.5555555555555556, \"#d8576b\"], [0.6666666666666666, \"#ed7953\"], [0.7777777777777778, \"#fb9f3a\"], [0.8888888888888888, \"#fdca26\"], [1.0, \"#f0f921\"]], \"type\": \"contour\"}], \"contourcarpet\": [{\"colorbar\": {\"outlinewidth\": 0, \"ticks\": \"\"}, \"type\": \"contourcarpet\"}], \"heatmap\": [{\"colorbar\": {\"outlinewidth\": 0, \"ticks\": \"\"}, \"colorscale\": [[0.0, \"#0d0887\"], [0.1111111111111111, \"#46039f\"], [0.2222222222222222, \"#7201a8\"], [0.3333333333333333, \"#9c179e\"], [0.4444444444444444, \"#bd3786\"], [0.5555555555555556, \"#d8576b\"], [0.6666666666666666, \"#ed7953\"], [0.7777777777777778, \"#fb9f3a\"], [0.8888888888888888, \"#fdca26\"], [1.0, \"#f0f921\"]], \"type\": \"heatmap\"}], \"heatmapgl\": [{\"colorbar\": {\"outlinewidth\": 0, \"ticks\": \"\"}, \"colorscale\": [[0.0, \"#0d0887\"], [0.1111111111111111, \"#46039f\"], [0.2222222222222222, \"#7201a8\"], [0.3333333333333333, \"#9c179e\"], [0.4444444444444444, \"#bd3786\"], [0.5555555555555556, \"#d8576b\"], [0.6666666666666666, \"#ed7953\"], [0.7777777777777778, \"#fb9f3a\"], [0.8888888888888888, \"#fdca26\"], [1.0, \"#f0f921\"]], \"type\": \"heatmapgl\"}], \"histogram\": [{\"marker\": {\"colorbar\": {\"outlinewidth\": 0, \"ticks\": \"\"}}, \"type\": \"histogram\"}], \"histogram2d\": [{\"colorbar\": {\"outlinewidth\": 0, \"ticks\": \"\"}, \"colorscale\": [[0.0, \"#0d0887\"], [0.1111111111111111, \"#46039f\"], [0.2222222222222222, \"#7201a8\"], [0.3333333333333333, \"#9c179e\"], [0.4444444444444444, \"#bd3786\"], [0.5555555555555556, \"#d8576b\"], [0.6666666666666666, \"#ed7953\"], [0.7777777777777778, \"#fb9f3a\"], [0.8888888888888888, \"#fdca26\"], [1.0, \"#f0f921\"]], \"type\": \"histogram2d\"}], \"histogram2dcontour\": [{\"colorbar\": {\"outlinewidth\": 0, \"ticks\": \"\"}, \"colorscale\": [[0.0, \"#0d0887\"], [0.1111111111111111, \"#46039f\"], [0.2222222222222222, \"#7201a8\"], [0.3333333333333333, \"#9c179e\"], [0.4444444444444444, \"#bd3786\"], [0.5555555555555556, \"#d8576b\"], [0.6666666666666666, \"#ed7953\"], [0.7777777777777778, \"#fb9f3a\"], [0.8888888888888888, \"#fdca26\"], [1.0, \"#f0f921\"]], \"type\": \"histogram2dcontour\"}], \"mesh3d\": [{\"colorbar\": {\"outlinewidth\": 0, \"ticks\": \"\"}, \"type\": \"mesh3d\"}], \"parcoords\": [{\"line\": {\"colorbar\": {\"outlinewidth\": 0, \"ticks\": \"\"}}, \"type\": \"parcoords\"}], \"pie\": [{\"automargin\": true, \"type\": \"pie\"}], \"scatter\": [{\"marker\": {\"colorbar\": {\"outlinewidth\": 0, \"ticks\": \"\"}}, \"type\": \"scatter\"}], \"scatter3d\": [{\"line\": {\"colorbar\": {\"outlinewidth\": 0, \"ticks\": \"\"}}, \"marker\": {\"colorbar\": {\"outlinewidth\": 0, \"ticks\": \"\"}}, \"type\": \"scatter3d\"}], \"scattercarpet\": [{\"marker\": {\"colorbar\": {\"outlinewidth\": 0, \"ticks\": \"\"}}, \"type\": \"scattercarpet\"}], \"scattergeo\": [{\"marker\": {\"colorbar\": {\"outlinewidth\": 0, \"ticks\": \"\"}}, \"type\": \"scattergeo\"}], \"scattergl\": [{\"marker\": {\"colorbar\": {\"outlinewidth\": 0, \"ticks\": \"\"}}, \"type\": \"scattergl\"}], \"scattermapbox\": [{\"marker\": {\"colorbar\": {\"outlinewidth\": 0, \"ticks\": \"\"}}, \"type\": \"scattermapbox\"}], \"scatterpolar\": [{\"marker\": {\"colorbar\": {\"outlinewidth\": 0, \"ticks\": \"\"}}, \"type\": \"scatterpolar\"}], \"scatterpolargl\": [{\"marker\": {\"colorbar\": {\"outlinewidth\": 0, \"ticks\": \"\"}}, \"type\": \"scatterpolargl\"}], \"scatterternary\": [{\"marker\": {\"colorbar\": {\"outlinewidth\": 0, \"ticks\": \"\"}}, \"type\": \"scatterternary\"}], \"surface\": [{\"colorbar\": {\"outlinewidth\": 0, \"ticks\": \"\"}, \"colorscale\": [[0.0, \"#0d0887\"], [0.1111111111111111, \"#46039f\"], [0.2222222222222222, \"#7201a8\"], [0.3333333333333333, \"#9c179e\"], [0.4444444444444444, \"#bd3786\"], [0.5555555555555556, \"#d8576b\"], [0.6666666666666666, \"#ed7953\"], [0.7777777777777778, \"#fb9f3a\"], [0.8888888888888888, \"#fdca26\"], [1.0, \"#f0f921\"]], \"type\": \"surface\"}], \"table\": [{\"cells\": {\"fill\": {\"color\": \"#EBF0F8\"}, \"line\": {\"color\": \"white\"}}, \"header\": {\"fill\": {\"color\": \"#C8D4E3\"}, \"line\": {\"color\": \"white\"}}, \"type\": \"table\"}]}, \"layout\": {\"annotationdefaults\": {\"arrowcolor\": \"#2a3f5f\", \"arrowhead\": 0, \"arrowwidth\": 1}, \"coloraxis\": {\"colorbar\": {\"outlinewidth\": 0, \"ticks\": \"\"}}, \"colorscale\": {\"diverging\": [[0, \"#8e0152\"], [0.1, \"#c51b7d\"], [0.2, \"#de77ae\"], [0.3, \"#f1b6da\"], [0.4, \"#fde0ef\"], [0.5, \"#f7f7f7\"], [0.6, \"#e6f5d0\"], [0.7, \"#b8e186\"], [0.8, \"#7fbc41\"], [0.9, \"#4d9221\"], [1, \"#276419\"]], \"sequential\": [[0.0, \"#0d0887\"], [0.1111111111111111, \"#46039f\"], [0.2222222222222222, \"#7201a8\"], [0.3333333333333333, \"#9c179e\"], [0.4444444444444444, \"#bd3786\"], [0.5555555555555556, \"#d8576b\"], [0.6666666666666666, \"#ed7953\"], [0.7777777777777778, \"#fb9f3a\"], [0.8888888888888888, \"#fdca26\"], [1.0, \"#f0f921\"]], \"sequentialminus\": [[0.0, \"#0d0887\"], [0.1111111111111111, \"#46039f\"], [0.2222222222222222, \"#7201a8\"], [0.3333333333333333, \"#9c179e\"], [0.4444444444444444, \"#bd3786\"], [0.5555555555555556, \"#d8576b\"], [0.6666666666666666, \"#ed7953\"], [0.7777777777777778, \"#fb9f3a\"], [0.8888888888888888, \"#fdca26\"], [1.0, \"#f0f921\"]]}, \"colorway\": [\"#636efa\", \"#EF553B\", \"#00cc96\", \"#ab63fa\", \"#FFA15A\", \"#19d3f3\", \"#FF6692\", \"#B6E880\", \"#FF97FF\", \"#FECB52\"], \"font\": {\"color\": \"#2a3f5f\"}, \"geo\": {\"bgcolor\": \"white\", \"lakecolor\": \"white\", \"landcolor\": \"#E5ECF6\", \"showlakes\": true, \"showland\": true, \"subunitcolor\": \"white\"}, \"hoverlabel\": {\"align\": \"left\"}, \"hovermode\": \"closest\", \"mapbox\": {\"style\": \"light\"}, \"paper_bgcolor\": \"white\", \"plot_bgcolor\": \"#E5ECF6\", \"polar\": {\"angularaxis\": {\"gridcolor\": \"white\", \"linecolor\": \"white\", \"ticks\": \"\"}, \"bgcolor\": \"#E5ECF6\", \"radialaxis\": {\"gridcolor\": \"white\", \"linecolor\": \"white\", \"ticks\": \"\"}}, \"scene\": {\"xaxis\": {\"backgroundcolor\": \"#E5ECF6\", \"gridcolor\": \"white\", \"gridwidth\": 2, \"linecolor\": \"white\", \"showbackground\": true, \"ticks\": \"\", \"zerolinecolor\": \"white\"}, \"yaxis\": {\"backgroundcolor\": \"#E5ECF6\", \"gridcolor\": \"white\", \"gridwidth\": 2, \"linecolor\": \"white\", \"showbackground\": true, \"ticks\": \"\", \"zerolinecolor\": \"white\"}, \"zaxis\": {\"backgroundcolor\": \"#E5ECF6\", \"gridcolor\": \"white\", \"gridwidth\": 2, \"linecolor\": \"white\", \"showbackground\": true, \"ticks\": \"\", \"zerolinecolor\": \"white\"}}, \"shapedefaults\": {\"line\": {\"color\": \"#2a3f5f\"}}, \"ternary\": {\"aaxis\": {\"gridcolor\": \"white\", \"linecolor\": \"white\", \"ticks\": \"\"}, \"baxis\": {\"gridcolor\": \"white\", \"linecolor\": \"white\", \"ticks\": \"\"}, \"bgcolor\": \"#E5ECF6\", \"caxis\": {\"gridcolor\": \"white\", \"linecolor\": \"white\", \"ticks\": \"\"}}, \"title\": {\"x\": 0.05}, \"xaxis\": {\"automargin\": true, \"gridcolor\": \"white\", \"linecolor\": \"white\", \"ticks\": \"\", \"title\": {\"standoff\": 15}, \"zerolinecolor\": \"white\", \"zerolinewidth\": 2}, \"yaxis\": {\"automargin\": true, \"gridcolor\": \"white\", \"linecolor\": \"white\", \"ticks\": \"\", \"title\": {\"standoff\": 15}, \"zerolinecolor\": \"white\", \"zerolinewidth\": 2}}}, \"title\": {\"text\": \"Best Sector By Count of Investment - USA\"}, \"xaxis\": {\"anchor\": \"y\", \"categoryarray\": [\"Others\", \"Social, Finance, Analytics, Advertising\", \"Cleantech / Semiconductors\", \"News, Search and Messaging\", \"Health\", \"Manufacturing\", \"Entertainment\", \"Automotive & Sports\"], \"categoryorder\": \"array\", \"domain\": [0.0, 1.0], \"title\": {\"text\": \"Main Sectors\"}}, \"yaxis\": {\"anchor\": \"x\", \"domain\": [0.0, 1.0], \"title\": {\"text\": \"Total Count of Investment\"}}},                        {\"responsive\": true}                    ).then(function(){\n",
       "                            \n",
       "var gd = document.getElementById('c3ab5fa8-fbda-42f4-824b-9d510cf85853');\n",
       "var x = new MutationObserver(function (mutations, observer) {{\n",
       "        var display = window.getComputedStyle(gd).display;\n",
       "        if (!display || display === 'none') {{\n",
       "            console.log([gd, 'removed!']);\n",
       "            Plotly.purge(gd);\n",
       "            observer.disconnect();\n",
       "        }}\n",
       "}});\n",
       "\n",
       "// Listen for the removal of the full notebook cells\n",
       "var notebookContainer = gd.closest('#notebook-container');\n",
       "if (notebookContainer) {{\n",
       "    x.observe(notebookContainer, {childList: true});\n",
       "}}\n",
       "\n",
       "// Listen for the clearing of the current output cell\n",
       "var outputEl = gd.closest('.output');\n",
       "if (outputEl) {{\n",
       "    x.observe(outputEl, {childList: true});\n",
       "}}\n",
       "\n",
       "                        })                };                });            </script>        </div>"
      ]
     },
     "metadata": {},
     "output_type": "display_data"
    }
   ],
   "source": [
    "# Best Sector - USA (By Count of Investment\n",
    "barchart = px.bar(\n",
    "    data_frame=d1_USA_Venture_Main_Sector,\n",
    "    x=d1_USA_Venture_Main_Sector.index,\n",
    "    y=d1_USA_Venture_Main_Sector.values,\n",
    "    color=d1_USA_Venture_Main_Sector.index,\n",
    "    color_discrete_map={\n",
    "                \"Social, Finance, Analytics, Advertising\": \"green\",\n",
    "                \"News, Search and Messaging\": \"skyblue\",\n",
    "                \"Others\": \"skyblue\",\n",
    "                \"Entertainment\": \"skyblue\",\n",
    "                \"Manufacturing\": \"skyblue\",\n",
    "                \"Health\": \"skyblue\",\n",
    "                \"Cleantech / Semiconductors\": \"green\",\n",
    "                \"Automotive & Sports\": \"skyblue\"},\n",
    "    # differentiate color of marks\n",
    "    #opacity=0.9,                  # set opacity of markers (from 0 to 1)\n",
    "    orientation=\"v\",              # 'v','h': orientation of the marks\n",
    "    labels={\"main_sector\":\"Main Sectors\",\n",
    "    \"y\":\"Total Count of Investment\"}, \n",
    "    title='Best Sector By Count of Investment - USA',\n",
    "    text=d1_USA_Venture_Main_Sector.values,\n",
    "    template='plotly',\n",
    ")   \n",
    "pio.show(barchart)\n"
   ]
  },
  {
   "cell_type": "code",
   "execution_count": 77,
   "metadata": {
    "execution": {
     "iopub.execute_input": "2020-10-28T02:24:42.267761Z",
     "iopub.status.busy": "2020-10-28T02:24:42.266793Z",
     "iopub.status.idle": "2020-10-28T02:24:42.271530Z",
     "shell.execute_reply": "2020-10-28T02:24:42.270764Z"
    },
    "papermill": {
     "duration": 0.134895,
     "end_time": "2020-10-28T02:24:42.271670",
     "exception": false,
     "start_time": "2020-10-28T02:24:42.136775",
     "status": "completed"
    },
    "tags": []
   },
   "outputs": [
    {
     "data": {
      "text/plain": [
       "main_sector\n",
       "Others                                     149\n",
       "Social, Finance, Analytics, Advertising    133\n",
       "Cleantech / Semiconductors                 131\n",
       "News, Search and Messaging                  73\n",
       "Entertainment                               56\n",
       "Manufacturing                               42\n",
       "Health                                      24\n",
       "Automotive & Sports                         16\n",
       "Name: funding_round_type, dtype: int64"
      ]
     },
     "execution_count": 77,
     "metadata": {},
     "output_type": "execute_result"
    }
   ],
   "source": [
    "d2_GBR_Venture_Main_Sector = d2.groupby(\n",
    "    d2['main_sector'])['funding_round_type'].count()\n",
    "d2_GBR_Venture_Main_Sector = d2_GBR_Venture_Main_Sector.sort_values(ascending=False)\n",
    "d2_GBR_Venture_Main_Sector"
   ]
  },
  {
   "cell_type": "code",
   "execution_count": 78,
   "metadata": {
    "execution": {
     "iopub.execute_input": "2020-10-28T02:24:42.545201Z",
     "iopub.status.busy": "2020-10-28T02:24:42.532863Z",
     "iopub.status.idle": "2020-10-28T02:24:42.656198Z",
     "shell.execute_reply": "2020-10-28T02:24:42.655366Z"
    },
    "papermill": {
     "duration": 0.2651,
     "end_time": "2020-10-28T02:24:42.656341",
     "exception": false,
     "start_time": "2020-10-28T02:24:42.391241",
     "status": "completed"
    },
    "tags": []
   },
   "outputs": [
    {
     "data": {
      "text/html": [
       "<div>                            <div id=\"d74e969b-ff05-489e-b4d4-ed5d6336977c\" class=\"plotly-graph-div\" style=\"height:525px; width:100%;\"></div>            <script type=\"text/javascript\">                require([\"plotly\"], function(Plotly) {                    window.PLOTLYENV=window.PLOTLYENV || {};                                    if (document.getElementById(\"d74e969b-ff05-489e-b4d4-ed5d6336977c\")) {                    Plotly.newPlot(                        \"d74e969b-ff05-489e-b4d4-ed5d6336977c\",                        [{\"alignmentgroup\": \"True\", \"hovertemplate\": \"Main Sectors=%{x}<br>Total Count of Investment=%{y}<br>text=%{text}<extra></extra>\", \"legendgroup\": \"Others\", \"marker\": {\"color\": \"skyblue\"}, \"name\": \"Others\", \"offsetgroup\": \"Others\", \"orientation\": \"v\", \"showlegend\": true, \"text\": [149.0], \"textposition\": \"auto\", \"type\": \"bar\", \"x\": [\"Others\"], \"xaxis\": \"x\", \"y\": [149], \"yaxis\": \"y\"}, {\"alignmentgroup\": \"True\", \"hovertemplate\": \"Main Sectors=%{x}<br>Total Count of Investment=%{y}<br>text=%{text}<extra></extra>\", \"legendgroup\": \"Social, Finance, Analytics, Advertising\", \"marker\": {\"color\": \"green\"}, \"name\": \"Social, Finance, Analytics, Advertising\", \"offsetgroup\": \"Social, Finance, Analytics, Advertising\", \"orientation\": \"v\", \"showlegend\": true, \"text\": [133.0], \"textposition\": \"auto\", \"type\": \"bar\", \"x\": [\"Social, Finance, Analytics, Advertising\"], \"xaxis\": \"x\", \"y\": [133], \"yaxis\": \"y\"}, {\"alignmentgroup\": \"True\", \"hovertemplate\": \"Main Sectors=%{x}<br>Total Count of Investment=%{y}<br>text=%{text}<extra></extra>\", \"legendgroup\": \"Cleantech / Semiconductors\", \"marker\": {\"color\": \"green\"}, \"name\": \"Cleantech / Semiconductors\", \"offsetgroup\": \"Cleantech / Semiconductors\", \"orientation\": \"v\", \"showlegend\": true, \"text\": [131.0], \"textposition\": \"auto\", \"type\": \"bar\", \"x\": [\"Cleantech / Semiconductors\"], \"xaxis\": \"x\", \"y\": [131], \"yaxis\": \"y\"}, {\"alignmentgroup\": \"True\", \"hovertemplate\": \"Main Sectors=%{x}<br>Total Count of Investment=%{y}<br>text=%{text}<extra></extra>\", \"legendgroup\": \"News, Search and Messaging\", \"marker\": {\"color\": \"skyblue\"}, \"name\": \"News, Search and Messaging\", \"offsetgroup\": \"News, Search and Messaging\", \"orientation\": \"v\", \"showlegend\": true, \"text\": [73.0], \"textposition\": \"auto\", \"type\": \"bar\", \"x\": [\"News, Search and Messaging\"], \"xaxis\": \"x\", \"y\": [73], \"yaxis\": \"y\"}, {\"alignmentgroup\": \"True\", \"hovertemplate\": \"Main Sectors=%{x}<br>Total Count of Investment=%{y}<br>text=%{text}<extra></extra>\", \"legendgroup\": \"Entertainment\", \"marker\": {\"color\": \"skyblue\"}, \"name\": \"Entertainment\", \"offsetgroup\": \"Entertainment\", \"orientation\": \"v\", \"showlegend\": true, \"text\": [56.0], \"textposition\": \"auto\", \"type\": \"bar\", \"x\": [\"Entertainment\"], \"xaxis\": \"x\", \"y\": [56], \"yaxis\": \"y\"}, {\"alignmentgroup\": \"True\", \"hovertemplate\": \"Main Sectors=%{x}<br>Total Count of Investment=%{y}<br>text=%{text}<extra></extra>\", \"legendgroup\": \"Manufacturing\", \"marker\": {\"color\": \"skyblue\"}, \"name\": \"Manufacturing\", \"offsetgroup\": \"Manufacturing\", \"orientation\": \"v\", \"showlegend\": true, \"text\": [42.0], \"textposition\": \"auto\", \"type\": \"bar\", \"x\": [\"Manufacturing\"], \"xaxis\": \"x\", \"y\": [42], \"yaxis\": \"y\"}, {\"alignmentgroup\": \"True\", \"hovertemplate\": \"Main Sectors=%{x}<br>Total Count of Investment=%{y}<br>text=%{text}<extra></extra>\", \"legendgroup\": \"Health\", \"marker\": {\"color\": \"skyblue\"}, \"name\": \"Health\", \"offsetgroup\": \"Health\", \"orientation\": \"v\", \"showlegend\": true, \"text\": [24.0], \"textposition\": \"auto\", \"type\": \"bar\", \"x\": [\"Health\"], \"xaxis\": \"x\", \"y\": [24], \"yaxis\": \"y\"}, {\"alignmentgroup\": \"True\", \"hovertemplate\": \"Main Sectors=%{x}<br>Total Count of Investment=%{y}<br>text=%{text}<extra></extra>\", \"legendgroup\": \"Automotive & Sports\", \"marker\": {\"color\": \"skyblue\"}, \"name\": \"Automotive & Sports\", \"offsetgroup\": \"Automotive & Sports\", \"orientation\": \"v\", \"showlegend\": true, \"text\": [16.0], \"textposition\": \"auto\", \"type\": \"bar\", \"x\": [\"Automotive & Sports\"], \"xaxis\": \"x\", \"y\": [16], \"yaxis\": \"y\"}],                        {\"barmode\": \"relative\", \"legend\": {\"title\": {\"text\": \"Main Sectors\"}, \"tracegroupgap\": 0}, \"template\": {\"data\": {\"bar\": [{\"error_x\": {\"color\": \"#2a3f5f\"}, \"error_y\": {\"color\": \"#2a3f5f\"}, \"marker\": {\"line\": {\"color\": \"#E5ECF6\", \"width\": 0.5}}, \"type\": \"bar\"}], \"barpolar\": [{\"marker\": {\"line\": {\"color\": \"#E5ECF6\", \"width\": 0.5}}, \"type\": \"barpolar\"}], \"carpet\": [{\"aaxis\": {\"endlinecolor\": \"#2a3f5f\", \"gridcolor\": \"white\", \"linecolor\": \"white\", \"minorgridcolor\": \"white\", \"startlinecolor\": \"#2a3f5f\"}, \"baxis\": {\"endlinecolor\": \"#2a3f5f\", \"gridcolor\": \"white\", \"linecolor\": \"white\", \"minorgridcolor\": \"white\", \"startlinecolor\": \"#2a3f5f\"}, \"type\": \"carpet\"}], \"choropleth\": [{\"colorbar\": {\"outlinewidth\": 0, \"ticks\": \"\"}, \"type\": \"choropleth\"}], \"contour\": [{\"colorbar\": {\"outlinewidth\": 0, \"ticks\": \"\"}, \"colorscale\": [[0.0, \"#0d0887\"], [0.1111111111111111, \"#46039f\"], [0.2222222222222222, \"#7201a8\"], [0.3333333333333333, \"#9c179e\"], [0.4444444444444444, \"#bd3786\"], [0.5555555555555556, \"#d8576b\"], [0.6666666666666666, \"#ed7953\"], [0.7777777777777778, \"#fb9f3a\"], [0.8888888888888888, \"#fdca26\"], [1.0, \"#f0f921\"]], \"type\": \"contour\"}], \"contourcarpet\": [{\"colorbar\": {\"outlinewidth\": 0, \"ticks\": \"\"}, \"type\": \"contourcarpet\"}], \"heatmap\": [{\"colorbar\": {\"outlinewidth\": 0, \"ticks\": \"\"}, \"colorscale\": [[0.0, \"#0d0887\"], [0.1111111111111111, \"#46039f\"], [0.2222222222222222, \"#7201a8\"], [0.3333333333333333, \"#9c179e\"], [0.4444444444444444, \"#bd3786\"], [0.5555555555555556, \"#d8576b\"], [0.6666666666666666, \"#ed7953\"], [0.7777777777777778, \"#fb9f3a\"], [0.8888888888888888, \"#fdca26\"], [1.0, \"#f0f921\"]], \"type\": \"heatmap\"}], \"heatmapgl\": [{\"colorbar\": {\"outlinewidth\": 0, \"ticks\": \"\"}, \"colorscale\": [[0.0, \"#0d0887\"], [0.1111111111111111, \"#46039f\"], [0.2222222222222222, \"#7201a8\"], [0.3333333333333333, \"#9c179e\"], [0.4444444444444444, \"#bd3786\"], [0.5555555555555556, \"#d8576b\"], [0.6666666666666666, \"#ed7953\"], [0.7777777777777778, \"#fb9f3a\"], [0.8888888888888888, \"#fdca26\"], [1.0, \"#f0f921\"]], \"type\": \"heatmapgl\"}], \"histogram\": [{\"marker\": {\"colorbar\": {\"outlinewidth\": 0, \"ticks\": \"\"}}, \"type\": \"histogram\"}], \"histogram2d\": [{\"colorbar\": {\"outlinewidth\": 0, \"ticks\": \"\"}, \"colorscale\": [[0.0, \"#0d0887\"], [0.1111111111111111, \"#46039f\"], [0.2222222222222222, \"#7201a8\"], [0.3333333333333333, \"#9c179e\"], [0.4444444444444444, \"#bd3786\"], [0.5555555555555556, \"#d8576b\"], [0.6666666666666666, \"#ed7953\"], [0.7777777777777778, \"#fb9f3a\"], [0.8888888888888888, \"#fdca26\"], [1.0, \"#f0f921\"]], \"type\": \"histogram2d\"}], \"histogram2dcontour\": [{\"colorbar\": {\"outlinewidth\": 0, \"ticks\": \"\"}, \"colorscale\": [[0.0, \"#0d0887\"], [0.1111111111111111, \"#46039f\"], [0.2222222222222222, \"#7201a8\"], [0.3333333333333333, \"#9c179e\"], [0.4444444444444444, \"#bd3786\"], [0.5555555555555556, \"#d8576b\"], [0.6666666666666666, \"#ed7953\"], [0.7777777777777778, \"#fb9f3a\"], [0.8888888888888888, \"#fdca26\"], [1.0, \"#f0f921\"]], \"type\": \"histogram2dcontour\"}], \"mesh3d\": [{\"colorbar\": {\"outlinewidth\": 0, \"ticks\": \"\"}, \"type\": \"mesh3d\"}], \"parcoords\": [{\"line\": {\"colorbar\": {\"outlinewidth\": 0, \"ticks\": \"\"}}, \"type\": \"parcoords\"}], \"pie\": [{\"automargin\": true, \"type\": \"pie\"}], \"scatter\": [{\"marker\": {\"colorbar\": {\"outlinewidth\": 0, \"ticks\": \"\"}}, \"type\": \"scatter\"}], \"scatter3d\": [{\"line\": {\"colorbar\": {\"outlinewidth\": 0, \"ticks\": \"\"}}, \"marker\": {\"colorbar\": {\"outlinewidth\": 0, \"ticks\": \"\"}}, \"type\": \"scatter3d\"}], \"scattercarpet\": [{\"marker\": {\"colorbar\": {\"outlinewidth\": 0, \"ticks\": \"\"}}, \"type\": \"scattercarpet\"}], \"scattergeo\": [{\"marker\": {\"colorbar\": {\"outlinewidth\": 0, \"ticks\": \"\"}}, \"type\": \"scattergeo\"}], \"scattergl\": [{\"marker\": {\"colorbar\": {\"outlinewidth\": 0, \"ticks\": \"\"}}, \"type\": \"scattergl\"}], \"scattermapbox\": [{\"marker\": {\"colorbar\": {\"outlinewidth\": 0, \"ticks\": \"\"}}, \"type\": \"scattermapbox\"}], \"scatterpolar\": [{\"marker\": {\"colorbar\": {\"outlinewidth\": 0, \"ticks\": \"\"}}, \"type\": \"scatterpolar\"}], \"scatterpolargl\": [{\"marker\": {\"colorbar\": {\"outlinewidth\": 0, \"ticks\": \"\"}}, \"type\": \"scatterpolargl\"}], \"scatterternary\": [{\"marker\": {\"colorbar\": {\"outlinewidth\": 0, \"ticks\": \"\"}}, \"type\": \"scatterternary\"}], \"surface\": [{\"colorbar\": {\"outlinewidth\": 0, \"ticks\": \"\"}, \"colorscale\": [[0.0, \"#0d0887\"], [0.1111111111111111, \"#46039f\"], [0.2222222222222222, \"#7201a8\"], [0.3333333333333333, \"#9c179e\"], [0.4444444444444444, \"#bd3786\"], [0.5555555555555556, \"#d8576b\"], [0.6666666666666666, \"#ed7953\"], [0.7777777777777778, \"#fb9f3a\"], [0.8888888888888888, \"#fdca26\"], [1.0, \"#f0f921\"]], \"type\": \"surface\"}], \"table\": [{\"cells\": {\"fill\": {\"color\": \"#EBF0F8\"}, \"line\": {\"color\": \"white\"}}, \"header\": {\"fill\": {\"color\": \"#C8D4E3\"}, \"line\": {\"color\": \"white\"}}, \"type\": \"table\"}]}, \"layout\": {\"annotationdefaults\": {\"arrowcolor\": \"#2a3f5f\", \"arrowhead\": 0, \"arrowwidth\": 1}, \"coloraxis\": {\"colorbar\": {\"outlinewidth\": 0, \"ticks\": \"\"}}, \"colorscale\": {\"diverging\": [[0, \"#8e0152\"], [0.1, \"#c51b7d\"], [0.2, \"#de77ae\"], [0.3, \"#f1b6da\"], [0.4, \"#fde0ef\"], [0.5, \"#f7f7f7\"], [0.6, \"#e6f5d0\"], [0.7, \"#b8e186\"], [0.8, \"#7fbc41\"], [0.9, \"#4d9221\"], [1, \"#276419\"]], \"sequential\": [[0.0, \"#0d0887\"], [0.1111111111111111, \"#46039f\"], [0.2222222222222222, \"#7201a8\"], [0.3333333333333333, \"#9c179e\"], [0.4444444444444444, \"#bd3786\"], [0.5555555555555556, \"#d8576b\"], [0.6666666666666666, \"#ed7953\"], [0.7777777777777778, \"#fb9f3a\"], [0.8888888888888888, \"#fdca26\"], [1.0, \"#f0f921\"]], \"sequentialminus\": [[0.0, \"#0d0887\"], [0.1111111111111111, \"#46039f\"], [0.2222222222222222, \"#7201a8\"], [0.3333333333333333, \"#9c179e\"], [0.4444444444444444, \"#bd3786\"], [0.5555555555555556, \"#d8576b\"], [0.6666666666666666, \"#ed7953\"], [0.7777777777777778, \"#fb9f3a\"], [0.8888888888888888, \"#fdca26\"], [1.0, \"#f0f921\"]]}, \"colorway\": [\"#636efa\", \"#EF553B\", \"#00cc96\", \"#ab63fa\", \"#FFA15A\", \"#19d3f3\", \"#FF6692\", \"#B6E880\", \"#FF97FF\", \"#FECB52\"], \"font\": {\"color\": \"#2a3f5f\"}, \"geo\": {\"bgcolor\": \"white\", \"lakecolor\": \"white\", \"landcolor\": \"#E5ECF6\", \"showlakes\": true, \"showland\": true, \"subunitcolor\": \"white\"}, \"hoverlabel\": {\"align\": \"left\"}, \"hovermode\": \"closest\", \"mapbox\": {\"style\": \"light\"}, \"paper_bgcolor\": \"white\", \"plot_bgcolor\": \"#E5ECF6\", \"polar\": {\"angularaxis\": {\"gridcolor\": \"white\", \"linecolor\": \"white\", \"ticks\": \"\"}, \"bgcolor\": \"#E5ECF6\", \"radialaxis\": {\"gridcolor\": \"white\", \"linecolor\": \"white\", \"ticks\": \"\"}}, \"scene\": {\"xaxis\": {\"backgroundcolor\": \"#E5ECF6\", \"gridcolor\": \"white\", \"gridwidth\": 2, \"linecolor\": \"white\", \"showbackground\": true, \"ticks\": \"\", \"zerolinecolor\": \"white\"}, \"yaxis\": {\"backgroundcolor\": \"#E5ECF6\", \"gridcolor\": \"white\", \"gridwidth\": 2, \"linecolor\": \"white\", \"showbackground\": true, \"ticks\": \"\", \"zerolinecolor\": \"white\"}, \"zaxis\": {\"backgroundcolor\": \"#E5ECF6\", \"gridcolor\": \"white\", \"gridwidth\": 2, \"linecolor\": \"white\", \"showbackground\": true, \"ticks\": \"\", \"zerolinecolor\": \"white\"}}, \"shapedefaults\": {\"line\": {\"color\": \"#2a3f5f\"}}, \"ternary\": {\"aaxis\": {\"gridcolor\": \"white\", \"linecolor\": \"white\", \"ticks\": \"\"}, \"baxis\": {\"gridcolor\": \"white\", \"linecolor\": \"white\", \"ticks\": \"\"}, \"bgcolor\": \"#E5ECF6\", \"caxis\": {\"gridcolor\": \"white\", \"linecolor\": \"white\", \"ticks\": \"\"}}, \"title\": {\"x\": 0.05}, \"xaxis\": {\"automargin\": true, \"gridcolor\": \"white\", \"linecolor\": \"white\", \"ticks\": \"\", \"title\": {\"standoff\": 15}, \"zerolinecolor\": \"white\", \"zerolinewidth\": 2}, \"yaxis\": {\"automargin\": true, \"gridcolor\": \"white\", \"linecolor\": \"white\", \"ticks\": \"\", \"title\": {\"standoff\": 15}, \"zerolinecolor\": \"white\", \"zerolinewidth\": 2}}}, \"title\": {\"text\": \"Best Sector By Count of Investment - GBR\"}, \"xaxis\": {\"anchor\": \"y\", \"categoryarray\": [\"Others\", \"Social, Finance, Analytics, Advertising\", \"Cleantech / Semiconductors\", \"News, Search and Messaging\", \"Entertainment\", \"Manufacturing\", \"Health\", \"Automotive & Sports\"], \"categoryorder\": \"array\", \"domain\": [0.0, 1.0], \"title\": {\"text\": \"Main Sectors\"}}, \"yaxis\": {\"anchor\": \"x\", \"domain\": [0.0, 1.0], \"title\": {\"text\": \"Total Count of Investment\"}}},                        {\"responsive\": true}                    ).then(function(){\n",
       "                            \n",
       "var gd = document.getElementById('d74e969b-ff05-489e-b4d4-ed5d6336977c');\n",
       "var x = new MutationObserver(function (mutations, observer) {{\n",
       "        var display = window.getComputedStyle(gd).display;\n",
       "        if (!display || display === 'none') {{\n",
       "            console.log([gd, 'removed!']);\n",
       "            Plotly.purge(gd);\n",
       "            observer.disconnect();\n",
       "        }}\n",
       "}});\n",
       "\n",
       "// Listen for the removal of the full notebook cells\n",
       "var notebookContainer = gd.closest('#notebook-container');\n",
       "if (notebookContainer) {{\n",
       "    x.observe(notebookContainer, {childList: true});\n",
       "}}\n",
       "\n",
       "// Listen for the clearing of the current output cell\n",
       "var outputEl = gd.closest('.output');\n",
       "if (outputEl) {{\n",
       "    x.observe(outputEl, {childList: true});\n",
       "}}\n",
       "\n",
       "                        })                };                });            </script>        </div>"
      ]
     },
     "metadata": {},
     "output_type": "display_data"
    }
   ],
   "source": [
    "barchart = px.bar(\n",
    "    data_frame=d2_GBR_Venture_Main_Sector,\n",
    "    x=d2_GBR_Venture_Main_Sector.index,\n",
    "    y=d2_GBR_Venture_Main_Sector.values,\n",
    "    color=d2_GBR_Venture_Main_Sector.index,\n",
    "    color_discrete_map={\n",
    "                \"Social, Finance, Analytics, Advertising\": \"green\",\n",
    "                \"News, Search and Messaging\": \"skyblue\",\n",
    "                \"Others\": \"skyblue\",\n",
    "                \"Entertainment\": \"skyblue\",\n",
    "                \"Manufacturing\": \"skyblue\",\n",
    "                \"Health\": \"skyblue\",\n",
    "                \"Cleantech / Semiconductors\": \"green\",\n",
    "                \"Automotive & Sports\": \"skyblue\"},# differentiate color of marks\n",
    "    #opacity=0.9,                  # set opacity of markers (from 0 to 1)\n",
    "    orientation=\"v\",              # 'v','h': orientation of the marks\n",
    "    labels={\"main_sector\":\"Main Sectors\",\n",
    "    \"y\":\"Total Count of Investment\"}, \n",
    "    title='Best Sector By Count of Investment - GBR',\n",
    "    text=d2_GBR_Venture_Main_Sector.values,\n",
    "   # width=600,                   # figure width in pixels\n",
    "    #height=420, \n",
    "    template='plotly',\n",
    ")   \n",
    "pio.show(barchart)"
   ]
  },
  {
   "cell_type": "code",
   "execution_count": 79,
   "metadata": {
    "execution": {
     "iopub.execute_input": "2020-10-28T02:24:42.933279Z",
     "iopub.status.busy": "2020-10-28T02:24:42.932463Z",
     "iopub.status.idle": "2020-10-28T02:24:42.943489Z",
     "shell.execute_reply": "2020-10-28T02:24:42.942462Z"
    },
    "papermill": {
     "duration": 0.144186,
     "end_time": "2020-10-28T02:24:42.943659",
     "exception": false,
     "start_time": "2020-10-28T02:24:42.799473",
     "status": "completed"
    },
    "tags": []
   },
   "outputs": [
    {
     "data": {
      "text/plain": [
       "main_sector\n",
       "Others                                     110\n",
       "Social, Finance, Analytics, Advertising     60\n",
       "News, Search and Messaging                  53\n",
       "Entertainment                               33\n",
       "Manufacturing                               21\n",
       "Cleantech / Semiconductors                  20\n",
       "Health                                      19\n",
       "Automotive & Sports                         13\n",
       "Name: funding_round_type, dtype: int64"
      ]
     },
     "execution_count": 79,
     "metadata": {},
     "output_type": "execute_result"
    }
   ],
   "source": [
    "d3_IND_Venture_Main_Sector = d3.groupby(\n",
    "    d3['main_sector'])['funding_round_type'].count()\n",
    "d3_IND_Venture_Main_Sector = d3_IND_Venture_Main_Sector.sort_values(ascending=False)\n",
    "d3_IND_Venture_Main_Sector"
   ]
  },
  {
   "cell_type": "code",
   "execution_count": 80,
   "metadata": {
    "execution": {
     "iopub.execute_input": "2020-10-28T02:24:43.233013Z",
     "iopub.status.busy": "2020-10-28T02:24:43.229600Z",
     "iopub.status.idle": "2020-10-28T02:24:43.318808Z",
     "shell.execute_reply": "2020-10-28T02:24:43.318036Z"
    },
    "papermill": {
     "duration": 0.240999,
     "end_time": "2020-10-28T02:24:43.318933",
     "exception": false,
     "start_time": "2020-10-28T02:24:43.077934",
     "status": "completed"
    },
    "tags": []
   },
   "outputs": [
    {
     "data": {
      "text/html": [
       "<div>                            <div id=\"61b51c2d-8dea-4741-bd42-91fc9bcadcb2\" class=\"plotly-graph-div\" style=\"height:525px; width:100%;\"></div>            <script type=\"text/javascript\">                require([\"plotly\"], function(Plotly) {                    window.PLOTLYENV=window.PLOTLYENV || {};                                    if (document.getElementById(\"61b51c2d-8dea-4741-bd42-91fc9bcadcb2\")) {                    Plotly.newPlot(                        \"61b51c2d-8dea-4741-bd42-91fc9bcadcb2\",                        [{\"alignmentgroup\": \"True\", \"hovertemplate\": \"Main Sectors=%{x}<br>Total Count of Investment=%{y}<br>text=%{text}<extra></extra>\", \"legendgroup\": \"Others\", \"marker\": {\"color\": \"skyblue\"}, \"name\": \"Others\", \"offsetgroup\": \"Others\", \"orientation\": \"v\", \"showlegend\": true, \"text\": [110.0], \"textposition\": \"auto\", \"type\": \"bar\", \"x\": [\"Others\"], \"xaxis\": \"x\", \"y\": [110], \"yaxis\": \"y\"}, {\"alignmentgroup\": \"True\", \"hovertemplate\": \"Main Sectors=%{x}<br>Total Count of Investment=%{y}<br>text=%{text}<extra></extra>\", \"legendgroup\": \"Social, Finance, Analytics, Advertising\", \"marker\": {\"color\": \"green\"}, \"name\": \"Social, Finance, Analytics, Advertising\", \"offsetgroup\": \"Social, Finance, Analytics, Advertising\", \"orientation\": \"v\", \"showlegend\": true, \"text\": [60.0], \"textposition\": \"auto\", \"type\": \"bar\", \"x\": [\"Social, Finance, Analytics, Advertising\"], \"xaxis\": \"x\", \"y\": [60], \"yaxis\": \"y\"}, {\"alignmentgroup\": \"True\", \"hovertemplate\": \"Main Sectors=%{x}<br>Total Count of Investment=%{y}<br>text=%{text}<extra></extra>\", \"legendgroup\": \"News, Search and Messaging\", \"marker\": {\"color\": \"green\"}, \"name\": \"News, Search and Messaging\", \"offsetgroup\": \"News, Search and Messaging\", \"orientation\": \"v\", \"showlegend\": true, \"text\": [53.0], \"textposition\": \"auto\", \"type\": \"bar\", \"x\": [\"News, Search and Messaging\"], \"xaxis\": \"x\", \"y\": [53], \"yaxis\": \"y\"}, {\"alignmentgroup\": \"True\", \"hovertemplate\": \"Main Sectors=%{x}<br>Total Count of Investment=%{y}<br>text=%{text}<extra></extra>\", \"legendgroup\": \"Entertainment\", \"marker\": {\"color\": \"skyblue\"}, \"name\": \"Entertainment\", \"offsetgroup\": \"Entertainment\", \"orientation\": \"v\", \"showlegend\": true, \"text\": [33.0], \"textposition\": \"auto\", \"type\": \"bar\", \"x\": [\"Entertainment\"], \"xaxis\": \"x\", \"y\": [33], \"yaxis\": \"y\"}, {\"alignmentgroup\": \"True\", \"hovertemplate\": \"Main Sectors=%{x}<br>Total Count of Investment=%{y}<br>text=%{text}<extra></extra>\", \"legendgroup\": \"Manufacturing\", \"marker\": {\"color\": \"skyblue\"}, \"name\": \"Manufacturing\", \"offsetgroup\": \"Manufacturing\", \"orientation\": \"v\", \"showlegend\": true, \"text\": [21.0], \"textposition\": \"auto\", \"type\": \"bar\", \"x\": [\"Manufacturing\"], \"xaxis\": \"x\", \"y\": [21], \"yaxis\": \"y\"}, {\"alignmentgroup\": \"True\", \"hovertemplate\": \"Main Sectors=%{x}<br>Total Count of Investment=%{y}<br>text=%{text}<extra></extra>\", \"legendgroup\": \"Cleantech / Semiconductors\", \"marker\": {\"color\": \"skyblue\"}, \"name\": \"Cleantech / Semiconductors\", \"offsetgroup\": \"Cleantech / Semiconductors\", \"orientation\": \"v\", \"showlegend\": true, \"text\": [20.0], \"textposition\": \"auto\", \"type\": \"bar\", \"x\": [\"Cleantech / Semiconductors\"], \"xaxis\": \"x\", \"y\": [20], \"yaxis\": \"y\"}, {\"alignmentgroup\": \"True\", \"hovertemplate\": \"Main Sectors=%{x}<br>Total Count of Investment=%{y}<br>text=%{text}<extra></extra>\", \"legendgroup\": \"Health\", \"marker\": {\"color\": \"skyblue\"}, \"name\": \"Health\", \"offsetgroup\": \"Health\", \"orientation\": \"v\", \"showlegend\": true, \"text\": [19.0], \"textposition\": \"auto\", \"type\": \"bar\", \"x\": [\"Health\"], \"xaxis\": \"x\", \"y\": [19], \"yaxis\": \"y\"}, {\"alignmentgroup\": \"True\", \"hovertemplate\": \"Main Sectors=%{x}<br>Total Count of Investment=%{y}<br>text=%{text}<extra></extra>\", \"legendgroup\": \"Automotive & Sports\", \"marker\": {\"color\": \"skyblue\"}, \"name\": \"Automotive & Sports\", \"offsetgroup\": \"Automotive & Sports\", \"orientation\": \"v\", \"showlegend\": true, \"text\": [13.0], \"textposition\": \"auto\", \"type\": \"bar\", \"x\": [\"Automotive & Sports\"], \"xaxis\": \"x\", \"y\": [13], \"yaxis\": \"y\"}],                        {\"barmode\": \"relative\", \"legend\": {\"title\": {\"text\": \"Main Sectors\"}, \"tracegroupgap\": 0}, \"template\": {\"data\": {\"bar\": [{\"error_x\": {\"color\": \"#2a3f5f\"}, \"error_y\": {\"color\": \"#2a3f5f\"}, \"marker\": {\"line\": {\"color\": \"#E5ECF6\", \"width\": 0.5}}, \"type\": \"bar\"}], \"barpolar\": [{\"marker\": {\"line\": {\"color\": \"#E5ECF6\", \"width\": 0.5}}, \"type\": \"barpolar\"}], \"carpet\": [{\"aaxis\": {\"endlinecolor\": \"#2a3f5f\", \"gridcolor\": \"white\", \"linecolor\": \"white\", \"minorgridcolor\": \"white\", \"startlinecolor\": \"#2a3f5f\"}, \"baxis\": {\"endlinecolor\": \"#2a3f5f\", \"gridcolor\": \"white\", \"linecolor\": \"white\", \"minorgridcolor\": \"white\", \"startlinecolor\": \"#2a3f5f\"}, \"type\": \"carpet\"}], \"choropleth\": [{\"colorbar\": {\"outlinewidth\": 0, \"ticks\": \"\"}, \"type\": \"choropleth\"}], \"contour\": [{\"colorbar\": {\"outlinewidth\": 0, \"ticks\": \"\"}, \"colorscale\": [[0.0, \"#0d0887\"], [0.1111111111111111, \"#46039f\"], [0.2222222222222222, \"#7201a8\"], [0.3333333333333333, \"#9c179e\"], [0.4444444444444444, \"#bd3786\"], [0.5555555555555556, \"#d8576b\"], [0.6666666666666666, \"#ed7953\"], [0.7777777777777778, \"#fb9f3a\"], [0.8888888888888888, \"#fdca26\"], [1.0, \"#f0f921\"]], \"type\": \"contour\"}], \"contourcarpet\": [{\"colorbar\": {\"outlinewidth\": 0, \"ticks\": \"\"}, \"type\": \"contourcarpet\"}], \"heatmap\": [{\"colorbar\": {\"outlinewidth\": 0, \"ticks\": \"\"}, \"colorscale\": [[0.0, \"#0d0887\"], [0.1111111111111111, \"#46039f\"], [0.2222222222222222, \"#7201a8\"], [0.3333333333333333, \"#9c179e\"], [0.4444444444444444, \"#bd3786\"], [0.5555555555555556, \"#d8576b\"], [0.6666666666666666, \"#ed7953\"], [0.7777777777777778, \"#fb9f3a\"], [0.8888888888888888, \"#fdca26\"], [1.0, \"#f0f921\"]], \"type\": \"heatmap\"}], \"heatmapgl\": [{\"colorbar\": {\"outlinewidth\": 0, \"ticks\": \"\"}, \"colorscale\": [[0.0, \"#0d0887\"], [0.1111111111111111, \"#46039f\"], [0.2222222222222222, \"#7201a8\"], [0.3333333333333333, \"#9c179e\"], [0.4444444444444444, \"#bd3786\"], [0.5555555555555556, \"#d8576b\"], [0.6666666666666666, \"#ed7953\"], [0.7777777777777778, \"#fb9f3a\"], [0.8888888888888888, \"#fdca26\"], [1.0, \"#f0f921\"]], \"type\": \"heatmapgl\"}], \"histogram\": [{\"marker\": {\"colorbar\": {\"outlinewidth\": 0, \"ticks\": \"\"}}, \"type\": \"histogram\"}], \"histogram2d\": [{\"colorbar\": {\"outlinewidth\": 0, \"ticks\": \"\"}, \"colorscale\": [[0.0, \"#0d0887\"], [0.1111111111111111, \"#46039f\"], [0.2222222222222222, \"#7201a8\"], [0.3333333333333333, \"#9c179e\"], [0.4444444444444444, \"#bd3786\"], [0.5555555555555556, \"#d8576b\"], [0.6666666666666666, \"#ed7953\"], [0.7777777777777778, \"#fb9f3a\"], [0.8888888888888888, \"#fdca26\"], [1.0, \"#f0f921\"]], \"type\": \"histogram2d\"}], \"histogram2dcontour\": [{\"colorbar\": {\"outlinewidth\": 0, \"ticks\": \"\"}, \"colorscale\": [[0.0, \"#0d0887\"], [0.1111111111111111, \"#46039f\"], [0.2222222222222222, \"#7201a8\"], [0.3333333333333333, \"#9c179e\"], [0.4444444444444444, \"#bd3786\"], [0.5555555555555556, \"#d8576b\"], [0.6666666666666666, \"#ed7953\"], [0.7777777777777778, \"#fb9f3a\"], [0.8888888888888888, \"#fdca26\"], [1.0, \"#f0f921\"]], \"type\": \"histogram2dcontour\"}], \"mesh3d\": [{\"colorbar\": {\"outlinewidth\": 0, \"ticks\": \"\"}, \"type\": \"mesh3d\"}], \"parcoords\": [{\"line\": {\"colorbar\": {\"outlinewidth\": 0, \"ticks\": \"\"}}, \"type\": \"parcoords\"}], \"pie\": [{\"automargin\": true, \"type\": \"pie\"}], \"scatter\": [{\"marker\": {\"colorbar\": {\"outlinewidth\": 0, \"ticks\": \"\"}}, \"type\": \"scatter\"}], \"scatter3d\": [{\"line\": {\"colorbar\": {\"outlinewidth\": 0, \"ticks\": \"\"}}, \"marker\": {\"colorbar\": {\"outlinewidth\": 0, \"ticks\": \"\"}}, \"type\": \"scatter3d\"}], \"scattercarpet\": [{\"marker\": {\"colorbar\": {\"outlinewidth\": 0, \"ticks\": \"\"}}, \"type\": \"scattercarpet\"}], \"scattergeo\": [{\"marker\": {\"colorbar\": {\"outlinewidth\": 0, \"ticks\": \"\"}}, \"type\": \"scattergeo\"}], \"scattergl\": [{\"marker\": {\"colorbar\": {\"outlinewidth\": 0, \"ticks\": \"\"}}, \"type\": \"scattergl\"}], \"scattermapbox\": [{\"marker\": {\"colorbar\": {\"outlinewidth\": 0, \"ticks\": \"\"}}, \"type\": \"scattermapbox\"}], \"scatterpolar\": [{\"marker\": {\"colorbar\": {\"outlinewidth\": 0, \"ticks\": \"\"}}, \"type\": \"scatterpolar\"}], \"scatterpolargl\": [{\"marker\": {\"colorbar\": {\"outlinewidth\": 0, \"ticks\": \"\"}}, \"type\": \"scatterpolargl\"}], \"scatterternary\": [{\"marker\": {\"colorbar\": {\"outlinewidth\": 0, \"ticks\": \"\"}}, \"type\": \"scatterternary\"}], \"surface\": [{\"colorbar\": {\"outlinewidth\": 0, \"ticks\": \"\"}, \"colorscale\": [[0.0, \"#0d0887\"], [0.1111111111111111, \"#46039f\"], [0.2222222222222222, \"#7201a8\"], [0.3333333333333333, \"#9c179e\"], [0.4444444444444444, \"#bd3786\"], [0.5555555555555556, \"#d8576b\"], [0.6666666666666666, \"#ed7953\"], [0.7777777777777778, \"#fb9f3a\"], [0.8888888888888888, \"#fdca26\"], [1.0, \"#f0f921\"]], \"type\": \"surface\"}], \"table\": [{\"cells\": {\"fill\": {\"color\": \"#EBF0F8\"}, \"line\": {\"color\": \"white\"}}, \"header\": {\"fill\": {\"color\": \"#C8D4E3\"}, \"line\": {\"color\": \"white\"}}, \"type\": \"table\"}]}, \"layout\": {\"annotationdefaults\": {\"arrowcolor\": \"#2a3f5f\", \"arrowhead\": 0, \"arrowwidth\": 1}, \"coloraxis\": {\"colorbar\": {\"outlinewidth\": 0, \"ticks\": \"\"}}, \"colorscale\": {\"diverging\": [[0, \"#8e0152\"], [0.1, \"#c51b7d\"], [0.2, \"#de77ae\"], [0.3, \"#f1b6da\"], [0.4, \"#fde0ef\"], [0.5, \"#f7f7f7\"], [0.6, \"#e6f5d0\"], [0.7, \"#b8e186\"], [0.8, \"#7fbc41\"], [0.9, \"#4d9221\"], [1, \"#276419\"]], \"sequential\": [[0.0, \"#0d0887\"], [0.1111111111111111, \"#46039f\"], [0.2222222222222222, \"#7201a8\"], [0.3333333333333333, \"#9c179e\"], [0.4444444444444444, \"#bd3786\"], [0.5555555555555556, \"#d8576b\"], [0.6666666666666666, \"#ed7953\"], [0.7777777777777778, \"#fb9f3a\"], [0.8888888888888888, \"#fdca26\"], [1.0, \"#f0f921\"]], \"sequentialminus\": [[0.0, \"#0d0887\"], [0.1111111111111111, \"#46039f\"], [0.2222222222222222, \"#7201a8\"], [0.3333333333333333, \"#9c179e\"], [0.4444444444444444, \"#bd3786\"], [0.5555555555555556, \"#d8576b\"], [0.6666666666666666, \"#ed7953\"], [0.7777777777777778, \"#fb9f3a\"], [0.8888888888888888, \"#fdca26\"], [1.0, \"#f0f921\"]]}, \"colorway\": [\"#636efa\", \"#EF553B\", \"#00cc96\", \"#ab63fa\", \"#FFA15A\", \"#19d3f3\", \"#FF6692\", \"#B6E880\", \"#FF97FF\", \"#FECB52\"], \"font\": {\"color\": \"#2a3f5f\"}, \"geo\": {\"bgcolor\": \"white\", \"lakecolor\": \"white\", \"landcolor\": \"#E5ECF6\", \"showlakes\": true, \"showland\": true, \"subunitcolor\": \"white\"}, \"hoverlabel\": {\"align\": \"left\"}, \"hovermode\": \"closest\", \"mapbox\": {\"style\": \"light\"}, \"paper_bgcolor\": \"white\", \"plot_bgcolor\": \"#E5ECF6\", \"polar\": {\"angularaxis\": {\"gridcolor\": \"white\", \"linecolor\": \"white\", \"ticks\": \"\"}, \"bgcolor\": \"#E5ECF6\", \"radialaxis\": {\"gridcolor\": \"white\", \"linecolor\": \"white\", \"ticks\": \"\"}}, \"scene\": {\"xaxis\": {\"backgroundcolor\": \"#E5ECF6\", \"gridcolor\": \"white\", \"gridwidth\": 2, \"linecolor\": \"white\", \"showbackground\": true, \"ticks\": \"\", \"zerolinecolor\": \"white\"}, \"yaxis\": {\"backgroundcolor\": \"#E5ECF6\", \"gridcolor\": \"white\", \"gridwidth\": 2, \"linecolor\": \"white\", \"showbackground\": true, \"ticks\": \"\", \"zerolinecolor\": \"white\"}, \"zaxis\": {\"backgroundcolor\": \"#E5ECF6\", \"gridcolor\": \"white\", \"gridwidth\": 2, \"linecolor\": \"white\", \"showbackground\": true, \"ticks\": \"\", \"zerolinecolor\": \"white\"}}, \"shapedefaults\": {\"line\": {\"color\": \"#2a3f5f\"}}, \"ternary\": {\"aaxis\": {\"gridcolor\": \"white\", \"linecolor\": \"white\", \"ticks\": \"\"}, \"baxis\": {\"gridcolor\": \"white\", \"linecolor\": \"white\", \"ticks\": \"\"}, \"bgcolor\": \"#E5ECF6\", \"caxis\": {\"gridcolor\": \"white\", \"linecolor\": \"white\", \"ticks\": \"\"}}, \"title\": {\"x\": 0.05}, \"xaxis\": {\"automargin\": true, \"gridcolor\": \"white\", \"linecolor\": \"white\", \"ticks\": \"\", \"title\": {\"standoff\": 15}, \"zerolinecolor\": \"white\", \"zerolinewidth\": 2}, \"yaxis\": {\"automargin\": true, \"gridcolor\": \"white\", \"linecolor\": \"white\", \"ticks\": \"\", \"title\": {\"standoff\": 15}, \"zerolinecolor\": \"white\", \"zerolinewidth\": 2}}}, \"title\": {\"text\": \"Best Sector By Count of Investment - IND\"}, \"xaxis\": {\"anchor\": \"y\", \"categoryarray\": [\"Others\", \"Social, Finance, Analytics, Advertising\", \"News, Search and Messaging\", \"Entertainment\", \"Manufacturing\", \"Cleantech / Semiconductors\", \"Health\", \"Automotive & Sports\"], \"categoryorder\": \"array\", \"domain\": [0.0, 1.0], \"title\": {\"text\": \"Main Sectors\"}}, \"yaxis\": {\"anchor\": \"x\", \"domain\": [0.0, 1.0], \"title\": {\"text\": \"Total Count of Investment\"}}},                        {\"responsive\": true}                    ).then(function(){\n",
       "                            \n",
       "var gd = document.getElementById('61b51c2d-8dea-4741-bd42-91fc9bcadcb2');\n",
       "var x = new MutationObserver(function (mutations, observer) {{\n",
       "        var display = window.getComputedStyle(gd).display;\n",
       "        if (!display || display === 'none') {{\n",
       "            console.log([gd, 'removed!']);\n",
       "            Plotly.purge(gd);\n",
       "            observer.disconnect();\n",
       "        }}\n",
       "}});\n",
       "\n",
       "// Listen for the removal of the full notebook cells\n",
       "var notebookContainer = gd.closest('#notebook-container');\n",
       "if (notebookContainer) {{\n",
       "    x.observe(notebookContainer, {childList: true});\n",
       "}}\n",
       "\n",
       "// Listen for the clearing of the current output cell\n",
       "var outputEl = gd.closest('.output');\n",
       "if (outputEl) {{\n",
       "    x.observe(outputEl, {childList: true});\n",
       "}}\n",
       "\n",
       "                        })                };                });            </script>        </div>"
      ]
     },
     "metadata": {},
     "output_type": "display_data"
    }
   ],
   "source": [
    "barchart = px.bar(\n",
    "    data_frame=d3_IND_Venture_Main_Sector,\n",
    "    x=d3_IND_Venture_Main_Sector.index,\n",
    "    y=d3_IND_Venture_Main_Sector.values,\n",
    "    color=d3_IND_Venture_Main_Sector.index,\n",
    "    color_discrete_map={\n",
    "                \"Social, Finance, Analytics, Advertising\": \"green\",\n",
    "                \"News, Search and Messaging\": \"green\",\n",
    "                \"Others\": \"skyblue\",\n",
    "                \"Entertainment\": \"skyblue\",\n",
    "                \"Manufacturing\": \"skyblue\",\n",
    "                \"Health\": \"skyblue\",\n",
    "                \"Cleantech / Semiconductors\": \"skyblue\",\n",
    "                \"Automotive & Sports\": \"skyblue\"},# differentiate color of marks\n",
    "    #opacity=0.9,                  # set opacity of markers (from 0 to 1)\n",
    "    orientation=\"v\",              # 'v','h': orientation of the marks\n",
    "    labels={\"main_sector\":\"Main Sectors\",\n",
    "    \"y\":\"Total Count of Investment\"}, \n",
    "    title='Best Sector By Count of Investment - IND',\n",
    "    text=d3_IND_Venture_Main_Sector.values,\n",
    "    template='plotly',\n",
    ")   \n",
    "pio.show(barchart)"
   ]
  },
  {
   "cell_type": "markdown",
   "metadata": {
    "papermill": {
     "duration": 0.132446,
     "end_time": "2020-10-28T02:24:43.581380",
     "exception": false,
     "start_time": "2020-10-28T02:24:43.448934",
     "status": "completed"
    },
    "tags": []
   },
   "source": [
    "## Conclusion\n",
    "\n",
    "---\n",
    "\n",
    "Lets extract some information from the dataset which will help in the PPT"
   ]
  },
  {
   "cell_type": "code",
   "execution_count": 81,
   "metadata": {
    "execution": {
     "iopub.execute_input": "2020-10-28T02:24:43.852991Z",
     "iopub.status.busy": "2020-10-28T02:24:43.852173Z",
     "iopub.status.idle": "2020-10-28T02:24:43.927380Z",
     "shell.execute_reply": "2020-10-28T02:24:43.928201Z"
    },
    "papermill": {
     "duration": 0.217963,
     "end_time": "2020-10-28T02:24:43.928440",
     "exception": false,
     "start_time": "2020-10-28T02:24:43.710477",
     "status": "completed"
    },
    "tags": []
   },
   "outputs": [
    {
     "name": "stdout",
     "output_type": "stream",
     "text": [
      "1901\n",
      "2016\n"
     ]
    }
   ],
   "source": [
    "# Calculate Year range for which we are analyzing dataset. it will tell us the given data set has teh range of this year to analyze\n",
    "\n",
    "date = companies['founded_at'].loc[~(companies['founded_at'].isnull())].values\n",
    "year = list(map(lambda x: int(str(x).split('-')[-1]), date))\n",
    "\n",
    "year = list(map(lambda x: x if 1800 < x < 2020 else 2000, year))\n",
    "year\n",
    "print(min(year))\n",
    "print(max(year))\n",
    "\n"
   ]
  },
  {
   "cell_type": "code",
   "execution_count": 82,
   "metadata": {
    "execution": {
     "iopub.execute_input": "2020-10-28T02:24:44.193432Z",
     "iopub.status.busy": "2020-10-28T02:24:44.192532Z",
     "iopub.status.idle": "2020-10-28T02:24:44.196735Z",
     "shell.execute_reply": "2020-10-28T02:24:44.195975Z"
    },
    "papermill": {
     "duration": 0.144294,
     "end_time": "2020-10-28T02:24:44.196867",
     "exception": false,
     "start_time": "2020-10-28T02:24:44.052573",
     "status": "completed"
    },
    "tags": []
   },
   "outputs": [
    {
     "data": {
      "text/plain": [
       "138"
      ]
     },
     "execution_count": 82,
     "metadata": {},
     "output_type": "execute_result"
    }
   ],
   "source": [
    "# to check how many discrete Countries to Analyze\n",
    "\n",
    "companies['country_code'].unique().size"
   ]
  },
  {
   "cell_type": "code",
   "execution_count": null,
   "metadata": {
    "papermill": {
     "duration": 0.1238,
     "end_time": "2020-10-28T02:24:44.445972",
     "exception": false,
     "start_time": "2020-10-28T02:24:44.322172",
     "status": "completed"
    },
    "tags": []
   },
   "outputs": [],
   "source": []
  }
 ],
 "metadata": {
  "kernelspec": {
   "display_name": "Python 3",
   "language": "python",
   "name": "python3"
  },
  "language_info": {
   "codemirror_mode": {
    "name": "ipython",
    "version": 3
   },
   "file_extension": ".py",
   "mimetype": "text/x-python",
   "name": "python",
   "nbconvert_exporter": "python",
   "pygments_lexer": "ipython3",
   "version": "3.7.6"
  },
  "papermill": {
   "duration": 35.188848,
   "end_time": "2020-10-28T02:24:44.679105",
   "environment_variables": {},
   "exception": null,
   "input_path": "__notebook__.ipynb",
   "output_path": "__notebook__.ipynb",
   "parameters": {},
   "start_time": "2020-10-28T02:24:09.490257",
   "version": "2.1.0"
  }
 },
 "nbformat": 4,
 "nbformat_minor": 4
}
